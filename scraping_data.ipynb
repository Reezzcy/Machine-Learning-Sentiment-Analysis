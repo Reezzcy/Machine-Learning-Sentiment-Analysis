{
  "cells": [
    {
      "cell_type": "markdown",
      "metadata": {
        "id": "sX4NMNGdyCgQ"
      },
      "source": [
        "# Proyek Pertama: Analisis Sentimen"
      ]
    },
    {
      "cell_type": "markdown",
      "metadata": {
        "id": "HB3yPgNZyDpN"
      },
      "source": [
        "- Nama: Nicolas Debrito\n",
        "- Email: nicolas.debrito66@gmail.com\n",
        "- ID Dicoding: reezzy"
      ]
    },
    {
      "cell_type": "markdown",
      "metadata": {
        "id": "Guq2UAFoyGxn"
      },
      "source": [
        "## Install Library"
      ]
    },
    {
      "cell_type": "code",
      "execution_count": 42,
      "metadata": {
        "colab": {
          "base_uri": "https://localhost:8080/"
        },
        "id": "RhNQWdtNx-D4",
        "outputId": "f8595e84-3a49-4d1b-a339-80165d41c2af"
      },
      "outputs": [
        {
          "name": "stdout",
          "output_type": "stream",
          "text": [
            "Requirement already satisfied: sastrawi in c:\\users\\nicol\\documents\\scource code\\course\\dicoding - machine learning engineer\\belajar pengembangan machine learning\\submission-sentimen-analisis\\.venv\\lib\\site-packages (1.0.1)\n",
            "Requirement already satisfied: google_play_scraper in c:\\users\\nicol\\documents\\scource code\\course\\dicoding - machine learning engineer\\belajar pengembangan machine learning\\submission-sentimen-analisis\\.venv\\lib\\site-packages (1.2.7)\n"
          ]
        }
      ],
      "source": [
        "!pip install sastrawi\n",
        "!pip install google_play_scraper"
      ]
    },
    {
      "cell_type": "markdown",
      "metadata": {
        "id": "OWARRdiyyKau"
      },
      "source": [
        "## Import Library"
      ]
    },
    {
      "cell_type": "code",
      "execution_count": 43,
      "metadata": {
        "colab": {
          "base_uri": "https://localhost:8080/"
        },
        "id": "Iv2Nho5dyK0K",
        "outputId": "4e6cf8b4-515a-471b-9ee5-04be3aa1663d"
      },
      "outputs": [
        {
          "name": "stderr",
          "output_type": "stream",
          "text": [
            "[nltk_data] Downloading package punkt to\n",
            "[nltk_data]     C:\\Users\\nicol\\AppData\\Roaming\\nltk_data...\n",
            "[nltk_data]   Package punkt is already up-to-date!\n",
            "[nltk_data] Downloading package punkt_tab to\n",
            "[nltk_data]     C:\\Users\\nicol\\AppData\\Roaming\\nltk_data...\n",
            "[nltk_data]   Package punkt_tab is already up-to-date!\n",
            "[nltk_data] Downloading package stopwords to\n",
            "[nltk_data]     C:\\Users\\nicol\\AppData\\Roaming\\nltk_data...\n",
            "[nltk_data]   Package stopwords is already up-to-date!\n"
          ]
        },
        {
          "data": {
            "text/plain": [
              "True"
            ]
          },
          "execution_count": 43,
          "metadata": {},
          "output_type": "execute_result"
        }
      ],
      "source": [
        "import re\n",
        "import string\n",
        "import csv\n",
        "import requests\n",
        "from io import StringIO\n",
        "import numpy as np\n",
        "import pandas as pd\n",
        "import datetime as dt\n",
        "import matplotlib.pyplot as plt\n",
        "import nltk\n",
        "from nltk.tokenize import word_tokenize\n",
        "from nltk.corpus import stopwords\n",
        "from google_play_scraper import app, reviews, Sort, reviews_all\n",
        "from Sastrawi.Stemmer.StemmerFactory import StemmerFactory\n",
        "from Sastrawi.StopWordRemover.StopWordRemoverFactory import StopWordRemoverFactory\n",
        "from sklearn.model_selection import train_test_split\n",
        "import tensorflow as tf\n",
        "from tensorflow.keras.preprocessing.text import Tokenizer\n",
        "from tensorflow.keras.utils import pad_sequences\n",
        "\n",
        "\n",
        "nltk.download('punkt')\n",
        "nltk.download('punkt_tab')\n",
        "nltk.download('stopwords')"
      ]
    },
    {
      "cell_type": "markdown",
      "metadata": {
        "id": "E-SkzlEpyl45"
      },
      "source": [
        "## Scraping Data"
      ]
    },
    {
      "cell_type": "code",
      "execution_count": 44,
      "metadata": {
        "id": "oUSczwnYyoUE"
      },
      "outputs": [],
      "source": [
        "scrapreview = reviews_all(\n",
        "    'com.supercell.clashofclans',\n",
        "    lang='id',\n",
        "    country='id',\n",
        "    sort=Sort.MOST_RELEVANT,\n",
        "    count=10000\n",
        ")"
      ]
    },
    {
      "cell_type": "code",
      "execution_count": 45,
      "metadata": {
        "colab": {
          "base_uri": "https://localhost:8080/",
          "height": 293
        },
        "id": "4RXIGfI6yqw9",
        "outputId": "cbe8f579-5161-4418-ca75-bd389d04ee03"
      },
      "outputs": [
        {
          "data": {
            "application/vnd.microsoft.datawrangler.viewer.v0+json": {
              "columns": [
                {
                  "name": "index",
                  "rawType": "int64",
                  "type": "integer"
                },
                {
                  "name": "reviewId",
                  "rawType": "object",
                  "type": "string"
                },
                {
                  "name": "userName",
                  "rawType": "object",
                  "type": "string"
                },
                {
                  "name": "userImage",
                  "rawType": "object",
                  "type": "string"
                },
                {
                  "name": "content",
                  "rawType": "object",
                  "type": "string"
                },
                {
                  "name": "score",
                  "rawType": "int64",
                  "type": "integer"
                },
                {
                  "name": "thumbsUpCount",
                  "rawType": "int64",
                  "type": "integer"
                },
                {
                  "name": "reviewCreatedVersion",
                  "rawType": "object",
                  "type": "string"
                },
                {
                  "name": "at",
                  "rawType": "datetime64[ns]",
                  "type": "datetime"
                },
                {
                  "name": "replyContent",
                  "rawType": "object",
                  "type": "unknown"
                },
                {
                  "name": "repliedAt",
                  "rawType": "object",
                  "type": "unknown"
                },
                {
                  "name": "appVersion",
                  "rawType": "object",
                  "type": "string"
                }
              ],
              "conversionMethod": "pd.DataFrame",
              "ref": "f4011cbb-ee90-49b9-9c60-8a011cadae3e",
              "rows": [
                [
                  "0",
                  "6cedfaca-247b-4209-a285-39d04ab59e63",
                  "Pengguna Google",
                  "https://play-lh.googleusercontent.com/EGemoI2NTXmTsBVtJqk8jxF9rh8ApRWfsIMQSt2uE4OcpQqbFu7f7NbTK05lx80nuSijCz7sc3a277R67g",
                  "Clash of clans sekarang sering gangguan atau lose connect, padahal sinyalnya bagus, sering ngebug juga ni game, bosen sekarang main, gak stabil, ada juga yang kalau kita ngeup pasukan atau pertahanan lama sekali, ditambah dengan biaya upgradenya sangatlah mhl, kita bangun permainan ini lama sekali, kalau diserang gampang rata, karena lawannya yang tidak seimbang, disaat kita yang nyerang, lawannya malah gak rata alias beda level TH, tolonglah untuk developer untuk kasih keringanan. Terima kasih.",
                  "2",
                  "1980",
                  "16.654.16",
                  "2024-12-14 19:45:20",
                  null,
                  null,
                  "16.654.16"
                ],
                [
                  "1",
                  "7d669783-6878-4bda-a5be-1381b11ec532",
                  "Pengguna Google",
                  "https://play-lh.googleusercontent.com/EGemoI2NTXmTsBVtJqk8jxF9rh8ApRWfsIMQSt2uE4OcpQqbFu7f7NbTK05lx80nuSijCz7sc3a277R67g",
                  "Update bug update terbaru : 1.utk pelatihan pasukan masih memakai waktu, 2. log in sering force close. 3.Mesin pengepungan TH 17 jika diserang atau menyerang , kapasitas berkurang 2 meskipun saat menyerang menggunakan 1 kapasitas. mohon supercell utk bug perbaikannnya.thx",
                  "3",
                  "6",
                  "17.126.6",
                  "2025-03-26 19:16:26",
                  null,
                  null,
                  "17.126.6"
                ],
                [
                  "2",
                  "2c5f4c06-e407-4fbf-a1a2-b22c42fc2a6f",
                  "Pengguna Google",
                  "https://play-lh.googleusercontent.com/EGemoI2NTXmTsBVtJqk8jxF9rh8ApRWfsIMQSt2uE4OcpQqbFu7f7NbTK05lx80nuSijCz7sc3a277R67g",
                  "Yth SuperCell, Coba buat suatu gebrakan yang berbeda, saran saya tolong buatkan tampilan desa menjadi 3D, agar terlihat lebih hidup, membuat kontrol agar bisa menyerang dari berbagai posisi setiap sudut dari 3D agar lebih seru saat menjarah desa pemain lain. Bintang akan saya kasih full jika saran saya terealisasi kan!",
                  "4",
                  "7",
                  "17.126.6",
                  "2025-03-27 06:47:16",
                  null,
                  null,
                  "17.126.6"
                ],
                [
                  "3",
                  "f846cef1-1211-41e2-97f8-87012065b2ac",
                  "Pengguna Google",
                  "https://play-lh.googleusercontent.com/EGemoI2NTXmTsBVtJqk8jxF9rh8ApRWfsIMQSt2uE4OcpQqbFu7f7NbTK05lx80nuSijCz7sc3a277R67g",
                  "aku kurangin bintang nya satu jadi bintang empat. keluhan permasalahan 1. semakin besar TH semakin lama pula waktu pembangunan. kalo bisa jangan terlalu lama lah waktu pembangunan. 2. kalo menang war bintang tiga sedikit sekali trophy yang didapat. giliran kalah banyak kali trophy yang berkurang. ada aku lihat kalo menang war bintang 3 cuma dapat trophy sebiji doang. tolong lebih adil lagi trophy nya",
                  "4",
                  "3",
                  "17.126.6",
                  "2025-03-28 17:41:24",
                  null,
                  null,
                  "17.126.6"
                ],
                [
                  "4",
                  "0098ea38-7a6c-46cf-a33b-e2ad29744b90",
                  "Pengguna Google",
                  "https://play-lh.googleusercontent.com/EGemoI2NTXmTsBVtJqk8jxF9rh8ApRWfsIMQSt2uE4OcpQqbFu7f7NbTK05lx80nuSijCz7sc3a277R67g",
                  "Game nya makin lama makin aneh karena: 1. Trofinya sedikit kali 2. TH musuh kadang 2 TH di atas TH saya 3. Kadang katanya ada kesalahan yang muncul di saat lagi war dan harus login ulang dimana bukannya trofi tambah malah minus Makin update rasanya makin aneh game ini dan hal ga penting pun ditambahi",
                  "1",
                  "147",
                  "17.126.6",
                  "2025-03-27 15:58:38",
                  null,
                  null,
                  "17.126.6"
                ]
              ],
              "shape": {
                "columns": 11,
                "rows": 5
              }
            },
            "text/html": [
              "<div>\n",
              "<style scoped>\n",
              "    .dataframe tbody tr th:only-of-type {\n",
              "        vertical-align: middle;\n",
              "    }\n",
              "\n",
              "    .dataframe tbody tr th {\n",
              "        vertical-align: top;\n",
              "    }\n",
              "\n",
              "    .dataframe thead th {\n",
              "        text-align: right;\n",
              "    }\n",
              "</style>\n",
              "<table border=\"1\" class=\"dataframe\">\n",
              "  <thead>\n",
              "    <tr style=\"text-align: right;\">\n",
              "      <th></th>\n",
              "      <th>reviewId</th>\n",
              "      <th>userName</th>\n",
              "      <th>userImage</th>\n",
              "      <th>content</th>\n",
              "      <th>score</th>\n",
              "      <th>thumbsUpCount</th>\n",
              "      <th>reviewCreatedVersion</th>\n",
              "      <th>at</th>\n",
              "      <th>replyContent</th>\n",
              "      <th>repliedAt</th>\n",
              "      <th>appVersion</th>\n",
              "    </tr>\n",
              "  </thead>\n",
              "  <tbody>\n",
              "    <tr>\n",
              "      <th>0</th>\n",
              "      <td>6cedfaca-247b-4209-a285-39d04ab59e63</td>\n",
              "      <td>Pengguna Google</td>\n",
              "      <td>https://play-lh.googleusercontent.com/EGemoI2N...</td>\n",
              "      <td>Clash of clans sekarang sering gangguan atau l...</td>\n",
              "      <td>2</td>\n",
              "      <td>1980</td>\n",
              "      <td>16.654.16</td>\n",
              "      <td>2024-12-14 19:45:20</td>\n",
              "      <td>None</td>\n",
              "      <td>None</td>\n",
              "      <td>16.654.16</td>\n",
              "    </tr>\n",
              "    <tr>\n",
              "      <th>1</th>\n",
              "      <td>7d669783-6878-4bda-a5be-1381b11ec532</td>\n",
              "      <td>Pengguna Google</td>\n",
              "      <td>https://play-lh.googleusercontent.com/EGemoI2N...</td>\n",
              "      <td>Update bug update terbaru : 1.utk pelatihan pa...</td>\n",
              "      <td>3</td>\n",
              "      <td>6</td>\n",
              "      <td>17.126.6</td>\n",
              "      <td>2025-03-26 19:16:26</td>\n",
              "      <td>None</td>\n",
              "      <td>None</td>\n",
              "      <td>17.126.6</td>\n",
              "    </tr>\n",
              "    <tr>\n",
              "      <th>2</th>\n",
              "      <td>2c5f4c06-e407-4fbf-a1a2-b22c42fc2a6f</td>\n",
              "      <td>Pengguna Google</td>\n",
              "      <td>https://play-lh.googleusercontent.com/EGemoI2N...</td>\n",
              "      <td>Yth SuperCell, Coba buat suatu gebrakan yang b...</td>\n",
              "      <td>4</td>\n",
              "      <td>7</td>\n",
              "      <td>17.126.6</td>\n",
              "      <td>2025-03-27 06:47:16</td>\n",
              "      <td>None</td>\n",
              "      <td>None</td>\n",
              "      <td>17.126.6</td>\n",
              "    </tr>\n",
              "    <tr>\n",
              "      <th>3</th>\n",
              "      <td>f846cef1-1211-41e2-97f8-87012065b2ac</td>\n",
              "      <td>Pengguna Google</td>\n",
              "      <td>https://play-lh.googleusercontent.com/EGemoI2N...</td>\n",
              "      <td>aku kurangin bintang nya satu jadi bintang emp...</td>\n",
              "      <td>4</td>\n",
              "      <td>3</td>\n",
              "      <td>17.126.6</td>\n",
              "      <td>2025-03-28 17:41:24</td>\n",
              "      <td>None</td>\n",
              "      <td>None</td>\n",
              "      <td>17.126.6</td>\n",
              "    </tr>\n",
              "    <tr>\n",
              "      <th>4</th>\n",
              "      <td>0098ea38-7a6c-46cf-a33b-e2ad29744b90</td>\n",
              "      <td>Pengguna Google</td>\n",
              "      <td>https://play-lh.googleusercontent.com/EGemoI2N...</td>\n",
              "      <td>Game nya makin lama makin aneh karena: 1. Trof...</td>\n",
              "      <td>1</td>\n",
              "      <td>147</td>\n",
              "      <td>17.126.6</td>\n",
              "      <td>2025-03-27 15:58:38</td>\n",
              "      <td>None</td>\n",
              "      <td>None</td>\n",
              "      <td>17.126.6</td>\n",
              "    </tr>\n",
              "  </tbody>\n",
              "</table>\n",
              "</div>"
            ],
            "text/plain": [
              "                               reviewId         userName  \\\n",
              "0  6cedfaca-247b-4209-a285-39d04ab59e63  Pengguna Google   \n",
              "1  7d669783-6878-4bda-a5be-1381b11ec532  Pengguna Google   \n",
              "2  2c5f4c06-e407-4fbf-a1a2-b22c42fc2a6f  Pengguna Google   \n",
              "3  f846cef1-1211-41e2-97f8-87012065b2ac  Pengguna Google   \n",
              "4  0098ea38-7a6c-46cf-a33b-e2ad29744b90  Pengguna Google   \n",
              "\n",
              "                                           userImage  \\\n",
              "0  https://play-lh.googleusercontent.com/EGemoI2N...   \n",
              "1  https://play-lh.googleusercontent.com/EGemoI2N...   \n",
              "2  https://play-lh.googleusercontent.com/EGemoI2N...   \n",
              "3  https://play-lh.googleusercontent.com/EGemoI2N...   \n",
              "4  https://play-lh.googleusercontent.com/EGemoI2N...   \n",
              "\n",
              "                                             content  score  thumbsUpCount  \\\n",
              "0  Clash of clans sekarang sering gangguan atau l...      2           1980   \n",
              "1  Update bug update terbaru : 1.utk pelatihan pa...      3              6   \n",
              "2  Yth SuperCell, Coba buat suatu gebrakan yang b...      4              7   \n",
              "3  aku kurangin bintang nya satu jadi bintang emp...      4              3   \n",
              "4  Game nya makin lama makin aneh karena: 1. Trof...      1            147   \n",
              "\n",
              "  reviewCreatedVersion                  at replyContent repliedAt appVersion  \n",
              "0            16.654.16 2024-12-14 19:45:20         None      None  16.654.16  \n",
              "1             17.126.6 2025-03-26 19:16:26         None      None   17.126.6  \n",
              "2             17.126.6 2025-03-27 06:47:16         None      None   17.126.6  \n",
              "3             17.126.6 2025-03-28 17:41:24         None      None   17.126.6  \n",
              "4             17.126.6 2025-03-27 15:58:38         None      None   17.126.6  "
            ]
          },
          "execution_count": 45,
          "metadata": {},
          "output_type": "execute_result"
        }
      ],
      "source": [
        "df = pd.DataFrame(scrapreview)\n",
        "df.head()"
      ]
    },
    {
      "cell_type": "code",
      "execution_count": 46,
      "metadata": {
        "colab": {
          "base_uri": "https://localhost:8080/"
        },
        "id": "-_yyd8J0ytWQ",
        "outputId": "ec74dec9-209b-4598-f5c8-83f76aebaa79"
      },
      "outputs": [
        {
          "data": {
            "text/plain": [
              "(49500, 11)"
            ]
          },
          "execution_count": 46,
          "metadata": {},
          "output_type": "execute_result"
        }
      ],
      "source": [
        "df.shape"
      ]
    },
    {
      "cell_type": "code",
      "execution_count": 47,
      "metadata": {
        "colab": {
          "base_uri": "https://localhost:8080/"
        },
        "id": "Ulv29zX5yu6o",
        "outputId": "fafa9e8b-1e4c-4d46-f188-3098e5e3ae69"
      },
      "outputs": [
        {
          "name": "stdout",
          "output_type": "stream",
          "text": [
            "<class 'pandas.core.frame.DataFrame'>\n",
            "RangeIndex: 49500 entries, 0 to 49499\n",
            "Data columns (total 11 columns):\n",
            " #   Column                Non-Null Count  Dtype         \n",
            "---  ------                --------------  -----         \n",
            " 0   reviewId              49500 non-null  object        \n",
            " 1   userName              49500 non-null  object        \n",
            " 2   userImage             49500 non-null  object        \n",
            " 3   content               49500 non-null  object        \n",
            " 4   score                 49500 non-null  int64         \n",
            " 5   thumbsUpCount         49500 non-null  int64         \n",
            " 6   reviewCreatedVersion  38637 non-null  object        \n",
            " 7   at                    49500 non-null  datetime64[ns]\n",
            " 8   replyContent          0 non-null      object        \n",
            " 9   repliedAt             0 non-null      object        \n",
            " 10  appVersion            38637 non-null  object        \n",
            "dtypes: datetime64[ns](1), int64(2), object(8)\n",
            "memory usage: 4.2+ MB\n"
          ]
        }
      ],
      "source": [
        "df.info()"
      ]
    },
    {
      "cell_type": "code",
      "execution_count": 48,
      "metadata": {
        "id": "b90IBnflywWP"
      },
      "outputs": [],
      "source": [
        "df = df.drop_duplicates()"
      ]
    },
    {
      "cell_type": "code",
      "execution_count": 49,
      "metadata": {
        "colab": {
          "base_uri": "https://localhost:8080/"
        },
        "id": "_DlsVU3Byxj1",
        "outputId": "c0c2dc1e-516d-4178-984e-ab6731c92d75"
      },
      "outputs": [
        {
          "name": "stdout",
          "output_type": "stream",
          "text": [
            "Jumlah Ulasan 49500\n",
            "Jumlah Kolom 11\n"
          ]
        }
      ],
      "source": [
        "jumlah_ulasan, jumlah_kolom = df.shape\n",
        "print(\"Jumlah Ulasan\", jumlah_ulasan)\n",
        "print(\"Jumlah Kolom\", jumlah_kolom)"
      ]
    },
    {
      "cell_type": "code",
      "execution_count": 50,
      "metadata": {
        "colab": {
          "base_uri": "https://localhost:8080/",
          "height": 423
        },
        "id": "Wr_73g93yy1L",
        "outputId": "e6061c49-8d20-4c37-ff97-9fe73e471c80"
      },
      "outputs": [
        {
          "data": {
            "application/vnd.microsoft.datawrangler.viewer.v0+json": {
              "columns": [
                {
                  "name": "index",
                  "rawType": "int64",
                  "type": "integer"
                },
                {
                  "name": "review",
                  "rawType": "object",
                  "type": "string"
                }
              ],
              "conversionMethod": "pd.DataFrame",
              "ref": "6b89cc1b-d8c9-443d-81a4-a27c024a4ebf",
              "rows": [
                [
                  "0",
                  "Clash of clans sekarang sering gangguan atau lose connect, padahal sinyalnya bagus, sering ngebug juga ni game, bosen sekarang main, gak stabil, ada juga yang kalau kita ngeup pasukan atau pertahanan lama sekali, ditambah dengan biaya upgradenya sangatlah mhl, kita bangun permainan ini lama sekali, kalau diserang gampang rata, karena lawannya yang tidak seimbang, disaat kita yang nyerang, lawannya malah gak rata alias beda level TH, tolonglah untuk developer untuk kasih keringanan. Terima kasih."
                ],
                [
                  "1",
                  "Update bug update terbaru : 1.utk pelatihan pasukan masih memakai waktu, 2. log in sering force close. 3.Mesin pengepungan TH 17 jika diserang atau menyerang , kapasitas berkurang 2 meskipun saat menyerang menggunakan 1 kapasitas. mohon supercell utk bug perbaikannnya.thx"
                ],
                [
                  "2",
                  "Yth SuperCell, Coba buat suatu gebrakan yang berbeda, saran saya tolong buatkan tampilan desa menjadi 3D, agar terlihat lebih hidup, membuat kontrol agar bisa menyerang dari berbagai posisi setiap sudut dari 3D agar lebih seru saat menjarah desa pemain lain. Bintang akan saya kasih full jika saran saya terealisasi kan!"
                ],
                [
                  "3",
                  "aku kurangin bintang nya satu jadi bintang empat. keluhan permasalahan 1. semakin besar TH semakin lama pula waktu pembangunan. kalo bisa jangan terlalu lama lah waktu pembangunan. 2. kalo menang war bintang tiga sedikit sekali trophy yang didapat. giliran kalah banyak kali trophy yang berkurang. ada aku lihat kalo menang war bintang 3 cuma dapat trophy sebiji doang. tolong lebih adil lagi trophy nya"
                ],
                [
                  "4",
                  "Game nya makin lama makin aneh karena: 1. Trofinya sedikit kali 2. TH musuh kadang 2 TH di atas TH saya 3. Kadang katanya ada kesalahan yang muncul di saat lagi war dan harus login ulang dimana bukannya trofi tambah malah minus Makin update rasanya makin aneh game ini dan hal ga penting pun ditambahi"
                ],
                [
                  "5",
                  "Sejauh ini setelah 9 th bermain baru ini update paling mantap. Mohon di tambah kedepannya, untuk upgrade pagar tanpa builder dan upgrade hero bisa digunakan untuk menyerang. hero sekarang upgradenya makan waktu yg lama sayang susah buat nyerang. Dan jangan ada lagi susah masuk karna alasan sinyal."
                ],
                [
                  "6",
                  "Update kali ini benar benar kacau apalagi tentang fitur dimana tidak perlu waktu untuk memasak troops membuat saya kehilangan niat untuk bermain, Saya sudah main game ini dari awal rilis oleh karena itu saya suka sekali ketika mengumpulkan elixir untuk memasak troops, kemudian harga dihilangkan tapi masih bisa saya maklumi, akan tetapi saat ini saya tidak bisa memaklumi lagi, jangan hanya ingin mempermudah player harus menghapus fitur yang sudah melekat di game. Thanks Goodluck ©o© ~Chief Aerest"
                ],
                [
                  "7",
                  "saya mohon kepada supercell, untuk tidak mempersulit mendapatkan emas di basis tukang karena emas sangat berguna dan penting dalam pembangunan, terlebih harga pembangunannya terlalu mahal sehingga sangat kesulitan dalam membangun termasuk pagar harganya sangat mahal, mohon kerjasamanya. kalau bisa segera diproses!!! dan juga tolong diseimbangkan dalam mencari lawan, jangan disesuaikan dengan tropi. apabila sambungan terputus ketika menyerang, tolong jangan di skip!!"
                ],
                [
                  "8",
                  "Setelah di abdate bukannya malah bagus , penyerangan akhir pekan nya hilang, tolong di perbaiki untuk peningkatan bangunan jgn terlalu lama,sinyal jaringan sering error saat penyerangan tiba\" lag serangan SDH dilakukan padahal belum,,,tambah aneh ini games kayak nya ingin di tinggal penggemar ,,asli tambah lama bukan tambah bagus, tetapi tambah ancur nih games"
                ],
                [
                  "9",
                  "Coc sekarang , mempermudah para pemula yg sekarang bermain coc untuk sangat cepat menuju maks nya. Tapi tanpa sadari coc udah gak ngehargai Kita sebagai Players old , yg dlu dimna kita buat satu pasukan saja sampai full 30menit bahkan lebih , melupakan kita pada zaman nge push, sampai rela2 hampir tiap malam begadang hnya untuk tropy +2 ,+3 atau +5 ,ya klo hoki dapat paus sih dlu pernah dapat +65 ,& dan itu menarik sangat menyenangkan. bintang satu (kecewa) Buat Players old pasti faham."
                ],
                [
                  "10",
                  "update an makin bagus, tapi tolong dong dev ketika kita nyerang terus tiba2 server error/ sinyal ilang, itu pertandingan kalo bisa di lanjutin / masuk kembali dalam pertempuran jangan di skipp! Terimakasih!🙏"
                ],
                [
                  "11",
                  "semakin di update tetap saja ada kekurangan dan membuat game jadi lebih buruk karena ditambah kurang dengan yang tidak berguna dan malah yang berguna ditiadakan, sekarang ramuan latihan malah hilang dari menu promosi mingguan dan di penyimpanan kita, disaat mau percepat latihan kita dipaksa untuk memakai permata karena ramuan latihan sudah tidak ada lagi alias dihapus oleh supercell. Tolong supercell jangan merubah - rubah fitur game karena sangat mengecewakan!!"
                ],
                [
                  "12",
                  "Dari dulu sampai saat ini coc sebenarnya bagus bagus ajh dan lebih berkembang dripada sebelumnya,hanya ada 1 masalah saja yg menurut saya sampai saat ini Masi sering muncul disaat sy bermain game ini.yaitu sering dc disaat lagi attack war maupun attack buat farming.padahal sinyal wifi+data sudah sy terapkan disaat bermain game ini.sebenarnya cuman 1 masalah itu saja yg masi membuat sy terganggu sampai saat ini.selebihnya clash of Clans sangat bagus dari segi apapun.thank you for supercell🤎🤎"
                ],
                [
                  "13",
                  "Awalnya cuma iseng main Clash of Clans, tapi malah ketagihan! Seru banget, dari bangun desa, atur pertahanan, sampai nyusun strategi buat nyerang desa orang lain. Apalagi kalau ikut Clan Wars, deg-degan nunggu hasil perang. Kadang menang, kadang kalah, tapi tetap nagih banget! Yang bikin betah, update-nya selalu fresh, jadi gak pernah bosen. Grafisnya keren, efek pasukannya mantap, terutama Dragon & Electro Titan. Gak harus top up buat jago, cukup sabar & rajin main. Pokoknya wajib nyoba sih 🔥"
                ],
                [
                  "14",
                  "tolong dong, untuk peningkatan level di laboratorium dapat ditingkatkan untuk bisa meningkatkan lebih dari 2 peningkatan sekaligus. terkadang level pertahanan udah max, tapi masih ragu mau upgrade TH akibat peleton dan mantra belum ikutan max"
                ],
                [
                  "15",
                  "setelah update match making nya makin gak imbang , perolehan trophy untuk B1 dan B2 nya makin dikit , jadi makin susah buat push trophy . sistem penghapusan durasi pembuatan troops spell dll di hilangkan jadi kurang greget . kayak hilang aja feel coc nya🙏"
                ],
                [
                  "16",
                  "Seminggu update bisa 2x. Tp tetap saja tidak ada perubahan. Malah tropy yang didapat semakin kecil. Untuk SuperCell maap bintang saya kurangi... Kalau effek pelontar blm hilang knp waktu masih 1menit lebih tiba2 sudah 0 menitnya. Upgrade terlalu mahal dan lama. Tropy juga sedikit. Nyerang paling banyak 20 tropy itupun jarang. Tp klo diserang, lawan dpt bs 30 smpe 40 tropy. Mohon untuk diperbaiki🙏"
                ],
                [
                  "17",
                  "ini beneran waktu masak di ilangin?, bukannya itu jadi salah satu karakteristik dari coc sendiri, memang dengan menghilangkan waktu masak itu dapat mempermudah player lain untuk nyerang dan mencari gold atau elixir lebih cepat. tapi, apakah itu ga bikin player cepat bosan?, lebih di pikirkan saja, karena yang bikin asik di coc dari dulu itu, terimakasih 🙏"
                ],
                [
                  "18",
                  "game ini masalahnya cuma 1, yaitu lose connect tiba-tiba yang tidak diperbaiki-perbaiki sampe sekarang, itu sangat mengganggu sekali saat war/menyerang, selebihnya oke, tolong perbaiki lah supercell"
                ],
                [
                  "19",
                  "Kebanyakan update btw. Tiap minggu disuruh update teruss, tapi bug nya masih tetap sama, suka keluar game mulu ditengah serangan. tapi pas masuk gak bisa nyerang lagi krn katanya peleton masih bertarung, apa sihh😌"
                ],
                [
                  "20",
                  "saya adalah pemain setia COC.. tapi saya kurang suka dengan aturan2 baru yang sering berubah2 seperti hasil war yang dapat full bintang dengan serangan lebih sedikit dengan lawan yg dengan serangan lebih banyak tapi hasil jadi seri..."
                ],
                [
                  "21",
                  "semenjak game ini di tingggalkan ada banyak perubahan yg dilakukan pengembang menurutku kebodohan yg masih dipelihara supercell adalah peningkatan hero dengan di palu kepalanya dan heronya tidak bisa dipakai saran saya lakukan seperti peningkatan pasukan riset hero seperti lagi gym pembentukan fisik dan hero tetap bisa di pakai selama peningkatan terima kasih"
                ],
                [
                  "22",
                  "sering kali kalau di tengah pertempuran jaringan langsung down dan tiba tiba restart ke awal game pasukan sih balik lagi tapi base musuhnya itu loh padahal udah lama dicari cari tapi seenak jidat restart sendiri perbaiki dulu deh supercell"
                ],
                [
                  "23",
                  "Bagus, tapi masih bisa ditingkatkan seperti kalau kita lagi nyerang dan kita terpaksa keluar karena server putus atau jaringan hilang kalau bisa serangan itu dilanjutkan jangan langsung terskip, kan gak enak lagi nyerang war langsung keluar dan terskip"
                ],
                [
                  "24",
                  "parah ! waktu training dihapus memang bagus, tapi musuhnya jangan 2 LV town hall lebih tinggi juga bahkan max. konten kreator bilang pakai sistem duplikat base, tapi kenapa tidak dikasih base dengan LV th yang sama. baru up th 13 troops dn bangunan masih th 12 kok malah (selalu) dikasih lawan th 15 max, meleleh pasukanku. tolong lah di liga atas bisa gitu dikasih lawan yg setara LV th-nya"
                ],
                [
                  "25",
                  "update macam apa ni gabisa lagi mempercepat atk desa malam dengan cara close gamenya, ada waktu kalau belum selesai pasukan selesai tempur coba, update atk kalau lose connect, kita masuk lagi masih bisa di connect kin lagi si mantap 😑"
                ],
                [
                  "26",
                  "habis update aplikasi masalah tropy di liga legendaris sekali serang dapat 2bintang hasilnya sedikit bgt tropy nya sedangkan base kita di serang turun nya tropy besar banget gk barter gtu.. kalau begini biarin aja gak usah kejar tropy.. hmm jadi kurang semangat mainya,, masuk cuma buat up2 aja ginimah"
                ],
                [
                  "27",
                  "bagus lah game nya lebih menarik juga karena banyak yang baru, tapi matchmaking nya kurang banget masa saya th11 di kasih lawan th14 keatas mana bisa gitu, tolong perbaikin lah ini sistem matchmaking nya, kalau sudah di perbaikin saya tambah jadi bintang 5"
                ],
                [
                  "28",
                  "saya kasih bintang satu karna ada masalah di game nya. 1. kalau mau war musuh tidak sesuai dengan TH kita. 2. sering sekali sambungan terputus dan sangat menganggu apa lagi pas lagi WAR. 3. Pembaruan yang tidak penting tapi harus di download. 4. sagat tidak kompeten saat mencarikan lawan, sebagai contoh, TH saya 10 dan saya mencari lawan ketemu dengan TH 15 Max. harusnya musuh sesuai TH bukan di sesuaikan dengan banyaknya tetopi. dan itu terjadi di basis tukang dan di desa asal."
                ],
                [
                  "29",
                  "tolong dong buat developernya, kenapa setelah update kemarin kalo attack bintang 1 atau 2 dapet trofinya dikit, sedangkan sebelum update banyak, tolong bhat developernya diperbaiki lagi, jangan diubah ubah, buat saya yg type push trofi susah kalau begini terus"
                ],
                [
                  "30",
                  "update kali ini sedikit mengecewakan si, masa tempat masak atau tombol untuk masak ramuan sama peleton atau tombol latihan atau apalah, masa ada gambar wajah barbariannya mana jelek lagi, bikin risih tahu di lihatnya, balikin seperti semula tombolnya gak?!😭👊"
                ],
                [
                  "31",
                  "game nya bagus ,secara grafik maupun gameplay ,hanya saja perbaiki bug seperti sambungan terputus di tengah war dll ,sekarang coc jadi tambah mudah di era baru ini ,terima kasih supercell😁🦅🔥"
                ],
                [
                  "32",
                  "update terbaru kenapa gak ada ramuan percepat? nyari tropi susah,biarpun 99 persen bintang tetap sedikit,meski tropi yg kita serang lbih tinggi dan bnyak, gak kayak dulu, tropi yg di dapat sesuai persen serangan😣"
                ],
                [
                  "33",
                  "kepada pihak supercel saya sudah lama bermain clash of clans sejak 2018 dan sampai sekarang pun saya masih bermain, kali ini saya ingin memberikan saran kepada supercell untuk menambahkan atau memperbesar ruang yang berada di desa asal, saya sangat merasakan setiap ada update terbaru tentang penambahan bangunan apapun itu menjadi semakin sempit, dan tidak itu saja, saya jadi tidak bisa berkreatifitas membangun base lebih leluasa, bukan malah menghapus bangunan tertentu. terimakasih"
                ],
                [
                  "34",
                  "gamenya sudah bagus. tapi tolong perbaiki masalah sambungan, ketika terputus jangan relog . tapi tetap didalam gamenya nunggu jaringan stabil/terhubung kembali. supaya ketika farming/war tidak mengganggu, yang mengakibatkan tidak sempurnanya serangan. itu saja, selebihnya sudah bagus......"
                ],
                [
                  "35",
                  "kenapa setiap mau menyerang seringnya muncul th yg lebih tinggi dari th milik sendiri, waktu th 11 sering muncul th 12 ketika th 12 sering muncul th 13, kalo kayak gini kan waktunya cuma habis buat pencarian terus menerus bikin lama sedangkan mencari lawan munculnya itu2 aja yg diatas th kita, tolong lah dipermudah!!!"
                ],
                [
                  "36",
                  "Dari segi permainan bagus. Tapi dari keseimbangan rank Legend (Multiplayer) kurang. Saya TH 12.. saat gabung di rank Legend, kenapa saya harus dihadapkan dengan TH 14 yang jauh lebih tinggi dan kuat dari saya.? Mohon perbaiki mengenai keseimbangan di rank Legend berdasarkan tinggi TH pemain. Dan sering juga lost connect saat war multiplayer atau versus, mohon keseimbangan dan perbaikan koneksinya.. Saya tunggu perkembanganya. Itu saja, terimakasih.."
                ],
                [
                  "37",
                  "Kok sering banget masalah jaringan sih. Buat main game MPV lain lancar banget internet. Bahkan game PC . Ini kenapa di COC suka putus di tengah pertandingan? Pasukan belum keluar semua malah putus koneksi. edit: akhirnya ada perbaikan. tapi kok gambarnya jadi sering burik ya 😁 tapi gpp. yg penting ga putus lagi"
                ],
                [
                  "38",
                  "❤❤❤❤❤ mulai suka lagi.... kalo boleh saran : 1. turunkan harga tembok 2. untuk menonton live desa d serang setidak nya beri emot 😁🤣😭😥😳 agar bisa memberi reaksi saat meneonton desa di serang lawan. 3. kalo bisa memilih desa teman atau orang lain untuk di serang... agar bisa berlatih pertahanan. 4. percepat waktu peningkatan. yg aku suka : 1. kek ada elit pas ny gt😁 2. melatih tentara gk butuh wktu lama lebih sering berperng mencari emas dan eleksir🥰"
                ],
                [
                  "39",
                  "Untuk supercell, di update terbaru COC kali ini saya menemukan BUG. Yaitu ketika kondisi spell dan mesin pengepungan masih belum di pakai di CC, dan ketika pemain hanya request troops saja. Tetapi di pihak si pendonasi malah terdeteksi tidak ada spell dan mesin pengepungan sama sekali sehingga harus double mendonasikan spell dan mesin pengepungan yang harusnya masih ada malah hilang. jika ingin terimakasih kirimkan 1500 gems ke akun saya #VU9VCLUJ"
                ],
                [
                  "40",
                  "Perbaiki Bug sambungan terputus dan juga serverr sedang erorr saya setiap war clan selalu kaya gini jadi udah muak banget lgi enak nge attack musuh malah disconnect,niat nya mau nostalgia malah ga seru klo kaya gini. (Mohon untuk segera di lakukan perbaikan untuk bug ataupun server error')"
                ],
                [
                  "41",
                  "Seperti komenan orang-orang lainnya, semoga dibaca sama Supercell. Jaringan selalu tiba-tiba hilang, kayak pattern, setiap udah nyerang beberapa kali, pasti jaringan tiba2 ilang. Aneh banget. Supercell mikir ga si? Rasanya mikirin strategi lama banget terus pas nyerang tiba-tiba jaringan ilang? Padahal jaringan aman aja lancar banget, tapi selalu lose connection."
                ],
                [
                  "42",
                  "min Coc saya kenapa nih Setiap Saya perang Ada aja Gangguannya contohnya Gini min ( kesalahan ) klien server tidak sinkron! pembaruan terkini yang mencakup bug dan beberapa perombakan telah tersedia di toko Aplikasi, saya kasih Bintang 3 dulu ya min🙏"
                ],
                [
                  "43",
                  "Sering ada masalah dengan koneksi wifi dan jaringan seluler sama saja .. bug juga ada, saya mengupload tentang bug itu di YouTube dan video di takedown... Satu lagi terkadang saat log in game freez.. saya menggunakan device dengan chipset dimensity 1080, itu bukan chipset kentang..."
                ],
                [
                  "44",
                  "Game sering banget relog pas mau nyerang, tiba-tiba muncul pesan ‘Klien dan server tidak sinkron’ terus langsung keluar sendiri. Ini bikin rugi banget, apalagi pas lagi war atau cari loot. Udah coba koneksi stabil dan update terbaru, tapi tetap aja kejadian. Tolong segera diperbaiki biar mainnya nggak terganggu. Terima kasih!"
                ],
                [
                  "45",
                  "padahal dulu game prioritas. tapi sekarang kayaknya enggak. di karenakan tiap bulan pasti update, dan tolong masalah jaringan nya. kalau attc war langsung lost connect. harusnya jangan seperti itu. karena waktu attack war seperti itu otomatis pemain langsung kecewa. . mohon kalau jaringan tidak stabil jangan langsung keluar"
                ],
                [
                  "46",
                  "Gameplay nya udah bagus,tapi setidaknya untuk search match dan hadiah trofinya dapat diperbaiki.masa iya,kita yang melawan musuh dengan level ibu kota lebih tinggi hanya mendapat 3 trofi.giliran orang lain yang menyerang kita dengan level ibu kota yang lebih tinggi malah diberi trofi yang banyak."
                ],
                [
                  "47",
                  "tolonglah perbaiki tentang masalah supercell id, misalnya kaya bug kode verif ga muncul, trus sy mau masukkan akun sy yg lain, pas masuk ke supercell id tiba\" lag, patah\", padahal di gameplay nya ga lag, tolonglah min, sy main coc udh dari lama, tolong perbaiki."
                ],
                [
                  "48",
                  "Kalo boleh, untuk pihak supercell waktu hero di up tetap bisa di gunakan dan dimainkan seperti event kemarin waktu hero tetap bisa di gunakan walau sedang di up bedanya ini permanen jadi gk ada batas waktu dan sistem nya bukan event tapi penyesuaian baru"
                ],
                [
                  "49",
                  "Kekuranganya dari game ini Waktu upgrade nya agak lama okelah saya masih bisa. Dan kekurangan ke 2 ketika waktu nyerang entah itu bug atau apa. Bisa kaya bingungan. Awal nyerang target A bisa berubah haluan jadi B yang di serang. Hadeh. itu aja komplain dari saya terima kasih. semoga bisa di terima dan dapat perbaikan."
                ]
              ],
              "shape": {
                "columns": 1,
                "rows": 12000
              }
            },
            "text/html": [
              "<div>\n",
              "<style scoped>\n",
              "    .dataframe tbody tr th:only-of-type {\n",
              "        vertical-align: middle;\n",
              "    }\n",
              "\n",
              "    .dataframe tbody tr th {\n",
              "        vertical-align: top;\n",
              "    }\n",
              "\n",
              "    .dataframe thead th {\n",
              "        text-align: right;\n",
              "    }\n",
              "</style>\n",
              "<table border=\"1\" class=\"dataframe\">\n",
              "  <thead>\n",
              "    <tr style=\"text-align: right;\">\n",
              "      <th></th>\n",
              "      <th>review</th>\n",
              "    </tr>\n",
              "  </thead>\n",
              "  <tbody>\n",
              "    <tr>\n",
              "      <th>0</th>\n",
              "      <td>Clash of clans sekarang sering gangguan atau l...</td>\n",
              "    </tr>\n",
              "    <tr>\n",
              "      <th>1</th>\n",
              "      <td>Update bug update terbaru : 1.utk pelatihan pa...</td>\n",
              "    </tr>\n",
              "    <tr>\n",
              "      <th>2</th>\n",
              "      <td>Yth SuperCell, Coba buat suatu gebrakan yang b...</td>\n",
              "    </tr>\n",
              "    <tr>\n",
              "      <th>3</th>\n",
              "      <td>aku kurangin bintang nya satu jadi bintang emp...</td>\n",
              "    </tr>\n",
              "    <tr>\n",
              "      <th>4</th>\n",
              "      <td>Game nya makin lama makin aneh karena: 1. Trof...</td>\n",
              "    </tr>\n",
              "    <tr>\n",
              "      <th>...</th>\n",
              "      <td>...</td>\n",
              "    </tr>\n",
              "    <tr>\n",
              "      <th>11995</th>\n",
              "      <td>Maaf supercell pembaruannya kurang bagus.. Apa...</td>\n",
              "    </tr>\n",
              "    <tr>\n",
              "      <th>11996</th>\n",
              "      <td>update gamenya terlalu sering, Yang bagus cuma...</td>\n",
              "    </tr>\n",
              "    <tr>\n",
              "      <th>11997</th>\n",
              "      <td>Please Kembalikan barak !, Karena itu adalah s...</td>\n",
              "    </tr>\n",
              "    <tr>\n",
              "      <th>11998</th>\n",
              "      <td>Untuk game COC ini seru, menantang, dan bertah...</td>\n",
              "    </tr>\n",
              "    <tr>\n",
              "      <th>11999</th>\n",
              "      <td>saya mau protes atas pembaruan kali ini.udah d...</td>\n",
              "    </tr>\n",
              "  </tbody>\n",
              "</table>\n",
              "<p>12000 rows × 1 columns</p>\n",
              "</div>"
            ],
            "text/plain": [
              "                                                  review\n",
              "0      Clash of clans sekarang sering gangguan atau l...\n",
              "1      Update bug update terbaru : 1.utk pelatihan pa...\n",
              "2      Yth SuperCell, Coba buat suatu gebrakan yang b...\n",
              "3      aku kurangin bintang nya satu jadi bintang emp...\n",
              "4      Game nya makin lama makin aneh karena: 1. Trof...\n",
              "...                                                  ...\n",
              "11995  Maaf supercell pembaruannya kurang bagus.. Apa...\n",
              "11996  update gamenya terlalu sering, Yang bagus cuma...\n",
              "11997  Please Kembalikan barak !, Karena itu adalah s...\n",
              "11998  Untuk game COC ini seru, menantang, dan bertah...\n",
              "11999  saya mau protes atas pembaruan kali ini.udah d...\n",
              "\n",
              "[12000 rows x 1 columns]"
            ]
          },
          "execution_count": 50,
          "metadata": {},
          "output_type": "execute_result"
        }
      ],
      "source": [
        "clean_df = df[['content']]\n",
        "clean_df = clean_df.rename(columns={\"content\": \"review\"})\n",
        "clean_df = clean_df.head(12000)\n",
        "clean_df"
      ]
    },
    {
      "cell_type": "markdown",
      "metadata": {
        "id": "QLm51RYZy314"
      },
      "source": [
        "## Preprocessing Data"
      ]
    },
    {
      "cell_type": "code",
      "execution_count": 51,
      "metadata": {
        "id": "5djolTZFyzJA"
      },
      "outputs": [],
      "source": [
        "def cleaningText(text):\n",
        "    emoticon_pattern = re.compile(\n",
        "        \"[\"u\"\\U0001F600-\\U0001F64F\"\n",
        "        u\"\\U0001F300-\\U0001F5FF\"\n",
        "        u\"\\U0001F680-\\U0001F6FF\"\n",
        "        u\"\\U0001F1E0-\\U0001F1FF\"\n",
        "        u\"\\U00002702-\\U000027B0\"\n",
        "        u\"\\U000024C2-\\U0001F251\"\n",
        "        \"]+\", flags=re.UNICODE)\n",
        "\n",
        "    text = emoticon_pattern.sub(r'', text)\n",
        "    text = re.sub(r'@[A-Za-z0-9]+', '', text)  # Menghapus mention (@username)\n",
        "    text = re.sub(r'#[A-Za-z0-9]+', '', text)  # Menghapus hashtag\n",
        "    text = re.sub(r'RT[\\s]', '', text)  # Menghapus RT (Retweet)\n",
        "    text = re.sub(r\"http\\S+\", '', text)  # Menghapus URL\n",
        "    text = re.sub(r'[0-9]+', '', text)  # Menghapus angka\n",
        "    text = re.sub(r'[^\\w\\s]', '', text)  # Menghapus karakter non-alfanumerik\n",
        "\n",
        "    text = text.replace('\\n', ' ')  # Menghapus newline\n",
        "    text = text.translate(str.maketrans('', '', string.punctuation))  # Menghapus tanda baca\n",
        "    text = text.strip()  # Menghapus spasi ekstra di awal & akhir\n",
        "\n",
        "    return text\n",
        "\n",
        "def casefoldingText(text):\n",
        "    return text.lower()\n",
        "\n",
        "slangwords = {\n",
        "    \"@\": \"di\", \"abis\": \"habis\", \"wtb\": \"beli\", \"masi\": \"masih\",\n",
        "    \"wts\": \"jual\", \"wtt\": \"tukar\", \"bgt\": \"banget\", \"maks\": \"maksimal\",\n",
        "    \"gg\": \"hebat\", \"noob\": \"pemula\", \"op\": \"terlalu kuat\", \"ez\": \"mudah\"\n",
        "}\n",
        "\n",
        "def fix_slangwords(text):\n",
        "    words = text.lower().split()  # Konversi ke lowercase lebih awal\n",
        "    fixed_words = [slangwords.get(word, word) for word in words]\n",
        "    return ' '.join(fixed_words)\n",
        "\n",
        "def tokenizingText(text):\n",
        "    return word_tokenize(text)  # Pastikan nltk.download('punkt') telah dilakukan\n",
        "\n",
        "def filteringText(text):\n",
        "    factory = StopWordRemoverFactory()\n",
        "    listStopwords = set(factory.get_stop_words())  # Stopword bahasa Indonesia\n",
        "    listStopwords1 = set(stopwords.words('english'))  # Stopword bahasa Inggris\n",
        "\n",
        "    # Menambahkan stopword tambahan\n",
        "    listStopwords.update(listStopwords1)\n",
        "    listStopwords.update(['iya','yaa','gak','nya','na','sih','ku',\"di\",\"ga\",\n",
        "                          \"ya\",\"gaa\",\"loh\",\"kah\",\"woi\",\"woii\",\"woy\"])\n",
        "\n",
        "    return [word for word in text if word not in listStopwords]\n",
        "\n",
        "factory = StemmerFactory()\n",
        "stemmer = factory.create_stemmer()\n",
        "\n",
        "def stemmingText(text):\n",
        "    return ' '.join(stemmer.stem(word) for word in text)"
      ]
    },
    {
      "cell_type": "code",
      "execution_count": 52,
      "metadata": {
        "colab": {
          "base_uri": "https://localhost:8080/",
          "height": 389
        },
        "id": "HaaD7xjbyy3y",
        "outputId": "bc951469-f53a-4188-9d4d-98761829ea4a"
      },
      "outputs": [],
      "source": [
        "clean_df['text_clean'] = clean_df['review'].apply(cleaningText)\n",
        "clean_df['text_casefoldingText'] = clean_df['text_clean'].apply(casefoldingText)\n",
        "clean_df['text_slangwords'] = clean_df['text_casefoldingText'].apply(fix_slangwords)\n",
        "clean_df['text_tokenizingText'] = clean_df['text_slangwords'].apply(tokenizingText)\n",
        "clean_df['text_stopword'] = clean_df['text_tokenizingText'].apply(filteringText)\n",
        "clean_df['text_stemming'] = clean_df['text_stopword'].apply(stemmingText)"
      ]
    },
    {
      "cell_type": "code",
      "execution_count": 53,
      "metadata": {
        "id": "4t3jyoNSy-Qs"
      },
      "outputs": [
        {
          "data": {
            "application/vnd.microsoft.datawrangler.viewer.v0+json": {
              "columns": [
                {
                  "name": "index",
                  "rawType": "int64",
                  "type": "integer"
                },
                {
                  "name": "review",
                  "rawType": "object",
                  "type": "string"
                },
                {
                  "name": "text_clean",
                  "rawType": "object",
                  "type": "string"
                },
                {
                  "name": "text_casefoldingText",
                  "rawType": "object",
                  "type": "string"
                },
                {
                  "name": "text_slangwords",
                  "rawType": "object",
                  "type": "string"
                },
                {
                  "name": "text_tokenizingText",
                  "rawType": "object",
                  "type": "unknown"
                },
                {
                  "name": "text_stopword",
                  "rawType": "object",
                  "type": "unknown"
                },
                {
                  "name": "text_stemming",
                  "rawType": "object",
                  "type": "string"
                }
              ],
              "conversionMethod": "pd.DataFrame",
              "ref": "44b79d3e-bfc2-4fca-a8cb-f2e0a6ceac49",
              "rows": [
                [
                  "0",
                  "Clash of clans sekarang sering gangguan atau lose connect, padahal sinyalnya bagus, sering ngebug juga ni game, bosen sekarang main, gak stabil, ada juga yang kalau kita ngeup pasukan atau pertahanan lama sekali, ditambah dengan biaya upgradenya sangatlah mhl, kita bangun permainan ini lama sekali, kalau diserang gampang rata, karena lawannya yang tidak seimbang, disaat kita yang nyerang, lawannya malah gak rata alias beda level TH, tolonglah untuk developer untuk kasih keringanan. Terima kasih.",
                  "Clash of clans sekarang sering gangguan atau lose connect padahal sinyalnya bagus sering ngebug juga ni game bosen sekarang main gak stabil ada juga yang kalau kita ngeup pasukan atau pertahanan lama sekali ditambah dengan biaya upgradenya sangatlah mhl kita bangun permainan ini lama sekali kalau diserang gampang rata karena lawannya yang tidak seimbang disaat kita yang nyerang lawannya malah gak rata alias beda level TH tolonglah untuk developer untuk kasih keringanan Terima kasih",
                  "clash of clans sekarang sering gangguan atau lose connect padahal sinyalnya bagus sering ngebug juga ni game bosen sekarang main gak stabil ada juga yang kalau kita ngeup pasukan atau pertahanan lama sekali ditambah dengan biaya upgradenya sangatlah mhl kita bangun permainan ini lama sekali kalau diserang gampang rata karena lawannya yang tidak seimbang disaat kita yang nyerang lawannya malah gak rata alias beda level th tolonglah untuk developer untuk kasih keringanan terima kasih",
                  "clash of clans sekarang sering gangguan atau lose connect padahal sinyalnya bagus sering ngebug juga ni game bosen sekarang main gak stabil ada juga yang kalau kita ngeup pasukan atau pertahanan lama sekali ditambah dengan biaya upgradenya sangatlah mhl kita bangun permainan ini lama sekali kalau diserang gampang rata karena lawannya yang tidak seimbang disaat kita yang nyerang lawannya malah gak rata alias beda level th tolonglah untuk developer untuk kasih keringanan terima kasih",
                  "['clash', 'of', 'clans', 'sekarang', 'sering', 'gangguan', 'atau', 'lose', 'connect', 'padahal', 'sinyalnya', 'bagus', 'sering', 'ngebug', 'juga', 'ni', 'game', 'bosen', 'sekarang', 'main', 'gak', 'stabil', 'ada', 'juga', 'yang', 'kalau', 'kita', 'ngeup', 'pasukan', 'atau', 'pertahanan', 'lama', 'sekali', 'ditambah', 'dengan', 'biaya', 'upgradenya', 'sangatlah', 'mhl', 'kita', 'bangun', 'permainan', 'ini', 'lama', 'sekali', 'kalau', 'diserang', 'gampang', 'rata', 'karena', 'lawannya', 'yang', 'tidak', 'seimbang', 'disaat', 'kita', 'yang', 'nyerang', 'lawannya', 'malah', 'gak', 'rata', 'alias', 'beda', 'level', 'th', 'tolonglah', 'untuk', 'developer', 'untuk', 'kasih', 'keringanan', 'terima', 'kasih']",
                  "['clash', 'clans', 'sekarang', 'sering', 'gangguan', 'lose', 'connect', 'padahal', 'sinyalnya', 'bagus', 'sering', 'ngebug', 'ni', 'game', 'bosen', 'sekarang', 'main', 'stabil', 'kalau', 'ngeup', 'pasukan', 'pertahanan', 'lama', 'sekali', 'ditambah', 'biaya', 'upgradenya', 'sangatlah', 'mhl', 'bangun', 'permainan', 'lama', 'sekali', 'kalau', 'diserang', 'gampang', 'rata', 'lawannya', 'seimbang', 'disaat', 'nyerang', 'lawannya', 'malah', 'rata', 'alias', 'beda', 'level', 'th', 'tolonglah', 'developer', 'kasih', 'keringanan', 'terima', 'kasih']",
                  "clash clans sekarang sering ganggu lose connect padahal sinyal bagus sering ngebug ni game bosen sekarang main stabil kalau ngeup pasu tahan lama sekali tambah biaya upgradenya sangat mhl bangun main lama sekali kalau serang gampang rata lawan imbang saat nyerang lawan malah rata alias beda level th tolong developer kasih ringan terima kasih"
                ],
                [
                  "1",
                  "Update bug update terbaru : 1.utk pelatihan pasukan masih memakai waktu, 2. log in sering force close. 3.Mesin pengepungan TH 17 jika diserang atau menyerang , kapasitas berkurang 2 meskipun saat menyerang menggunakan 1 kapasitas. mohon supercell utk bug perbaikannnya.thx",
                  "Update bug update terbaru  utk pelatihan pasukan masih memakai waktu  log in sering force close Mesin pengepungan TH  jika diserang atau menyerang  kapasitas berkurang  meskipun saat menyerang menggunakan  kapasitas mohon supercell utk bug perbaikannnyathx",
                  "update bug update terbaru  utk pelatihan pasukan masih memakai waktu  log in sering force close mesin pengepungan th  jika diserang atau menyerang  kapasitas berkurang  meskipun saat menyerang menggunakan  kapasitas mohon supercell utk bug perbaikannnyathx",
                  "update bug update terbaru utk pelatihan pasukan masih memakai waktu log in sering force close mesin pengepungan th jika diserang atau menyerang kapasitas berkurang meskipun saat menyerang menggunakan kapasitas mohon supercell utk bug perbaikannnyathx",
                  "['update', 'bug', 'update', 'terbaru', 'utk', 'pelatihan', 'pasukan', 'masih', 'memakai', 'waktu', 'log', 'in', 'sering', 'force', 'close', 'mesin', 'pengepungan', 'th', 'jika', 'diserang', 'atau', 'menyerang', 'kapasitas', 'berkurang', 'meskipun', 'saat', 'menyerang', 'menggunakan', 'kapasitas', 'mohon', 'supercell', 'utk', 'bug', 'perbaikannnyathx']",
                  "['update', 'bug', 'update', 'terbaru', 'utk', 'pelatihan', 'pasukan', 'memakai', 'waktu', 'log', 'sering', 'force', 'close', 'mesin', 'pengepungan', 'th', 'diserang', 'menyerang', 'kapasitas', 'berkurang', 'meskipun', 'menyerang', 'menggunakan', 'kapasitas', 'mohon', 'supercell', 'utk', 'bug', 'perbaikannnyathx']",
                  "update bug update baru utk latih pasu pakai waktu log sering force close mesin kepung th serang serang kapasitas kurang meski serang guna kapasitas mohon supercell utk bug perbaikannnyathx"
                ],
                [
                  "2",
                  "Yth SuperCell, Coba buat suatu gebrakan yang berbeda, saran saya tolong buatkan tampilan desa menjadi 3D, agar terlihat lebih hidup, membuat kontrol agar bisa menyerang dari berbagai posisi setiap sudut dari 3D agar lebih seru saat menjarah desa pemain lain. Bintang akan saya kasih full jika saran saya terealisasi kan!",
                  "Yth SuperCell Coba buat suatu gebrakan yang berbeda saran saya tolong buatkan tampilan desa menjadi D agar terlihat lebih hidup membuat kontrol agar bisa menyerang dari berbagai posisi setiap sudut dari D agar lebih seru saat menjarah desa pemain lain Bintang akan saya kasih full jika saran saya terealisasi kan",
                  "yth supercell coba buat suatu gebrakan yang berbeda saran saya tolong buatkan tampilan desa menjadi d agar terlihat lebih hidup membuat kontrol agar bisa menyerang dari berbagai posisi setiap sudut dari d agar lebih seru saat menjarah desa pemain lain bintang akan saya kasih full jika saran saya terealisasi kan",
                  "yth supercell coba buat suatu gebrakan yang berbeda saran saya tolong buatkan tampilan desa menjadi d agar terlihat lebih hidup membuat kontrol agar bisa menyerang dari berbagai posisi setiap sudut dari d agar lebih seru saat menjarah desa pemain lain bintang akan saya kasih full jika saran saya terealisasi kan",
                  "['yth', 'supercell', 'coba', 'buat', 'suatu', 'gebrakan', 'yang', 'berbeda', 'saran', 'saya', 'tolong', 'buatkan', 'tampilan', 'desa', 'menjadi', 'd', 'agar', 'terlihat', 'lebih', 'hidup', 'membuat', 'kontrol', 'agar', 'bisa', 'menyerang', 'dari', 'berbagai', 'posisi', 'setiap', 'sudut', 'dari', 'd', 'agar', 'lebih', 'seru', 'saat', 'menjarah', 'desa', 'pemain', 'lain', 'bintang', 'akan', 'saya', 'kasih', 'full', 'jika', 'saran', 'saya', 'terealisasi', 'kan']",
                  "['yth', 'supercell', 'coba', 'buat', 'suatu', 'gebrakan', 'berbeda', 'saran', 'buatkan', 'tampilan', 'desa', 'menjadi', 'terlihat', 'lebih', 'hidup', 'membuat', 'kontrol', 'menyerang', 'berbagai', 'posisi', 'sudut', 'lebih', 'seru', 'menjarah', 'desa', 'pemain', 'bintang', 'kasih', 'full', 'saran', 'terealisasi', 'kan']",
                  "yth supercell coba buat suatu gebrak beda saran buat tampil desa jadi lihat lebih hidup buat kontrol serang bagai posisi sudut lebih seru jarah desa main bintang kasih full saran realisasi kan"
                ],
                [
                  "3",
                  "aku kurangin bintang nya satu jadi bintang empat. keluhan permasalahan 1. semakin besar TH semakin lama pula waktu pembangunan. kalo bisa jangan terlalu lama lah waktu pembangunan. 2. kalo menang war bintang tiga sedikit sekali trophy yang didapat. giliran kalah banyak kali trophy yang berkurang. ada aku lihat kalo menang war bintang 3 cuma dapat trophy sebiji doang. tolong lebih adil lagi trophy nya",
                  "aku kurangin bintang nya satu jadi bintang empat keluhan permasalahan  semakin besar TH semakin lama pula waktu pembangunan kalo bisa jangan terlalu lama lah waktu pembangunan  kalo menang war bintang tiga sedikit sekali trophy yang didapat giliran kalah banyak kali trophy yang berkurang ada aku lihat kalo menang war bintang  cuma dapat trophy sebiji doang tolong lebih adil lagi trophy nya",
                  "aku kurangin bintang nya satu jadi bintang empat keluhan permasalahan  semakin besar th semakin lama pula waktu pembangunan kalo bisa jangan terlalu lama lah waktu pembangunan  kalo menang war bintang tiga sedikit sekali trophy yang didapat giliran kalah banyak kali trophy yang berkurang ada aku lihat kalo menang war bintang  cuma dapat trophy sebiji doang tolong lebih adil lagi trophy nya",
                  "aku kurangin bintang nya satu jadi bintang empat keluhan permasalahan semakin besar th semakin lama pula waktu pembangunan kalo bisa jangan terlalu lama lah waktu pembangunan kalo menang war bintang tiga sedikit sekali trophy yang didapat giliran kalah banyak kali trophy yang berkurang ada aku lihat kalo menang war bintang cuma dapat trophy sebiji doang tolong lebih adil lagi trophy nya",
                  "['aku', 'kurangin', 'bintang', 'nya', 'satu', 'jadi', 'bintang', 'empat', 'keluhan', 'permasalahan', 'semakin', 'besar', 'th', 'semakin', 'lama', 'pula', 'waktu', 'pembangunan', 'kalo', 'bisa', 'jangan', 'terlalu', 'lama', 'lah', 'waktu', 'pembangunan', 'kalo', 'menang', 'war', 'bintang', 'tiga', 'sedikit', 'sekali', 'trophy', 'yang', 'didapat', 'giliran', 'kalah', 'banyak', 'kali', 'trophy', 'yang', 'berkurang', 'ada', 'aku', 'lihat', 'kalo', 'menang', 'war', 'bintang', 'cuma', 'dapat', 'trophy', 'sebiji', 'doang', 'tolong', 'lebih', 'adil', 'lagi', 'trophy', 'nya']",
                  "['aku', 'kurangin', 'bintang', 'satu', 'jadi', 'bintang', 'empat', 'keluhan', 'permasalahan', 'semakin', 'besar', 'th', 'semakin', 'lama', 'waktu', 'pembangunan', 'kalo', 'jangan', 'terlalu', 'lama', 'lah', 'waktu', 'pembangunan', 'kalo', 'menang', 'war', 'bintang', 'tiga', 'sedikit', 'sekali', 'trophy', 'didapat', 'giliran', 'kalah', 'banyak', 'kali', 'trophy', 'berkurang', 'aku', 'lihat', 'kalo', 'menang', 'war', 'bintang', 'cuma', 'trophy', 'sebiji', 'doang', 'lebih', 'adil', 'trophy']",
                  "aku rangin bintang satu jadi bintang empat keluh masalah makin besar th makin lama waktu bangun kalo jangan terlalu lama lah waktu bangun kalo menang war bintang tiga sedikit sekali trophy dapat gilir kalah banyak kali trophy kurang aku lihat kalo menang war bintang cuma trophy biji doang lebih adil trophy"
                ],
                [
                  "4",
                  "Game nya makin lama makin aneh karena: 1. Trofinya sedikit kali 2. TH musuh kadang 2 TH di atas TH saya 3. Kadang katanya ada kesalahan yang muncul di saat lagi war dan harus login ulang dimana bukannya trofi tambah malah minus Makin update rasanya makin aneh game ini dan hal ga penting pun ditambahi",
                  "Game nya makin lama makin aneh karena  Trofinya sedikit kali  TH musuh kadang  TH di atas TH saya  Kadang katanya ada kesalahan yang muncul di saat lagi war dan harus login ulang dimana bukannya trofi tambah malah minus Makin update rasanya makin aneh game ini dan hal ga penting pun ditambahi",
                  "game nya makin lama makin aneh karena  trofinya sedikit kali  th musuh kadang  th di atas th saya  kadang katanya ada kesalahan yang muncul di saat lagi war dan harus login ulang dimana bukannya trofi tambah malah minus makin update rasanya makin aneh game ini dan hal ga penting pun ditambahi",
                  "game nya makin lama makin aneh karena trofinya sedikit kali th musuh kadang th di atas th saya kadang katanya ada kesalahan yang muncul di saat lagi war dan harus login ulang dimana bukannya trofi tambah malah minus makin update rasanya makin aneh game ini dan hal ga penting pun ditambahi",
                  "['game', 'nya', 'makin', 'lama', 'makin', 'aneh', 'karena', 'trofinya', 'sedikit', 'kali', 'th', 'musuh', 'kadang', 'th', 'di', 'atas', 'th', 'saya', 'kadang', 'katanya', 'ada', 'kesalahan', 'yang', 'muncul', 'di', 'saat', 'lagi', 'war', 'dan', 'harus', 'login', 'ulang', 'dimana', 'bukannya', 'trofi', 'tambah', 'malah', 'minus', 'makin', 'update', 'rasanya', 'makin', 'aneh', 'game', 'ini', 'dan', 'hal', 'ga', 'penting', 'pun', 'ditambahi']",
                  "['game', 'makin', 'lama', 'makin', 'aneh', 'trofinya', 'sedikit', 'kali', 'th', 'musuh', 'kadang', 'th', 'atas', 'th', 'kadang', 'katanya', 'kesalahan', 'muncul', 'war', 'login', 'ulang', 'bukannya', 'trofi', 'tambah', 'malah', 'minus', 'makin', 'update', 'rasanya', 'makin', 'aneh', 'game', 'penting', 'ditambahi']",
                  "game makin lama makin aneh trofi sedikit kali th musuh kadang th atas th kadang kata salah muncul war login ulang bukan trofi tambah malah minus makin update rasa makin aneh game penting tambah"
                ],
                [
                  "5",
                  "Sejauh ini setelah 9 th bermain baru ini update paling mantap. Mohon di tambah kedepannya, untuk upgrade pagar tanpa builder dan upgrade hero bisa digunakan untuk menyerang. hero sekarang upgradenya makan waktu yg lama sayang susah buat nyerang. Dan jangan ada lagi susah masuk karna alasan sinyal.",
                  "Sejauh ini setelah  th bermain baru ini update paling mantap Mohon di tambah kedepannya untuk upgrade pagar tanpa builder dan upgrade hero bisa digunakan untuk menyerang hero sekarang upgradenya makan waktu yg lama sayang susah buat nyerang Dan jangan ada lagi susah masuk karna alasan sinyal",
                  "sejauh ini setelah  th bermain baru ini update paling mantap mohon di tambah kedepannya untuk upgrade pagar tanpa builder dan upgrade hero bisa digunakan untuk menyerang hero sekarang upgradenya makan waktu yg lama sayang susah buat nyerang dan jangan ada lagi susah masuk karna alasan sinyal",
                  "sejauh ini setelah th bermain baru ini update paling mantap mohon di tambah kedepannya untuk upgrade pagar tanpa builder dan upgrade hero bisa digunakan untuk menyerang hero sekarang upgradenya makan waktu yg lama sayang susah buat nyerang dan jangan ada lagi susah masuk karna alasan sinyal",
                  "['sejauh', 'ini', 'setelah', 'th', 'bermain', 'baru', 'ini', 'update', 'paling', 'mantap', 'mohon', 'di', 'tambah', 'kedepannya', 'untuk', 'upgrade', 'pagar', 'tanpa', 'builder', 'dan', 'upgrade', 'hero', 'bisa', 'digunakan', 'untuk', 'menyerang', 'hero', 'sekarang', 'upgradenya', 'makan', 'waktu', 'yg', 'lama', 'sayang', 'susah', 'buat', 'nyerang', 'dan', 'jangan', 'ada', 'lagi', 'susah', 'masuk', 'karna', 'alasan', 'sinyal']",
                  "['sejauh', 'th', 'bermain', 'baru', 'update', 'paling', 'mantap', 'mohon', 'tambah', 'kedepannya', 'upgrade', 'pagar', 'builder', 'upgrade', 'hero', 'digunakan', 'menyerang', 'hero', 'sekarang', 'upgradenya', 'makan', 'waktu', 'yg', 'lama', 'sayang', 'susah', 'buat', 'nyerang', 'jangan', 'susah', 'masuk', 'karna', 'alasan', 'sinyal']",
                  "jauh th main baru update paling mantap mohon tambah depan upgrade pagar builder upgrade hero guna serang hero sekarang upgradenya makan waktu yg lama sayang susah buat nyerang jangan susah masuk karna alas sinyal"
                ],
                [
                  "6",
                  "Update kali ini benar benar kacau apalagi tentang fitur dimana tidak perlu waktu untuk memasak troops membuat saya kehilangan niat untuk bermain, Saya sudah main game ini dari awal rilis oleh karena itu saya suka sekali ketika mengumpulkan elixir untuk memasak troops, kemudian harga dihilangkan tapi masih bisa saya maklumi, akan tetapi saat ini saya tidak bisa memaklumi lagi, jangan hanya ingin mempermudah player harus menghapus fitur yang sudah melekat di game. Thanks Goodluck ©o© ~Chief Aerest",
                  "Update kali ini benar benar kacau apalagi tentang fitur dimana tidak perlu waktu untuk memasak troops membuat saya kehilangan niat untuk bermain Saya sudah main game ini dari awal rilis oleh karena itu saya suka sekali ketika mengumpulkan elixir untuk memasak troops kemudian harga dihilangkan tapi masih bisa saya maklumi akan tetapi saat ini saya tidak bisa memaklumi lagi jangan hanya ingin mempermudah player harus menghapus fitur yang sudah melekat di game Thanks Goodluck o Chief Aerest",
                  "update kali ini benar benar kacau apalagi tentang fitur dimana tidak perlu waktu untuk memasak troops membuat saya kehilangan niat untuk bermain saya sudah main game ini dari awal rilis oleh karena itu saya suka sekali ketika mengumpulkan elixir untuk memasak troops kemudian harga dihilangkan tapi masih bisa saya maklumi akan tetapi saat ini saya tidak bisa memaklumi lagi jangan hanya ingin mempermudah player harus menghapus fitur yang sudah melekat di game thanks goodluck o chief aerest",
                  "update kali ini benar benar kacau apalagi tentang fitur dimana tidak perlu waktu untuk memasak troops membuat saya kehilangan niat untuk bermain saya sudah main game ini dari awal rilis oleh karena itu saya suka sekali ketika mengumpulkan elixir untuk memasak troops kemudian harga dihilangkan tapi masih bisa saya maklumi akan tetapi saat ini saya tidak bisa memaklumi lagi jangan hanya ingin mempermudah player harus menghapus fitur yang sudah melekat di game thanks goodluck o chief aerest",
                  "['update', 'kali', 'ini', 'benar', 'benar', 'kacau', 'apalagi', 'tentang', 'fitur', 'dimana', 'tidak', 'perlu', 'waktu', 'untuk', 'memasak', 'troops', 'membuat', 'saya', 'kehilangan', 'niat', 'untuk', 'bermain', 'saya', 'sudah', 'main', 'game', 'ini', 'dari', 'awal', 'rilis', 'oleh', 'karena', 'itu', 'saya', 'suka', 'sekali', 'ketika', 'mengumpulkan', 'elixir', 'untuk', 'memasak', 'troops', 'kemudian', 'harga', 'dihilangkan', 'tapi', 'masih', 'bisa', 'saya', 'maklumi', 'akan', 'tetapi', 'saat', 'ini', 'saya', 'tidak', 'bisa', 'memaklumi', 'lagi', 'jangan', 'hanya', 'ingin', 'mempermudah', 'player', 'harus', 'menghapus', 'fitur', 'yang', 'sudah', 'melekat', 'di', 'game', 'thanks', 'goodluck', 'o', 'chief', 'aerest']",
                  "['update', 'kali', 'benar', 'benar', 'kacau', 'fitur', 'perlu', 'waktu', 'memasak', 'troops', 'membuat', 'kehilangan', 'niat', 'bermain', 'main', 'game', 'awal', 'rilis', 'suka', 'sekali', 'mengumpulkan', 'elixir', 'memasak', 'troops', 'kemudian', 'harga', 'dihilangkan', 'maklumi', 'memaklumi', 'jangan', 'mempermudah', 'player', 'menghapus', 'fitur', 'melekat', 'game', 'thanks', 'goodluck', 'chief', 'aerest']",
                  "update kali benar benar kacau fitur perlu waktu masak troops buat hilang niat main main game awal rilis suka sekali kumpul elixir masak troops kemudian harga hilang maklum maklum jangan mudah player hapus fitur lekat game thanks goodluck chief aerest"
                ],
                [
                  "7",
                  "saya mohon kepada supercell, untuk tidak mempersulit mendapatkan emas di basis tukang karena emas sangat berguna dan penting dalam pembangunan, terlebih harga pembangunannya terlalu mahal sehingga sangat kesulitan dalam membangun termasuk pagar harganya sangat mahal, mohon kerjasamanya. kalau bisa segera diproses!!! dan juga tolong diseimbangkan dalam mencari lawan, jangan disesuaikan dengan tropi. apabila sambungan terputus ketika menyerang, tolong jangan di skip!!",
                  "saya mohon kepada supercell untuk tidak mempersulit mendapatkan emas di basis tukang karena emas sangat berguna dan penting dalam pembangunan terlebih harga pembangunannya terlalu mahal sehingga sangat kesulitan dalam membangun termasuk pagar harganya sangat mahal mohon kerjasamanya kalau bisa segera diproses dan juga tolong diseimbangkan dalam mencari lawan jangan disesuaikan dengan tropi apabila sambungan terputus ketika menyerang tolong jangan di skip",
                  "saya mohon kepada supercell untuk tidak mempersulit mendapatkan emas di basis tukang karena emas sangat berguna dan penting dalam pembangunan terlebih harga pembangunannya terlalu mahal sehingga sangat kesulitan dalam membangun termasuk pagar harganya sangat mahal mohon kerjasamanya kalau bisa segera diproses dan juga tolong diseimbangkan dalam mencari lawan jangan disesuaikan dengan tropi apabila sambungan terputus ketika menyerang tolong jangan di skip",
                  "saya mohon kepada supercell untuk tidak mempersulit mendapatkan emas di basis tukang karena emas sangat berguna dan penting dalam pembangunan terlebih harga pembangunannya terlalu mahal sehingga sangat kesulitan dalam membangun termasuk pagar harganya sangat mahal mohon kerjasamanya kalau bisa segera diproses dan juga tolong diseimbangkan dalam mencari lawan jangan disesuaikan dengan tropi apabila sambungan terputus ketika menyerang tolong jangan di skip",
                  "['saya', 'mohon', 'kepada', 'supercell', 'untuk', 'tidak', 'mempersulit', 'mendapatkan', 'emas', 'di', 'basis', 'tukang', 'karena', 'emas', 'sangat', 'berguna', 'dan', 'penting', 'dalam', 'pembangunan', 'terlebih', 'harga', 'pembangunannya', 'terlalu', 'mahal', 'sehingga', 'sangat', 'kesulitan', 'dalam', 'membangun', 'termasuk', 'pagar', 'harganya', 'sangat', 'mahal', 'mohon', 'kerjasamanya', 'kalau', 'bisa', 'segera', 'diproses', 'dan', 'juga', 'tolong', 'diseimbangkan', 'dalam', 'mencari', 'lawan', 'jangan', 'disesuaikan', 'dengan', 'tropi', 'apabila', 'sambungan', 'terputus', 'ketika', 'menyerang', 'tolong', 'jangan', 'di', 'skip']",
                  "['mohon', 'supercell', 'mempersulit', 'mendapatkan', 'emas', 'basis', 'tukang', 'emas', 'sangat', 'berguna', 'penting', 'pembangunan', 'terlebih', 'harga', 'pembangunannya', 'terlalu', 'mahal', 'sangat', 'kesulitan', 'membangun', 'termasuk', 'pagar', 'harganya', 'sangat', 'mahal', 'mohon', 'kerjasamanya', 'kalau', 'segera', 'diproses', 'diseimbangkan', 'mencari', 'lawan', 'jangan', 'disesuaikan', 'tropi', 'apabila', 'sambungan', 'terputus', 'menyerang', 'jangan', 'skip']",
                  "mohon supercell sulit dapat emas basis tukang emas sangat guna penting bangun lebih harga bangun terlalu mahal sangat sulit bangun masuk pagar harga sangat mahal mohon kerjasamanya kalau segera proses imbang cari lawan jangan sesuai tropi apabila sambung putus serang jangan skip"
                ],
                [
                  "8",
                  "Setelah di abdate bukannya malah bagus , penyerangan akhir pekan nya hilang, tolong di perbaiki untuk peningkatan bangunan jgn terlalu lama,sinyal jaringan sering error saat penyerangan tiba\" lag serangan SDH dilakukan padahal belum,,,tambah aneh ini games kayak nya ingin di tinggal penggemar ,,asli tambah lama bukan tambah bagus, tetapi tambah ancur nih games",
                  "Setelah di abdate bukannya malah bagus  penyerangan akhir pekan nya hilang tolong di perbaiki untuk peningkatan bangunan jgn terlalu lamasinyal jaringan sering error saat penyerangan tiba lag serangan SDH dilakukan padahal belumtambah aneh ini games kayak nya ingin di tinggal penggemar asli tambah lama bukan tambah bagus tetapi tambah ancur nih games",
                  "setelah di abdate bukannya malah bagus  penyerangan akhir pekan nya hilang tolong di perbaiki untuk peningkatan bangunan jgn terlalu lamasinyal jaringan sering error saat penyerangan tiba lag serangan sdh dilakukan padahal belumtambah aneh ini games kayak nya ingin di tinggal penggemar asli tambah lama bukan tambah bagus tetapi tambah ancur nih games",
                  "setelah di abdate bukannya malah bagus penyerangan akhir pekan nya hilang tolong di perbaiki untuk peningkatan bangunan jgn terlalu lamasinyal jaringan sering error saat penyerangan tiba lag serangan sdh dilakukan padahal belumtambah aneh ini games kayak nya ingin di tinggal penggemar asli tambah lama bukan tambah bagus tetapi tambah ancur nih games",
                  "['setelah', 'di', 'abdate', 'bukannya', 'malah', 'bagus', 'penyerangan', 'akhir', 'pekan', 'nya', 'hilang', 'tolong', 'di', 'perbaiki', 'untuk', 'peningkatan', 'bangunan', 'jgn', 'terlalu', 'lamasinyal', 'jaringan', 'sering', 'error', 'saat', 'penyerangan', 'tiba', 'lag', 'serangan', 'sdh', 'dilakukan', 'padahal', 'belumtambah', 'aneh', 'ini', 'games', 'kayak', 'nya', 'ingin', 'di', 'tinggal', 'penggemar', 'asli', 'tambah', 'lama', 'bukan', 'tambah', 'bagus', 'tetapi', 'tambah', 'ancur', 'nih', 'games']",
                  "['abdate', 'bukannya', 'malah', 'bagus', 'penyerangan', 'akhir', 'pekan', 'hilang', 'perbaiki', 'peningkatan', 'bangunan', 'jgn', 'terlalu', 'lamasinyal', 'jaringan', 'sering', 'error', 'penyerangan', 'tiba', 'lag', 'serangan', 'sdh', 'dilakukan', 'padahal', 'belumtambah', 'aneh', 'games', 'kayak', 'tinggal', 'penggemar', 'asli', 'tambah', 'lama', 'bukan', 'tambah', 'bagus', 'tambah', 'ancur', 'nih', 'games']",
                  "abdate bukan malah bagus serang akhir pekan hilang baik tingkat bangun jgn terlalu lamasinyal jaring sering error serang tiba lag serang sdh laku padahal belumtambah aneh games kayak tinggal gemar asli tambah lama bukan tambah bagus tambah ancur nih games"
                ],
                [
                  "9",
                  "Coc sekarang , mempermudah para pemula yg sekarang bermain coc untuk sangat cepat menuju maks nya. Tapi tanpa sadari coc udah gak ngehargai Kita sebagai Players old , yg dlu dimna kita buat satu pasukan saja sampai full 30menit bahkan lebih , melupakan kita pada zaman nge push, sampai rela2 hampir tiap malam begadang hnya untuk tropy +2 ,+3 atau +5 ,ya klo hoki dapat paus sih dlu pernah dapat +65 ,& dan itu menarik sangat menyenangkan. bintang satu (kecewa) Buat Players old pasti faham.",
                  "Coc sekarang  mempermudah para pemula yg sekarang bermain coc untuk sangat cepat menuju maks nya Tapi tanpa sadari coc udah gak ngehargai Kita sebagai Players old  yg dlu dimna kita buat satu pasukan saja sampai full menit bahkan lebih  melupakan kita pada zaman nge push sampai rela hampir tiap malam begadang hnya untuk tropy   atau  ya klo hoki dapat paus sih dlu pernah dapat   dan itu menarik sangat menyenangkan bintang satu kecewa Buat Players old pasti faham",
                  "coc sekarang  mempermudah para pemula yg sekarang bermain coc untuk sangat cepat menuju maks nya tapi tanpa sadari coc udah gak ngehargai kita sebagai players old  yg dlu dimna kita buat satu pasukan saja sampai full menit bahkan lebih  melupakan kita pada zaman nge push sampai rela hampir tiap malam begadang hnya untuk tropy   atau  ya klo hoki dapat paus sih dlu pernah dapat   dan itu menarik sangat menyenangkan bintang satu kecewa buat players old pasti faham",
                  "coc sekarang mempermudah para pemula yg sekarang bermain coc untuk sangat cepat menuju maksimal nya tapi tanpa sadari coc udah gak ngehargai kita sebagai players old yg dlu dimna kita buat satu pasukan saja sampai full menit bahkan lebih melupakan kita pada zaman nge push sampai rela hampir tiap malam begadang hnya untuk tropy atau ya klo hoki dapat paus sih dlu pernah dapat dan itu menarik sangat menyenangkan bintang satu kecewa buat players old pasti faham",
                  "['coc', 'sekarang', 'mempermudah', 'para', 'pemula', 'yg', 'sekarang', 'bermain', 'coc', 'untuk', 'sangat', 'cepat', 'menuju', 'maksimal', 'nya', 'tapi', 'tanpa', 'sadari', 'coc', 'udah', 'gak', 'ngehargai', 'kita', 'sebagai', 'players', 'old', 'yg', 'dlu', 'dimna', 'kita', 'buat', 'satu', 'pasukan', 'saja', 'sampai', 'full', 'menit', 'bahkan', 'lebih', 'melupakan', 'kita', 'pada', 'zaman', 'nge', 'push', 'sampai', 'rela', 'hampir', 'tiap', 'malam', 'begadang', 'hnya', 'untuk', 'tropy', 'atau', 'ya', 'klo', 'hoki', 'dapat', 'paus', 'sih', 'dlu', 'pernah', 'dapat', 'dan', 'itu', 'menarik', 'sangat', 'menyenangkan', 'bintang', 'satu', 'kecewa', 'buat', 'players', 'old', 'pasti', 'faham']",
                  "['coc', 'sekarang', 'mempermudah', 'pemula', 'yg', 'sekarang', 'bermain', 'coc', 'sangat', 'cepat', 'menuju', 'maksimal', 'sadari', 'coc', 'udah', 'ngehargai', 'players', 'old', 'yg', 'dlu', 'dimna', 'buat', 'satu', 'pasukan', 'full', 'menit', 'bahkan', 'lebih', 'melupakan', 'zaman', 'nge', 'push', 'rela', 'hampir', 'tiap', 'malam', 'begadang', 'hnya', 'tropy', 'klo', 'hoki', 'paus', 'dlu', 'pernah', 'menarik', 'sangat', 'menyenangkan', 'bintang', 'satu', 'kecewa', 'buat', 'players', 'old', 'faham']",
                  "coc sekarang mudah mula yg sekarang main coc sangat cepat tuju maksimal sadar coc udah ngehargai players old yg dlu dimna buat satu pasu full menit bahkan lebih lupa zaman nge push rela hampir tiap malam begadang hnya tropy klo hoki paus dlu pernah tarik sangat senang bintang satu kecewa buat players old faham"
                ],
                [
                  "10",
                  "update an makin bagus, tapi tolong dong dev ketika kita nyerang terus tiba2 server error/ sinyal ilang, itu pertandingan kalo bisa di lanjutin / masuk kembali dalam pertempuran jangan di skipp! Terimakasih!🙏",
                  "update an makin bagus tapi tolong dong dev ketika kita nyerang terus tiba server error sinyal ilang itu pertandingan kalo bisa di lanjutin  masuk kembali dalam pertempuran jangan di skipp Terimakasih",
                  "update an makin bagus tapi tolong dong dev ketika kita nyerang terus tiba server error sinyal ilang itu pertandingan kalo bisa di lanjutin  masuk kembali dalam pertempuran jangan di skipp terimakasih",
                  "update an makin bagus tapi tolong dong dev ketika kita nyerang terus tiba server error sinyal ilang itu pertandingan kalo bisa di lanjutin masuk kembali dalam pertempuran jangan di skipp terimakasih",
                  "['update', 'an', 'makin', 'bagus', 'tapi', 'tolong', 'dong', 'dev', 'ketika', 'kita', 'nyerang', 'terus', 'tiba', 'server', 'error', 'sinyal', 'ilang', 'itu', 'pertandingan', 'kalo', 'bisa', 'di', 'lanjutin', 'masuk', 'kembali', 'dalam', 'pertempuran', 'jangan', 'di', 'skipp', 'terimakasih']",
                  "['update', 'makin', 'bagus', 'dong', 'dev', 'nyerang', 'terus', 'tiba', 'server', 'error', 'sinyal', 'ilang', 'pertandingan', 'kalo', 'lanjutin', 'masuk', 'pertempuran', 'jangan', 'skipp', 'terimakasih']",
                  "update makin bagus dong dev nyerang terus tiba server error sinyal ilang tanding kalo lanjutin masuk tempur jangan skipp terimakasih"
                ],
                [
                  "11",
                  "semakin di update tetap saja ada kekurangan dan membuat game jadi lebih buruk karena ditambah kurang dengan yang tidak berguna dan malah yang berguna ditiadakan, sekarang ramuan latihan malah hilang dari menu promosi mingguan dan di penyimpanan kita, disaat mau percepat latihan kita dipaksa untuk memakai permata karena ramuan latihan sudah tidak ada lagi alias dihapus oleh supercell. Tolong supercell jangan merubah - rubah fitur game karena sangat mengecewakan!!",
                  "semakin di update tetap saja ada kekurangan dan membuat game jadi lebih buruk karena ditambah kurang dengan yang tidak berguna dan malah yang berguna ditiadakan sekarang ramuan latihan malah hilang dari menu promosi mingguan dan di penyimpanan kita disaat mau percepat latihan kita dipaksa untuk memakai permata karena ramuan latihan sudah tidak ada lagi alias dihapus oleh supercell Tolong supercell jangan merubah  rubah fitur game karena sangat mengecewakan",
                  "semakin di update tetap saja ada kekurangan dan membuat game jadi lebih buruk karena ditambah kurang dengan yang tidak berguna dan malah yang berguna ditiadakan sekarang ramuan latihan malah hilang dari menu promosi mingguan dan di penyimpanan kita disaat mau percepat latihan kita dipaksa untuk memakai permata karena ramuan latihan sudah tidak ada lagi alias dihapus oleh supercell tolong supercell jangan merubah  rubah fitur game karena sangat mengecewakan",
                  "semakin di update tetap saja ada kekurangan dan membuat game jadi lebih buruk karena ditambah kurang dengan yang tidak berguna dan malah yang berguna ditiadakan sekarang ramuan latihan malah hilang dari menu promosi mingguan dan di penyimpanan kita disaat mau percepat latihan kita dipaksa untuk memakai permata karena ramuan latihan sudah tidak ada lagi alias dihapus oleh supercell tolong supercell jangan merubah rubah fitur game karena sangat mengecewakan",
                  "['semakin', 'di', 'update', 'tetap', 'saja', 'ada', 'kekurangan', 'dan', 'membuat', 'game', 'jadi', 'lebih', 'buruk', 'karena', 'ditambah', 'kurang', 'dengan', 'yang', 'tidak', 'berguna', 'dan', 'malah', 'yang', 'berguna', 'ditiadakan', 'sekarang', 'ramuan', 'latihan', 'malah', 'hilang', 'dari', 'menu', 'promosi', 'mingguan', 'dan', 'di', 'penyimpanan', 'kita', 'disaat', 'mau', 'percepat', 'latihan', 'kita', 'dipaksa', 'untuk', 'memakai', 'permata', 'karena', 'ramuan', 'latihan', 'sudah', 'tidak', 'ada', 'lagi', 'alias', 'dihapus', 'oleh', 'supercell', 'tolong', 'supercell', 'jangan', 'merubah', 'rubah', 'fitur', 'game', 'karena', 'sangat', 'mengecewakan']",
                  "['semakin', 'update', 'tetap', 'kekurangan', 'membuat', 'game', 'jadi', 'lebih', 'buruk', 'ditambah', 'kurang', 'berguna', 'malah', 'berguna', 'ditiadakan', 'sekarang', 'ramuan', 'latihan', 'malah', 'hilang', 'menu', 'promosi', 'mingguan', 'penyimpanan', 'disaat', 'mau', 'percepat', 'latihan', 'dipaksa', 'memakai', 'permata', 'ramuan', 'latihan', 'alias', 'dihapus', 'supercell', 'supercell', 'jangan', 'merubah', 'rubah', 'fitur', 'game', 'sangat', 'mengecewakan']",
                  "makin update tetap kurang buat game jadi lebih buruk tambah kurang guna malah guna tiada sekarang ramu latih malah hilang menu promosi minggu simpan saat mau cepat latih paksa pakai permata ramu latih alias hapus supercell supercell jangan rubah rubah fitur game sangat kecewa"
                ],
                [
                  "12",
                  "Dari dulu sampai saat ini coc sebenarnya bagus bagus ajh dan lebih berkembang dripada sebelumnya,hanya ada 1 masalah saja yg menurut saya sampai saat ini Masi sering muncul disaat sy bermain game ini.yaitu sering dc disaat lagi attack war maupun attack buat farming.padahal sinyal wifi+data sudah sy terapkan disaat bermain game ini.sebenarnya cuman 1 masalah itu saja yg masi membuat sy terganggu sampai saat ini.selebihnya clash of Clans sangat bagus dari segi apapun.thank you for supercell🤎🤎",
                  "Dari dulu sampai saat ini coc sebenarnya bagus bagus ajh dan lebih berkembang dripada sebelumnyahanya ada  masalah saja yg menurut saya sampai saat ini Masi sering muncul disaat sy bermain game iniyaitu sering dc disaat lagi attack war maupun attack buat farmingpadahal sinyal wifidata sudah sy terapkan disaat bermain game inisebenarnya cuman  masalah itu saja yg masi membuat sy terganggu sampai saat iniselebihnya clash of Clans sangat bagus dari segi apapunthank you for supercell",
                  "dari dulu sampai saat ini coc sebenarnya bagus bagus ajh dan lebih berkembang dripada sebelumnyahanya ada  masalah saja yg menurut saya sampai saat ini masi sering muncul disaat sy bermain game iniyaitu sering dc disaat lagi attack war maupun attack buat farmingpadahal sinyal wifidata sudah sy terapkan disaat bermain game inisebenarnya cuman  masalah itu saja yg masi membuat sy terganggu sampai saat iniselebihnya clash of clans sangat bagus dari segi apapunthank you for supercell",
                  "dari dulu sampai saat ini coc sebenarnya bagus bagus ajh dan lebih berkembang dripada sebelumnyahanya ada masalah saja yg menurut saya sampai saat ini masih sering muncul disaat sy bermain game iniyaitu sering dc disaat lagi attack war maupun attack buat farmingpadahal sinyal wifidata sudah sy terapkan disaat bermain game inisebenarnya cuman masalah itu saja yg masih membuat sy terganggu sampai saat iniselebihnya clash of clans sangat bagus dari segi apapunthank you for supercell",
                  "['dari', 'dulu', 'sampai', 'saat', 'ini', 'coc', 'sebenarnya', 'bagus', 'bagus', 'ajh', 'dan', 'lebih', 'berkembang', 'dripada', 'sebelumnyahanya', 'ada', 'masalah', 'saja', 'yg', 'menurut', 'saya', 'sampai', 'saat', 'ini', 'masih', 'sering', 'muncul', 'disaat', 'sy', 'bermain', 'game', 'iniyaitu', 'sering', 'dc', 'disaat', 'lagi', 'attack', 'war', 'maupun', 'attack', 'buat', 'farmingpadahal', 'sinyal', 'wifidata', 'sudah', 'sy', 'terapkan', 'disaat', 'bermain', 'game', 'inisebenarnya', 'cuman', 'masalah', 'itu', 'saja', 'yg', 'masih', 'membuat', 'sy', 'terganggu', 'sampai', 'saat', 'iniselebihnya', 'clash', 'of', 'clans', 'sangat', 'bagus', 'dari', 'segi', 'apapunthank', 'you', 'for', 'supercell']",
                  "['dulu', 'coc', 'sebenarnya', 'bagus', 'bagus', 'ajh', 'lebih', 'berkembang', 'dripada', 'sebelumnyahanya', 'masalah', 'yg', 'sering', 'muncul', 'disaat', 'sy', 'bermain', 'game', 'iniyaitu', 'sering', 'dc', 'disaat', 'attack', 'war', 'maupun', 'attack', 'buat', 'farmingpadahal', 'sinyal', 'wifidata', 'sy', 'terapkan', 'disaat', 'bermain', 'game', 'inisebenarnya', 'cuman', 'masalah', 'yg', 'membuat', 'sy', 'terganggu', 'iniselebihnya', 'clash', 'clans', 'sangat', 'bagus', 'segi', 'apapunthank', 'supercell']",
                  "dulu coc benar bagus bagus ajh lebih kembang dripada sebelumnyahanya masalah yg sering muncul saat sy main game iniyaitu sering dc saat attack war maupun attack buat farmingpadahal sinyal wifidata sy terap saat main game inisebenarnya cuman masalah yg buat sy ganggu iniselebihnya clash clans sangat bagus segi apapunthank supercell"
                ],
                [
                  "13",
                  "Awalnya cuma iseng main Clash of Clans, tapi malah ketagihan! Seru banget, dari bangun desa, atur pertahanan, sampai nyusun strategi buat nyerang desa orang lain. Apalagi kalau ikut Clan Wars, deg-degan nunggu hasil perang. Kadang menang, kadang kalah, tapi tetap nagih banget! Yang bikin betah, update-nya selalu fresh, jadi gak pernah bosen. Grafisnya keren, efek pasukannya mantap, terutama Dragon & Electro Titan. Gak harus top up buat jago, cukup sabar & rajin main. Pokoknya wajib nyoba sih 🔥",
                  "Awalnya cuma iseng main Clash of Clans tapi malah ketagihan Seru banget dari bangun desa atur pertahanan sampai nyusun strategi buat nyerang desa orang lain Apalagi kalau ikut Clan Wars degdegan nunggu hasil perang Kadang menang kadang kalah tapi tetap nagih banget Yang bikin betah updatenya selalu fresh jadi gak pernah bosen Grafisnya keren efek pasukannya mantap terutama Dragon  Electro Titan Gak harus top up buat jago cukup sabar  rajin main Pokoknya wajib nyoba sih",
                  "awalnya cuma iseng main clash of clans tapi malah ketagihan seru banget dari bangun desa atur pertahanan sampai nyusun strategi buat nyerang desa orang lain apalagi kalau ikut clan wars degdegan nunggu hasil perang kadang menang kadang kalah tapi tetap nagih banget yang bikin betah updatenya selalu fresh jadi gak pernah bosen grafisnya keren efek pasukannya mantap terutama dragon  electro titan gak harus top up buat jago cukup sabar  rajin main pokoknya wajib nyoba sih",
                  "awalnya cuma iseng main clash of clans tapi malah ketagihan seru banget dari bangun desa atur pertahanan sampai nyusun strategi buat nyerang desa orang lain apalagi kalau ikut clan wars degdegan nunggu hasil perang kadang menang kadang kalah tapi tetap nagih banget yang bikin betah updatenya selalu fresh jadi gak pernah bosen grafisnya keren efek pasukannya mantap terutama dragon electro titan gak harus top up buat jago cukup sabar rajin main pokoknya wajib nyoba sih",
                  "['awalnya', 'cuma', 'iseng', 'main', 'clash', 'of', 'clans', 'tapi', 'malah', 'ketagihan', 'seru', 'banget', 'dari', 'bangun', 'desa', 'atur', 'pertahanan', 'sampai', 'nyusun', 'strategi', 'buat', 'nyerang', 'desa', 'orang', 'lain', 'apalagi', 'kalau', 'ikut', 'clan', 'wars', 'degdegan', 'nunggu', 'hasil', 'perang', 'kadang', 'menang', 'kadang', 'kalah', 'tapi', 'tetap', 'nagih', 'banget', 'yang', 'bikin', 'betah', 'updatenya', 'selalu', 'fresh', 'jadi', 'gak', 'pernah', 'bosen', 'grafisnya', 'keren', 'efek', 'pasukannya', 'mantap', 'terutama', 'dragon', 'electro', 'titan', 'gak', 'harus', 'top', 'up', 'buat', 'jago', 'cukup', 'sabar', 'rajin', 'main', 'pokoknya', 'wajib', 'nyoba', 'sih']",
                  "['awalnya', 'cuma', 'iseng', 'main', 'clash', 'clans', 'malah', 'ketagihan', 'seru', 'banget', 'bangun', 'desa', 'atur', 'pertahanan', 'nyusun', 'strategi', 'buat', 'nyerang', 'desa', 'orang', 'kalau', 'ikut', 'clan', 'wars', 'degdegan', 'nunggu', 'hasil', 'perang', 'kadang', 'menang', 'kadang', 'kalah', 'tetap', 'nagih', 'banget', 'bikin', 'betah', 'updatenya', 'selalu', 'fresh', 'jadi', 'pernah', 'bosen', 'grafisnya', 'keren', 'efek', 'pasukannya', 'mantap', 'terutama', 'dragon', 'electro', 'titan', 'top', 'buat', 'jago', 'cukup', 'sabar', 'rajin', 'main', 'pokoknya', 'wajib', 'nyoba']",
                  "awal cuma iseng main clash clans malah tagih seru banget bangun desa atur tahan nyusun strategi buat nyerang desa orang kalau ikut clan wars degdegan nunggu hasil perang kadang menang kadang kalah tetap nagih banget bikin betah updatenya selalu fresh jadi pernah bosen grafis keren efek pasu mantap utama dragon electro titan top buat jago cukup sabar rajin main pokok wajib nyoba"
                ],
                [
                  "14",
                  "tolong dong, untuk peningkatan level di laboratorium dapat ditingkatkan untuk bisa meningkatkan lebih dari 2 peningkatan sekaligus. terkadang level pertahanan udah max, tapi masih ragu mau upgrade TH akibat peleton dan mantra belum ikutan max",
                  "tolong dong untuk peningkatan level di laboratorium dapat ditingkatkan untuk bisa meningkatkan lebih dari  peningkatan sekaligus terkadang level pertahanan udah max tapi masih ragu mau upgrade TH akibat peleton dan mantra belum ikutan max",
                  "tolong dong untuk peningkatan level di laboratorium dapat ditingkatkan untuk bisa meningkatkan lebih dari  peningkatan sekaligus terkadang level pertahanan udah max tapi masih ragu mau upgrade th akibat peleton dan mantra belum ikutan max",
                  "tolong dong untuk peningkatan level di laboratorium dapat ditingkatkan untuk bisa meningkatkan lebih dari peningkatan sekaligus terkadang level pertahanan udah max tapi masih ragu mau upgrade th akibat peleton dan mantra belum ikutan max",
                  "['tolong', 'dong', 'untuk', 'peningkatan', 'level', 'di', 'laboratorium', 'dapat', 'ditingkatkan', 'untuk', 'bisa', 'meningkatkan', 'lebih', 'dari', 'peningkatan', 'sekaligus', 'terkadang', 'level', 'pertahanan', 'udah', 'max', 'tapi', 'masih', 'ragu', 'mau', 'upgrade', 'th', 'akibat', 'peleton', 'dan', 'mantra', 'belum', 'ikutan', 'max']",
                  "['dong', 'peningkatan', 'level', 'laboratorium', 'ditingkatkan', 'meningkatkan', 'lebih', 'peningkatan', 'sekaligus', 'terkadang', 'level', 'pertahanan', 'udah', 'max', 'ragu', 'mau', 'upgrade', 'th', 'akibat', 'peleton', 'mantra', 'ikutan', 'max']",
                  "dong tingkat level laboratorium tingkat tingkat lebih tingkat sekaligus terkadang level tahan udah max ragu mau upgrade th akibat peleton mantra ikut max"
                ],
                [
                  "15",
                  "setelah update match making nya makin gak imbang , perolehan trophy untuk B1 dan B2 nya makin dikit , jadi makin susah buat push trophy . sistem penghapusan durasi pembuatan troops spell dll di hilangkan jadi kurang greget . kayak hilang aja feel coc nya🙏",
                  "setelah update match making nya makin gak imbang  perolehan trophy untuk B dan B nya makin dikit  jadi makin susah buat push trophy  sistem penghapusan durasi pembuatan troops spell dll di hilangkan jadi kurang greget  kayak hilang aja feel coc nya",
                  "setelah update match making nya makin gak imbang  perolehan trophy untuk b dan b nya makin dikit  jadi makin susah buat push trophy  sistem penghapusan durasi pembuatan troops spell dll di hilangkan jadi kurang greget  kayak hilang aja feel coc nya",
                  "setelah update match making nya makin gak imbang perolehan trophy untuk b dan b nya makin dikit jadi makin susah buat push trophy sistem penghapusan durasi pembuatan troops spell dll di hilangkan jadi kurang greget kayak hilang aja feel coc nya",
                  "['setelah', 'update', 'match', 'making', 'nya', 'makin', 'gak', 'imbang', 'perolehan', 'trophy', 'untuk', 'b', 'dan', 'b', 'nya', 'makin', 'dikit', 'jadi', 'makin', 'susah', 'buat', 'push', 'trophy', 'sistem', 'penghapusan', 'durasi', 'pembuatan', 'troops', 'spell', 'dll', 'di', 'hilangkan', 'jadi', 'kurang', 'greget', 'kayak', 'hilang', 'aja', 'feel', 'coc', 'nya']",
                  "['update', 'match', 'making', 'makin', 'imbang', 'perolehan', 'trophy', 'b', 'b', 'makin', 'dikit', 'jadi', 'makin', 'susah', 'buat', 'push', 'trophy', 'sistem', 'penghapusan', 'durasi', 'pembuatan', 'troops', 'spell', 'hilangkan', 'jadi', 'kurang', 'greget', 'kayak', 'hilang', 'aja', 'feel', 'coc']",
                  "update match making makin imbang oleh trophy b b makin dikit jadi makin susah buat push trophy sistem hapus durasi buat troops spell hilang jadi kurang greget kayak hilang aja feel coc"
                ],
                [
                  "16",
                  "Seminggu update bisa 2x. Tp tetap saja tidak ada perubahan. Malah tropy yang didapat semakin kecil. Untuk SuperCell maap bintang saya kurangi... Kalau effek pelontar blm hilang knp waktu masih 1menit lebih tiba2 sudah 0 menitnya. Upgrade terlalu mahal dan lama. Tropy juga sedikit. Nyerang paling banyak 20 tropy itupun jarang. Tp klo diserang, lawan dpt bs 30 smpe 40 tropy. Mohon untuk diperbaiki🙏",
                  "Seminggu update bisa x Tp tetap saja tidak ada perubahan Malah tropy yang didapat semakin kecil Untuk SuperCell maap bintang saya kurangi Kalau effek pelontar blm hilang knp waktu masih menit lebih tiba sudah  menitnya Upgrade terlalu mahal dan lama Tropy juga sedikit Nyerang paling banyak  tropy itupun jarang Tp klo diserang lawan dpt bs  smpe  tropy Mohon untuk diperbaiki",
                  "seminggu update bisa x tp tetap saja tidak ada perubahan malah tropy yang didapat semakin kecil untuk supercell maap bintang saya kurangi kalau effek pelontar blm hilang knp waktu masih menit lebih tiba sudah  menitnya upgrade terlalu mahal dan lama tropy juga sedikit nyerang paling banyak  tropy itupun jarang tp klo diserang lawan dpt bs  smpe  tropy mohon untuk diperbaiki",
                  "seminggu update bisa x tp tetap saja tidak ada perubahan malah tropy yang didapat semakin kecil untuk supercell maap bintang saya kurangi kalau effek pelontar blm hilang knp waktu masih menit lebih tiba sudah menitnya upgrade terlalu mahal dan lama tropy juga sedikit nyerang paling banyak tropy itupun jarang tp klo diserang lawan dpt bs smpe tropy mohon untuk diperbaiki",
                  "['seminggu', 'update', 'bisa', 'x', 'tp', 'tetap', 'saja', 'tidak', 'ada', 'perubahan', 'malah', 'tropy', 'yang', 'didapat', 'semakin', 'kecil', 'untuk', 'supercell', 'maap', 'bintang', 'saya', 'kurangi', 'kalau', 'effek', 'pelontar', 'blm', 'hilang', 'knp', 'waktu', 'masih', 'menit', 'lebih', 'tiba', 'sudah', 'menitnya', 'upgrade', 'terlalu', 'mahal', 'dan', 'lama', 'tropy', 'juga', 'sedikit', 'nyerang', 'paling', 'banyak', 'tropy', 'itupun', 'jarang', 'tp', 'klo', 'diserang', 'lawan', 'dpt', 'bs', 'smpe', 'tropy', 'mohon', 'untuk', 'diperbaiki']",
                  "['seminggu', 'update', 'x', 'tp', 'tetap', 'perubahan', 'malah', 'tropy', 'didapat', 'semakin', 'kecil', 'supercell', 'maap', 'bintang', 'kurangi', 'kalau', 'effek', 'pelontar', 'blm', 'hilang', 'knp', 'waktu', 'menit', 'lebih', 'tiba', 'menitnya', 'upgrade', 'terlalu', 'mahal', 'lama', 'tropy', 'sedikit', 'nyerang', 'paling', 'banyak', 'tropy', 'itupun', 'jarang', 'tp', 'klo', 'diserang', 'lawan', 'dpt', 'bs', 'smpe', 'tropy', 'mohon', 'diperbaiki']",
                  "minggu update x tp tetap ubah malah tropy dapat makin kecil supercell maap bintang kurang kalau effek lontar blm hilang knp waktu menit lebih tiba menit upgrade terlalu mahal lama tropy sedikit nyerang paling banyak tropy itu jarang tp klo serang lawan dpt bs smpe tropy mohon baik"
                ],
                [
                  "17",
                  "ini beneran waktu masak di ilangin?, bukannya itu jadi salah satu karakteristik dari coc sendiri, memang dengan menghilangkan waktu masak itu dapat mempermudah player lain untuk nyerang dan mencari gold atau elixir lebih cepat. tapi, apakah itu ga bikin player cepat bosan?, lebih di pikirkan saja, karena yang bikin asik di coc dari dulu itu, terimakasih 🙏",
                  "ini beneran waktu masak di ilangin bukannya itu jadi salah satu karakteristik dari coc sendiri memang dengan menghilangkan waktu masak itu dapat mempermudah player lain untuk nyerang dan mencari gold atau elixir lebih cepat tapi apakah itu ga bikin player cepat bosan lebih di pikirkan saja karena yang bikin asik di coc dari dulu itu terimakasih",
                  "ini beneran waktu masak di ilangin bukannya itu jadi salah satu karakteristik dari coc sendiri memang dengan menghilangkan waktu masak itu dapat mempermudah player lain untuk nyerang dan mencari gold atau elixir lebih cepat tapi apakah itu ga bikin player cepat bosan lebih di pikirkan saja karena yang bikin asik di coc dari dulu itu terimakasih",
                  "ini beneran waktu masak di ilangin bukannya itu jadi salah satu karakteristik dari coc sendiri memang dengan menghilangkan waktu masak itu dapat mempermudah player lain untuk nyerang dan mencari gold atau elixir lebih cepat tapi apakah itu ga bikin player cepat bosan lebih di pikirkan saja karena yang bikin asik di coc dari dulu itu terimakasih",
                  "['ini', 'beneran', 'waktu', 'masak', 'di', 'ilangin', 'bukannya', 'itu', 'jadi', 'salah', 'satu', 'karakteristik', 'dari', 'coc', 'sendiri', 'memang', 'dengan', 'menghilangkan', 'waktu', 'masak', 'itu', 'dapat', 'mempermudah', 'player', 'lain', 'untuk', 'nyerang', 'dan', 'mencari', 'gold', 'atau', 'elixir', 'lebih', 'cepat', 'tapi', 'apakah', 'itu', 'ga', 'bikin', 'player', 'cepat', 'bosan', 'lebih', 'di', 'pikirkan', 'saja', 'karena', 'yang', 'bikin', 'asik', 'di', 'coc', 'dari', 'dulu', 'itu', 'terimakasih']",
                  "['beneran', 'waktu', 'masak', 'ilangin', 'bukannya', 'jadi', 'salah', 'satu', 'karakteristik', 'coc', 'sendiri', 'memang', 'menghilangkan', 'waktu', 'masak', 'mempermudah', 'player', 'nyerang', 'mencari', 'gold', 'elixir', 'lebih', 'cepat', 'bikin', 'player', 'cepat', 'bosan', 'lebih', 'pikirkan', 'bikin', 'asik', 'coc', 'dulu', 'terimakasih']",
                  "beneran waktu masak ilangin bukan jadi salah satu karakteristik coc sendiri memang hilang waktu masak mudah player nyerang cari gold elixir lebih cepat bikin player cepat bosan lebih pikir bikin asik coc dulu terimakasih"
                ],
                [
                  "18",
                  "game ini masalahnya cuma 1, yaitu lose connect tiba-tiba yang tidak diperbaiki-perbaiki sampe sekarang, itu sangat mengganggu sekali saat war/menyerang, selebihnya oke, tolong perbaiki lah supercell",
                  "game ini masalahnya cuma  yaitu lose connect tibatiba yang tidak diperbaikiperbaiki sampe sekarang itu sangat mengganggu sekali saat warmenyerang selebihnya oke tolong perbaiki lah supercell",
                  "game ini masalahnya cuma  yaitu lose connect tibatiba yang tidak diperbaikiperbaiki sampe sekarang itu sangat mengganggu sekali saat warmenyerang selebihnya oke tolong perbaiki lah supercell",
                  "game ini masalahnya cuma yaitu lose connect tibatiba yang tidak diperbaikiperbaiki sampe sekarang itu sangat mengganggu sekali saat warmenyerang selebihnya oke tolong perbaiki lah supercell",
                  "['game', 'ini', 'masalahnya', 'cuma', 'yaitu', 'lose', 'connect', 'tibatiba', 'yang', 'tidak', 'diperbaikiperbaiki', 'sampe', 'sekarang', 'itu', 'sangat', 'mengganggu', 'sekali', 'saat', 'warmenyerang', 'selebihnya', 'oke', 'tolong', 'perbaiki', 'lah', 'supercell']",
                  "['game', 'masalahnya', 'cuma', 'lose', 'connect', 'tibatiba', 'diperbaikiperbaiki', 'sampe', 'sekarang', 'sangat', 'mengganggu', 'sekali', 'warmenyerang', 'selebihnya', 'oke', 'perbaiki', 'lah', 'supercell']",
                  "game masalah cuma lose connect tibatiba diperbaikiperbaiki sampe sekarang sangat ganggu sekali warmenyerang lebih oke baik lah supercell"
                ],
                [
                  "19",
                  "Kebanyakan update btw. Tiap minggu disuruh update teruss, tapi bug nya masih tetap sama, suka keluar game mulu ditengah serangan. tapi pas masuk gak bisa nyerang lagi krn katanya peleton masih bertarung, apa sihh😌",
                  "Kebanyakan update btw Tiap minggu disuruh update teruss tapi bug nya masih tetap sama suka keluar game mulu ditengah serangan tapi pas masuk gak bisa nyerang lagi krn katanya peleton masih bertarung apa sihh",
                  "kebanyakan update btw tiap minggu disuruh update teruss tapi bug nya masih tetap sama suka keluar game mulu ditengah serangan tapi pas masuk gak bisa nyerang lagi krn katanya peleton masih bertarung apa sihh",
                  "kebanyakan update btw tiap minggu disuruh update teruss tapi bug nya masih tetap sama suka keluar game mulu ditengah serangan tapi pas masuk gak bisa nyerang lagi krn katanya peleton masih bertarung apa sihh",
                  "['kebanyakan', 'update', 'btw', 'tiap', 'minggu', 'disuruh', 'update', 'teruss', 'tapi', 'bug', 'nya', 'masih', 'tetap', 'sama', 'suka', 'keluar', 'game', 'mulu', 'ditengah', 'serangan', 'tapi', 'pas', 'masuk', 'gak', 'bisa', 'nyerang', 'lagi', 'krn', 'katanya', 'peleton', 'masih', 'bertarung', 'apa', 'sihh']",
                  "['kebanyakan', 'update', 'btw', 'tiap', 'minggu', 'disuruh', 'update', 'teruss', 'bug', 'tetap', 'sama', 'suka', 'keluar', 'game', 'mulu', 'ditengah', 'serangan', 'pas', 'masuk', 'nyerang', 'krn', 'katanya', 'peleton', 'bertarung', 'apa', 'sihh']",
                  "banyak update btw tiap minggu suruh update teruss bug tetap sama suka keluar game mulu tengah serang pas masuk nyerang krn kata peleton tarung apa sihh"
                ],
                [
                  "20",
                  "saya adalah pemain setia COC.. tapi saya kurang suka dengan aturan2 baru yang sering berubah2 seperti hasil war yang dapat full bintang dengan serangan lebih sedikit dengan lawan yg dengan serangan lebih banyak tapi hasil jadi seri...",
                  "saya adalah pemain setia COC tapi saya kurang suka dengan aturan baru yang sering berubah seperti hasil war yang dapat full bintang dengan serangan lebih sedikit dengan lawan yg dengan serangan lebih banyak tapi hasil jadi seri",
                  "saya adalah pemain setia coc tapi saya kurang suka dengan aturan baru yang sering berubah seperti hasil war yang dapat full bintang dengan serangan lebih sedikit dengan lawan yg dengan serangan lebih banyak tapi hasil jadi seri",
                  "saya adalah pemain setia coc tapi saya kurang suka dengan aturan baru yang sering berubah seperti hasil war yang dapat full bintang dengan serangan lebih sedikit dengan lawan yg dengan serangan lebih banyak tapi hasil jadi seri",
                  "['saya', 'adalah', 'pemain', 'setia', 'coc', 'tapi', 'saya', 'kurang', 'suka', 'dengan', 'aturan', 'baru', 'yang', 'sering', 'berubah', 'seperti', 'hasil', 'war', 'yang', 'dapat', 'full', 'bintang', 'dengan', 'serangan', 'lebih', 'sedikit', 'dengan', 'lawan', 'yg', 'dengan', 'serangan', 'lebih', 'banyak', 'tapi', 'hasil', 'jadi', 'seri']",
                  "['pemain', 'setia', 'coc', 'kurang', 'suka', 'aturan', 'baru', 'sering', 'berubah', 'hasil', 'war', 'full', 'bintang', 'serangan', 'lebih', 'sedikit', 'lawan', 'yg', 'serangan', 'lebih', 'banyak', 'hasil', 'jadi', 'seri']",
                  "main setia coc kurang suka atur baru sering ubah hasil war full bintang serang lebih sedikit lawan yg serang lebih banyak hasil jadi seri"
                ],
                [
                  "21",
                  "semenjak game ini di tingggalkan ada banyak perubahan yg dilakukan pengembang menurutku kebodohan yg masih dipelihara supercell adalah peningkatan hero dengan di palu kepalanya dan heronya tidak bisa dipakai saran saya lakukan seperti peningkatan pasukan riset hero seperti lagi gym pembentukan fisik dan hero tetap bisa di pakai selama peningkatan terima kasih",
                  "semenjak game ini di tingggalkan ada banyak perubahan yg dilakukan pengembang menurutku kebodohan yg masih dipelihara supercell adalah peningkatan hero dengan di palu kepalanya dan heronya tidak bisa dipakai saran saya lakukan seperti peningkatan pasukan riset hero seperti lagi gym pembentukan fisik dan hero tetap bisa di pakai selama peningkatan terima kasih",
                  "semenjak game ini di tingggalkan ada banyak perubahan yg dilakukan pengembang menurutku kebodohan yg masih dipelihara supercell adalah peningkatan hero dengan di palu kepalanya dan heronya tidak bisa dipakai saran saya lakukan seperti peningkatan pasukan riset hero seperti lagi gym pembentukan fisik dan hero tetap bisa di pakai selama peningkatan terima kasih",
                  "semenjak game ini di tingggalkan ada banyak perubahan yg dilakukan pengembang menurutku kebodohan yg masih dipelihara supercell adalah peningkatan hero dengan di palu kepalanya dan heronya tidak bisa dipakai saran saya lakukan seperti peningkatan pasukan riset hero seperti lagi gym pembentukan fisik dan hero tetap bisa di pakai selama peningkatan terima kasih",
                  "['semenjak', 'game', 'ini', 'di', 'tingggalkan', 'ada', 'banyak', 'perubahan', 'yg', 'dilakukan', 'pengembang', 'menurutku', 'kebodohan', 'yg', 'masih', 'dipelihara', 'supercell', 'adalah', 'peningkatan', 'hero', 'dengan', 'di', 'palu', 'kepalanya', 'dan', 'heronya', 'tidak', 'bisa', 'dipakai', 'saran', 'saya', 'lakukan', 'seperti', 'peningkatan', 'pasukan', 'riset', 'hero', 'seperti', 'lagi', 'gym', 'pembentukan', 'fisik', 'dan', 'hero', 'tetap', 'bisa', 'di', 'pakai', 'selama', 'peningkatan', 'terima', 'kasih']",
                  "['semenjak', 'game', 'tingggalkan', 'banyak', 'perubahan', 'yg', 'dilakukan', 'pengembang', 'menurutku', 'kebodohan', 'yg', 'dipelihara', 'supercell', 'peningkatan', 'hero', 'palu', 'kepalanya', 'heronya', 'dipakai', 'saran', 'lakukan', 'peningkatan', 'pasukan', 'riset', 'hero', 'gym', 'pembentukan', 'fisik', 'hero', 'tetap', 'pakai', 'selama', 'peningkatan', 'terima', 'kasih']",
                  "semenjak game tingggalkan banyak ubah yg laku kembang turut bodoh yg pelihara supercell tingkat hero palu kepala hero pakai saran laku tingkat pasu riset hero gym bentuk fisik hero tetap pakai lama tingkat terima kasih"
                ],
                [
                  "22",
                  "sering kali kalau di tengah pertempuran jaringan langsung down dan tiba tiba restart ke awal game pasukan sih balik lagi tapi base musuhnya itu loh padahal udah lama dicari cari tapi seenak jidat restart sendiri perbaiki dulu deh supercell",
                  "sering kali kalau di tengah pertempuran jaringan langsung down dan tiba tiba restart ke awal game pasukan sih balik lagi tapi base musuhnya itu loh padahal udah lama dicari cari tapi seenak jidat restart sendiri perbaiki dulu deh supercell",
                  "sering kali kalau di tengah pertempuran jaringan langsung down dan tiba tiba restart ke awal game pasukan sih balik lagi tapi base musuhnya itu loh padahal udah lama dicari cari tapi seenak jidat restart sendiri perbaiki dulu deh supercell",
                  "sering kali kalau di tengah pertempuran jaringan langsung down dan tiba tiba restart ke awal game pasukan sih balik lagi tapi base musuhnya itu loh padahal udah lama dicari cari tapi seenak jidat restart sendiri perbaiki dulu deh supercell",
                  "['sering', 'kali', 'kalau', 'di', 'tengah', 'pertempuran', 'jaringan', 'langsung', 'down', 'dan', 'tiba', 'tiba', 'restart', 'ke', 'awal', 'game', 'pasukan', 'sih', 'balik', 'lagi', 'tapi', 'base', 'musuhnya', 'itu', 'loh', 'padahal', 'udah', 'lama', 'dicari', 'cari', 'tapi', 'seenak', 'jidat', 'restart', 'sendiri', 'perbaiki', 'dulu', 'deh', 'supercell']",
                  "['sering', 'kali', 'kalau', 'tengah', 'pertempuran', 'jaringan', 'langsung', 'tiba', 'tiba', 'restart', 'awal', 'game', 'pasukan', 'balik', 'base', 'musuhnya', 'padahal', 'udah', 'lama', 'dicari', 'cari', 'seenak', 'jidat', 'restart', 'sendiri', 'perbaiki', 'dulu', 'deh', 'supercell']",
                  "sering kali kalau tengah tempur jaring langsung tiba tiba restart awal game pasu balik base musuh padahal udah lama cari cari enak jidat restart sendiri baik dulu deh supercell"
                ],
                [
                  "23",
                  "Bagus, tapi masih bisa ditingkatkan seperti kalau kita lagi nyerang dan kita terpaksa keluar karena server putus atau jaringan hilang kalau bisa serangan itu dilanjutkan jangan langsung terskip, kan gak enak lagi nyerang war langsung keluar dan terskip",
                  "Bagus tapi masih bisa ditingkatkan seperti kalau kita lagi nyerang dan kita terpaksa keluar karena server putus atau jaringan hilang kalau bisa serangan itu dilanjutkan jangan langsung terskip kan gak enak lagi nyerang war langsung keluar dan terskip",
                  "bagus tapi masih bisa ditingkatkan seperti kalau kita lagi nyerang dan kita terpaksa keluar karena server putus atau jaringan hilang kalau bisa serangan itu dilanjutkan jangan langsung terskip kan gak enak lagi nyerang war langsung keluar dan terskip",
                  "bagus tapi masih bisa ditingkatkan seperti kalau kita lagi nyerang dan kita terpaksa keluar karena server putus atau jaringan hilang kalau bisa serangan itu dilanjutkan jangan langsung terskip kan gak enak lagi nyerang war langsung keluar dan terskip",
                  "['bagus', 'tapi', 'masih', 'bisa', 'ditingkatkan', 'seperti', 'kalau', 'kita', 'lagi', 'nyerang', 'dan', 'kita', 'terpaksa', 'keluar', 'karena', 'server', 'putus', 'atau', 'jaringan', 'hilang', 'kalau', 'bisa', 'serangan', 'itu', 'dilanjutkan', 'jangan', 'langsung', 'terskip', 'kan', 'gak', 'enak', 'lagi', 'nyerang', 'war', 'langsung', 'keluar', 'dan', 'terskip']",
                  "['bagus', 'ditingkatkan', 'kalau', 'nyerang', 'terpaksa', 'keluar', 'server', 'putus', 'jaringan', 'hilang', 'kalau', 'serangan', 'dilanjutkan', 'jangan', 'langsung', 'terskip', 'kan', 'enak', 'nyerang', 'war', 'langsung', 'keluar', 'terskip']",
                  "bagus tingkat kalau nyerang paksa keluar server putus jaring hilang kalau serang lanjut jangan langsung skip kan enak nyerang war langsung keluar skip"
                ],
                [
                  "24",
                  "parah ! waktu training dihapus memang bagus, tapi musuhnya jangan 2 LV town hall lebih tinggi juga bahkan max. konten kreator bilang pakai sistem duplikat base, tapi kenapa tidak dikasih base dengan LV th yang sama. baru up th 13 troops dn bangunan masih th 12 kok malah (selalu) dikasih lawan th 15 max, meleleh pasukanku. tolong lah di liga atas bisa gitu dikasih lawan yg setara LV th-nya",
                  "parah  waktu training dihapus memang bagus tapi musuhnya jangan  LV town hall lebih tinggi juga bahkan max konten kreator bilang pakai sistem duplikat base tapi kenapa tidak dikasih base dengan LV th yang sama baru up th  troops dn bangunan masih th  kok malah selalu dikasih lawan th  max meleleh pasukanku tolong lah di liga atas bisa gitu dikasih lawan yg setara LV thnya",
                  "parah  waktu training dihapus memang bagus tapi musuhnya jangan  lv town hall lebih tinggi juga bahkan max konten kreator bilang pakai sistem duplikat base tapi kenapa tidak dikasih base dengan lv th yang sama baru up th  troops dn bangunan masih th  kok malah selalu dikasih lawan th  max meleleh pasukanku tolong lah di liga atas bisa gitu dikasih lawan yg setara lv thnya",
                  "parah waktu training dihapus memang bagus tapi musuhnya jangan lv town hall lebih tinggi juga bahkan max konten kreator bilang pakai sistem duplikat base tapi kenapa tidak dikasih base dengan lv th yang sama baru up th troops dn bangunan masih th kok malah selalu dikasih lawan th max meleleh pasukanku tolong lah di liga atas bisa gitu dikasih lawan yg setara lv thnya",
                  "['parah', 'waktu', 'training', 'dihapus', 'memang', 'bagus', 'tapi', 'musuhnya', 'jangan', 'lv', 'town', 'hall', 'lebih', 'tinggi', 'juga', 'bahkan', 'max', 'konten', 'kreator', 'bilang', 'pakai', 'sistem', 'duplikat', 'base', 'tapi', 'kenapa', 'tidak', 'dikasih', 'base', 'dengan', 'lv', 'th', 'yang', 'sama', 'baru', 'up', 'th', 'troops', 'dn', 'bangunan', 'masih', 'th', 'kok', 'malah', 'selalu', 'dikasih', 'lawan', 'th', 'max', 'meleleh', 'pasukanku', 'tolong', 'lah', 'di', 'liga', 'atas', 'bisa', 'gitu', 'dikasih', 'lawan', 'yg', 'setara', 'lv', 'thnya']",
                  "['parah', 'waktu', 'training', 'dihapus', 'memang', 'bagus', 'musuhnya', 'jangan', 'lv', 'town', 'hall', 'lebih', 'tinggi', 'bahkan', 'max', 'konten', 'kreator', 'bilang', 'pakai', 'sistem', 'duplikat', 'base', 'dikasih', 'base', 'lv', 'th', 'sama', 'baru', 'th', 'troops', 'dn', 'bangunan', 'th', 'kok', 'malah', 'selalu', 'dikasih', 'lawan', 'th', 'max', 'meleleh', 'pasukanku', 'lah', 'liga', 'atas', 'gitu', 'dikasih', 'lawan', 'yg', 'setara', 'lv', 'thnya']",
                  "parah waktu training hapus memang bagus musuh jangan lv town hall lebih tinggi bahkan max konten kreator bilang pakai sistem duplikat base kasih base lv th sama baru th troops dn bangun th kok malah selalu kasih lawan th max leleh pasu lah liga atas gitu kasih lawan yg tara lv thnya"
                ],
                [
                  "25",
                  "update macam apa ni gabisa lagi mempercepat atk desa malam dengan cara close gamenya, ada waktu kalau belum selesai pasukan selesai tempur coba, update atk kalau lose connect, kita masuk lagi masih bisa di connect kin lagi si mantap 😑",
                  "update macam apa ni gabisa lagi mempercepat atk desa malam dengan cara close gamenya ada waktu kalau belum selesai pasukan selesai tempur coba update atk kalau lose connect kita masuk lagi masih bisa di connect kin lagi si mantap",
                  "update macam apa ni gabisa lagi mempercepat atk desa malam dengan cara close gamenya ada waktu kalau belum selesai pasukan selesai tempur coba update atk kalau lose connect kita masuk lagi masih bisa di connect kin lagi si mantap",
                  "update macam apa ni gabisa lagi mempercepat atk desa malam dengan cara close gamenya ada waktu kalau belum selesai pasukan selesai tempur coba update atk kalau lose connect kita masuk lagi masih bisa di connect kin lagi si mantap",
                  "['update', 'macam', 'apa', 'ni', 'gabisa', 'lagi', 'mempercepat', 'atk', 'desa', 'malam', 'dengan', 'cara', 'close', 'gamenya', 'ada', 'waktu', 'kalau', 'belum', 'selesai', 'pasukan', 'selesai', 'tempur', 'coba', 'update', 'atk', 'kalau', 'lose', 'connect', 'kita', 'masuk', 'lagi', 'masih', 'bisa', 'di', 'connect', 'kin', 'lagi', 'si', 'mantap']",
                  "['update', 'macam', 'apa', 'ni', 'gabisa', 'mempercepat', 'atk', 'desa', 'malam', 'cara', 'close', 'gamenya', 'waktu', 'kalau', 'selesai', 'pasukan', 'selesai', 'tempur', 'coba', 'update', 'atk', 'kalau', 'lose', 'connect', 'masuk', 'connect', 'kin', 'si', 'mantap']",
                  "update macam apa ni gabisa cepat atk desa malam cara close gamenya waktu kalau selesai pasu selesai tempur coba update atk kalau lose connect masuk connect kin si mantap"
                ],
                [
                  "26",
                  "habis update aplikasi masalah tropy di liga legendaris sekali serang dapat 2bintang hasilnya sedikit bgt tropy nya sedangkan base kita di serang turun nya tropy besar banget gk barter gtu.. kalau begini biarin aja gak usah kejar tropy.. hmm jadi kurang semangat mainya,, masuk cuma buat up2 aja ginimah",
                  "habis update aplikasi masalah tropy di liga legendaris sekali serang dapat bintang hasilnya sedikit bgt tropy nya sedangkan base kita di serang turun nya tropy besar banget gk barter gtu kalau begini biarin aja gak usah kejar tropy hmm jadi kurang semangat mainya masuk cuma buat up aja ginimah",
                  "habis update aplikasi masalah tropy di liga legendaris sekali serang dapat bintang hasilnya sedikit bgt tropy nya sedangkan base kita di serang turun nya tropy besar banget gk barter gtu kalau begini biarin aja gak usah kejar tropy hmm jadi kurang semangat mainya masuk cuma buat up aja ginimah",
                  "habis update aplikasi masalah tropy di liga legendaris sekali serang dapat bintang hasilnya sedikit banget tropy nya sedangkan base kita di serang turun nya tropy besar banget gk barter gtu kalau begini biarin aja gak usah kejar tropy hmm jadi kurang semangat mainya masuk cuma buat up aja ginimah",
                  "['habis', 'update', 'aplikasi', 'masalah', 'tropy', 'di', 'liga', 'legendaris', 'sekali', 'serang', 'dapat', 'bintang', 'hasilnya', 'sedikit', 'banget', 'tropy', 'nya', 'sedangkan', 'base', 'kita', 'di', 'serang', 'turun', 'nya', 'tropy', 'besar', 'banget', 'gk', 'barter', 'gtu', 'kalau', 'begini', 'biarin', 'aja', 'gak', 'usah', 'kejar', 'tropy', 'hmm', 'jadi', 'kurang', 'semangat', 'mainya', 'masuk', 'cuma', 'buat', 'up', 'aja', 'ginimah']",
                  "['habis', 'update', 'aplikasi', 'masalah', 'tropy', 'liga', 'legendaris', 'sekali', 'serang', 'bintang', 'hasilnya', 'sedikit', 'banget', 'tropy', 'base', 'serang', 'turun', 'tropy', 'besar', 'banget', 'gk', 'barter', 'gtu', 'kalau', 'begini', 'biarin', 'aja', 'usah', 'kejar', 'tropy', 'hmm', 'jadi', 'kurang', 'semangat', 'mainya', 'masuk', 'cuma', 'buat', 'aja', 'ginimah']",
                  "habis update aplikasi masalah tropy liga legendaris sekali serang bintang hasil sedikit banget tropy base serang turun tropy besar banget gk barter gtu kalau begini biarin aja usah kejar tropy hmm jadi kurang semangat mai masuk cuma buat aja ginimah"
                ],
                [
                  "27",
                  "bagus lah game nya lebih menarik juga karena banyak yang baru, tapi matchmaking nya kurang banget masa saya th11 di kasih lawan th14 keatas mana bisa gitu, tolong perbaikin lah ini sistem matchmaking nya, kalau sudah di perbaikin saya tambah jadi bintang 5",
                  "bagus lah game nya lebih menarik juga karena banyak yang baru tapi matchmaking nya kurang banget masa saya th di kasih lawan th keatas mana bisa gitu tolong perbaikin lah ini sistem matchmaking nya kalau sudah di perbaikin saya tambah jadi bintang",
                  "bagus lah game nya lebih menarik juga karena banyak yang baru tapi matchmaking nya kurang banget masa saya th di kasih lawan th keatas mana bisa gitu tolong perbaikin lah ini sistem matchmaking nya kalau sudah di perbaikin saya tambah jadi bintang",
                  "bagus lah game nya lebih menarik juga karena banyak yang baru tapi matchmaking nya kurang banget masa saya th di kasih lawan th keatas mana bisa gitu tolong perbaikin lah ini sistem matchmaking nya kalau sudah di perbaikin saya tambah jadi bintang",
                  "['bagus', 'lah', 'game', 'nya', 'lebih', 'menarik', 'juga', 'karena', 'banyak', 'yang', 'baru', 'tapi', 'matchmaking', 'nya', 'kurang', 'banget', 'masa', 'saya', 'th', 'di', 'kasih', 'lawan', 'th', 'keatas', 'mana', 'bisa', 'gitu', 'tolong', 'perbaikin', 'lah', 'ini', 'sistem', 'matchmaking', 'nya', 'kalau', 'sudah', 'di', 'perbaikin', 'saya', 'tambah', 'jadi', 'bintang']",
                  "['bagus', 'lah', 'game', 'lebih', 'menarik', 'banyak', 'baru', 'matchmaking', 'kurang', 'banget', 'masa', 'th', 'kasih', 'lawan', 'th', 'keatas', 'mana', 'gitu', 'perbaikin', 'lah', 'sistem', 'matchmaking', 'kalau', 'perbaikin', 'tambah', 'jadi', 'bintang']",
                  "bagus lah game lebih tarik banyak baru matchmaking kurang banget masa th kasih lawan th atas mana gitu perbaikin lah sistem matchmaking kalau perbaikin tambah jadi bintang"
                ],
                [
                  "28",
                  "saya kasih bintang satu karna ada masalah di game nya. 1. kalau mau war musuh tidak sesuai dengan TH kita. 2. sering sekali sambungan terputus dan sangat menganggu apa lagi pas lagi WAR. 3. Pembaruan yang tidak penting tapi harus di download. 4. sagat tidak kompeten saat mencarikan lawan, sebagai contoh, TH saya 10 dan saya mencari lawan ketemu dengan TH 15 Max. harusnya musuh sesuai TH bukan di sesuaikan dengan banyaknya tetopi. dan itu terjadi di basis tukang dan di desa asal.",
                  "saya kasih bintang satu karna ada masalah di game nya  kalau mau war musuh tidak sesuai dengan TH kita  sering sekali sambungan terputus dan sangat menganggu apa lagi pas lagi WAR  Pembaruan yang tidak penting tapi harus di download  sagat tidak kompeten saat mencarikan lawan sebagai contoh TH saya  dan saya mencari lawan ketemu dengan TH  Max harusnya musuh sesuai TH bukan di sesuaikan dengan banyaknya tetopi dan itu terjadi di basis tukang dan di desa asal",
                  "saya kasih bintang satu karna ada masalah di game nya  kalau mau war musuh tidak sesuai dengan th kita  sering sekali sambungan terputus dan sangat menganggu apa lagi pas lagi war  pembaruan yang tidak penting tapi harus di download  sagat tidak kompeten saat mencarikan lawan sebagai contoh th saya  dan saya mencari lawan ketemu dengan th  max harusnya musuh sesuai th bukan di sesuaikan dengan banyaknya tetopi dan itu terjadi di basis tukang dan di desa asal",
                  "saya kasih bintang satu karna ada masalah di game nya kalau mau war musuh tidak sesuai dengan th kita sering sekali sambungan terputus dan sangat menganggu apa lagi pas lagi war pembaruan yang tidak penting tapi harus di download sagat tidak kompeten saat mencarikan lawan sebagai contoh th saya dan saya mencari lawan ketemu dengan th max harusnya musuh sesuai th bukan di sesuaikan dengan banyaknya tetopi dan itu terjadi di basis tukang dan di desa asal",
                  "['saya', 'kasih', 'bintang', 'satu', 'karna', 'ada', 'masalah', 'di', 'game', 'nya', 'kalau', 'mau', 'war', 'musuh', 'tidak', 'sesuai', 'dengan', 'th', 'kita', 'sering', 'sekali', 'sambungan', 'terputus', 'dan', 'sangat', 'menganggu', 'apa', 'lagi', 'pas', 'lagi', 'war', 'pembaruan', 'yang', 'tidak', 'penting', 'tapi', 'harus', 'di', 'download', 'sagat', 'tidak', 'kompeten', 'saat', 'mencarikan', 'lawan', 'sebagai', 'contoh', 'th', 'saya', 'dan', 'saya', 'mencari', 'lawan', 'ketemu', 'dengan', 'th', 'max', 'harusnya', 'musuh', 'sesuai', 'th', 'bukan', 'di', 'sesuaikan', 'dengan', 'banyaknya', 'tetopi', 'dan', 'itu', 'terjadi', 'di', 'basis', 'tukang', 'dan', 'di', 'desa', 'asal']",
                  "['kasih', 'bintang', 'satu', 'karna', 'masalah', 'game', 'kalau', 'mau', 'war', 'musuh', 'sesuai', 'th', 'sering', 'sekali', 'sambungan', 'terputus', 'sangat', 'menganggu', 'apa', 'pas', 'war', 'pembaruan', 'penting', 'download', 'sagat', 'kompeten', 'mencarikan', 'lawan', 'contoh', 'th', 'mencari', 'lawan', 'ketemu', 'th', 'max', 'harusnya', 'musuh', 'sesuai', 'th', 'bukan', 'sesuaikan', 'banyaknya', 'tetopi', 'terjadi', 'basis', 'tukang', 'desa', 'asal']",
                  "kasih bintang satu karna masalah game kalau mau war musuh sesuai th sering sekali sambung putus sangat menganggu apa pas war baru penting download sagat kompeten cari lawan contoh th cari lawan ketemu th max harus musuh sesuai th bukan sesuai banyak tetopi jadi basis tukang desa asal"
                ],
                [
                  "29",
                  "tolong dong buat developernya, kenapa setelah update kemarin kalo attack bintang 1 atau 2 dapet trofinya dikit, sedangkan sebelum update banyak, tolong bhat developernya diperbaiki lagi, jangan diubah ubah, buat saya yg type push trofi susah kalau begini terus",
                  "tolong dong buat developernya kenapa setelah update kemarin kalo attack bintang  atau  dapet trofinya dikit sedangkan sebelum update banyak tolong bhat developernya diperbaiki lagi jangan diubah ubah buat saya yg type push trofi susah kalau begini terus",
                  "tolong dong buat developernya kenapa setelah update kemarin kalo attack bintang  atau  dapet trofinya dikit sedangkan sebelum update banyak tolong bhat developernya diperbaiki lagi jangan diubah ubah buat saya yg type push trofi susah kalau begini terus",
                  "tolong dong buat developernya kenapa setelah update kemarin kalo attack bintang atau dapet trofinya dikit sedangkan sebelum update banyak tolong bhat developernya diperbaiki lagi jangan diubah ubah buat saya yg type push trofi susah kalau begini terus",
                  "['tolong', 'dong', 'buat', 'developernya', 'kenapa', 'setelah', 'update', 'kemarin', 'kalo', 'attack', 'bintang', 'atau', 'dapet', 'trofinya', 'dikit', 'sedangkan', 'sebelum', 'update', 'banyak', 'tolong', 'bhat', 'developernya', 'diperbaiki', 'lagi', 'jangan', 'diubah', 'ubah', 'buat', 'saya', 'yg', 'type', 'push', 'trofi', 'susah', 'kalau', 'begini', 'terus']",
                  "['dong', 'buat', 'developernya', 'update', 'kemarin', 'kalo', 'attack', 'bintang', 'dapet', 'trofinya', 'dikit', 'update', 'banyak', 'bhat', 'developernya', 'diperbaiki', 'jangan', 'diubah', 'ubah', 'buat', 'yg', 'type', 'push', 'trofi', 'susah', 'kalau', 'begini', 'terus']",
                  "dong buat developer update kemarin kalo attack bintang dapet trofi dikit update banyak bhat developer baik jangan ubah ubah buat yg type push trofi susah kalau begini terus"
                ],
                [
                  "30",
                  "update kali ini sedikit mengecewakan si, masa tempat masak atau tombol untuk masak ramuan sama peleton atau tombol latihan atau apalah, masa ada gambar wajah barbariannya mana jelek lagi, bikin risih tahu di lihatnya, balikin seperti semula tombolnya gak?!😭👊",
                  "update kali ini sedikit mengecewakan si masa tempat masak atau tombol untuk masak ramuan sama peleton atau tombol latihan atau apalah masa ada gambar wajah barbariannya mana jelek lagi bikin risih tahu di lihatnya balikin seperti semula tombolnya gak",
                  "update kali ini sedikit mengecewakan si masa tempat masak atau tombol untuk masak ramuan sama peleton atau tombol latihan atau apalah masa ada gambar wajah barbariannya mana jelek lagi bikin risih tahu di lihatnya balikin seperti semula tombolnya gak",
                  "update kali ini sedikit mengecewakan si masa tempat masak atau tombol untuk masak ramuan sama peleton atau tombol latihan atau apalah masa ada gambar wajah barbariannya mana jelek lagi bikin risih tahu di lihatnya balikin seperti semula tombolnya gak",
                  "['update', 'kali', 'ini', 'sedikit', 'mengecewakan', 'si', 'masa', 'tempat', 'masak', 'atau', 'tombol', 'untuk', 'masak', 'ramuan', 'sama', 'peleton', 'atau', 'tombol', 'latihan', 'atau', 'apalah', 'masa', 'ada', 'gambar', 'wajah', 'barbariannya', 'mana', 'jelek', 'lagi', 'bikin', 'risih', 'tahu', 'di', 'lihatnya', 'balikin', 'seperti', 'semula', 'tombolnya', 'gak']",
                  "['update', 'kali', 'sedikit', 'mengecewakan', 'si', 'masa', 'tempat', 'masak', 'tombol', 'masak', 'ramuan', 'sama', 'peleton', 'tombol', 'latihan', 'apalah', 'masa', 'gambar', 'wajah', 'barbariannya', 'mana', 'jelek', 'bikin', 'risih', 'tahu', 'lihatnya', 'balikin', 'semula', 'tombolnya']",
                  "update kali sedikit kecewa si masa tempat masak tombol masak ramu sama peleton tombol latih apa masa gambar wajah barbariannya mana jelek bikin risih tahu lihat balikin mula tombol"
                ],
                [
                  "31",
                  "game nya bagus ,secara grafik maupun gameplay ,hanya saja perbaiki bug seperti sambungan terputus di tengah war dll ,sekarang coc jadi tambah mudah di era baru ini ,terima kasih supercell😁🦅🔥",
                  "game nya bagus secara grafik maupun gameplay hanya saja perbaiki bug seperti sambungan terputus di tengah war dll sekarang coc jadi tambah mudah di era baru ini terima kasih supercell",
                  "game nya bagus secara grafik maupun gameplay hanya saja perbaiki bug seperti sambungan terputus di tengah war dll sekarang coc jadi tambah mudah di era baru ini terima kasih supercell",
                  "game nya bagus secara grafik maupun gameplay hanya saja perbaiki bug seperti sambungan terputus di tengah war dll sekarang coc jadi tambah mudah di era baru ini terima kasih supercell",
                  "['game', 'nya', 'bagus', 'secara', 'grafik', 'maupun', 'gameplay', 'hanya', 'saja', 'perbaiki', 'bug', 'seperti', 'sambungan', 'terputus', 'di', 'tengah', 'war', 'dll', 'sekarang', 'coc', 'jadi', 'tambah', 'mudah', 'di', 'era', 'baru', 'ini', 'terima', 'kasih', 'supercell']",
                  "['game', 'bagus', 'grafik', 'maupun', 'gameplay', 'perbaiki', 'bug', 'sambungan', 'terputus', 'tengah', 'war', 'sekarang', 'coc', 'jadi', 'tambah', 'mudah', 'era', 'baru', 'terima', 'kasih', 'supercell']",
                  "game bagus grafik maupun gameplay baik bug sambung putus tengah war sekarang coc jadi tambah mudah era baru terima kasih supercell"
                ],
                [
                  "32",
                  "update terbaru kenapa gak ada ramuan percepat? nyari tropi susah,biarpun 99 persen bintang tetap sedikit,meski tropi yg kita serang lbih tinggi dan bnyak, gak kayak dulu, tropi yg di dapat sesuai persen serangan😣",
                  "update terbaru kenapa gak ada ramuan percepat nyari tropi susahbiarpun  persen bintang tetap sedikitmeski tropi yg kita serang lbih tinggi dan bnyak gak kayak dulu tropi yg di dapat sesuai persen serangan",
                  "update terbaru kenapa gak ada ramuan percepat nyari tropi susahbiarpun  persen bintang tetap sedikitmeski tropi yg kita serang lbih tinggi dan bnyak gak kayak dulu tropi yg di dapat sesuai persen serangan",
                  "update terbaru kenapa gak ada ramuan percepat nyari tropi susahbiarpun persen bintang tetap sedikitmeski tropi yg kita serang lbih tinggi dan bnyak gak kayak dulu tropi yg di dapat sesuai persen serangan",
                  "['update', 'terbaru', 'kenapa', 'gak', 'ada', 'ramuan', 'percepat', 'nyari', 'tropi', 'susahbiarpun', 'persen', 'bintang', 'tetap', 'sedikitmeski', 'tropi', 'yg', 'kita', 'serang', 'lbih', 'tinggi', 'dan', 'bnyak', 'gak', 'kayak', 'dulu', 'tropi', 'yg', 'di', 'dapat', 'sesuai', 'persen', 'serangan']",
                  "['update', 'terbaru', 'ramuan', 'percepat', 'nyari', 'tropi', 'susahbiarpun', 'persen', 'bintang', 'tetap', 'sedikitmeski', 'tropi', 'yg', 'serang', 'lbih', 'tinggi', 'bnyak', 'kayak', 'dulu', 'tropi', 'yg', 'sesuai', 'persen', 'serangan']",
                  "update baru ramu cepat nyari tropi susahbiarpun persen bintang tetap sedikitmeski tropi yg serang lbih tinggi bnyak kayak dulu tropi yg sesuai persen serang"
                ],
                [
                  "33",
                  "kepada pihak supercel saya sudah lama bermain clash of clans sejak 2018 dan sampai sekarang pun saya masih bermain, kali ini saya ingin memberikan saran kepada supercell untuk menambahkan atau memperbesar ruang yang berada di desa asal, saya sangat merasakan setiap ada update terbaru tentang penambahan bangunan apapun itu menjadi semakin sempit, dan tidak itu saja, saya jadi tidak bisa berkreatifitas membangun base lebih leluasa, bukan malah menghapus bangunan tertentu. terimakasih",
                  "kepada pihak supercel saya sudah lama bermain clash of clans sejak  dan sampai sekarang pun saya masih bermain kali ini saya ingin memberikan saran kepada supercell untuk menambahkan atau memperbesar ruang yang berada di desa asal saya sangat merasakan setiap ada update terbaru tentang penambahan bangunan apapun itu menjadi semakin sempit dan tidak itu saja saya jadi tidak bisa berkreatifitas membangun base lebih leluasa bukan malah menghapus bangunan tertentu terimakasih",
                  "kepada pihak supercel saya sudah lama bermain clash of clans sejak  dan sampai sekarang pun saya masih bermain kali ini saya ingin memberikan saran kepada supercell untuk menambahkan atau memperbesar ruang yang berada di desa asal saya sangat merasakan setiap ada update terbaru tentang penambahan bangunan apapun itu menjadi semakin sempit dan tidak itu saja saya jadi tidak bisa berkreatifitas membangun base lebih leluasa bukan malah menghapus bangunan tertentu terimakasih",
                  "kepada pihak supercel saya sudah lama bermain clash of clans sejak dan sampai sekarang pun saya masih bermain kali ini saya ingin memberikan saran kepada supercell untuk menambahkan atau memperbesar ruang yang berada di desa asal saya sangat merasakan setiap ada update terbaru tentang penambahan bangunan apapun itu menjadi semakin sempit dan tidak itu saja saya jadi tidak bisa berkreatifitas membangun base lebih leluasa bukan malah menghapus bangunan tertentu terimakasih",
                  "['kepada', 'pihak', 'supercel', 'saya', 'sudah', 'lama', 'bermain', 'clash', 'of', 'clans', 'sejak', 'dan', 'sampai', 'sekarang', 'pun', 'saya', 'masih', 'bermain', 'kali', 'ini', 'saya', 'ingin', 'memberikan', 'saran', 'kepada', 'supercell', 'untuk', 'menambahkan', 'atau', 'memperbesar', 'ruang', 'yang', 'berada', 'di', 'desa', 'asal', 'saya', 'sangat', 'merasakan', 'setiap', 'ada', 'update', 'terbaru', 'tentang', 'penambahan', 'bangunan', 'apapun', 'itu', 'menjadi', 'semakin', 'sempit', 'dan', 'tidak', 'itu', 'saja', 'saya', 'jadi', 'tidak', 'bisa', 'berkreatifitas', 'membangun', 'base', 'lebih', 'leluasa', 'bukan', 'malah', 'menghapus', 'bangunan', 'tertentu', 'terimakasih']",
                  "['pihak', 'supercel', 'lama', 'bermain', 'clash', 'clans', 'sejak', 'sekarang', 'bermain', 'kali', 'memberikan', 'saran', 'supercell', 'menambahkan', 'memperbesar', 'ruang', 'berada', 'desa', 'asal', 'sangat', 'merasakan', 'update', 'terbaru', 'penambahan', 'bangunan', 'apapun', 'menjadi', 'semakin', 'sempit', 'jadi', 'berkreatifitas', 'membangun', 'base', 'lebih', 'leluasa', 'bukan', 'malah', 'menghapus', 'bangunan', 'tertentu', 'terimakasih']",
                  "pihak supercel lama main clash clans sejak sekarang main kali beri saran supercell tambah besar ruang ada desa asal sangat rasa update baru tambah bangun apa jadi makin sempit jadi berkreatifitas bangun base lebih leluasa bukan malah hapus bangun tentu terimakasih"
                ],
                [
                  "34",
                  "gamenya sudah bagus. tapi tolong perbaiki masalah sambungan, ketika terputus jangan relog . tapi tetap didalam gamenya nunggu jaringan stabil/terhubung kembali. supaya ketika farming/war tidak mengganggu, yang mengakibatkan tidak sempurnanya serangan. itu saja, selebihnya sudah bagus......",
                  "gamenya sudah bagus tapi tolong perbaiki masalah sambungan ketika terputus jangan relog  tapi tetap didalam gamenya nunggu jaringan stabilterhubung kembali supaya ketika farmingwar tidak mengganggu yang mengakibatkan tidak sempurnanya serangan itu saja selebihnya sudah bagus",
                  "gamenya sudah bagus tapi tolong perbaiki masalah sambungan ketika terputus jangan relog  tapi tetap didalam gamenya nunggu jaringan stabilterhubung kembali supaya ketika farmingwar tidak mengganggu yang mengakibatkan tidak sempurnanya serangan itu saja selebihnya sudah bagus",
                  "gamenya sudah bagus tapi tolong perbaiki masalah sambungan ketika terputus jangan relog tapi tetap didalam gamenya nunggu jaringan stabilterhubung kembali supaya ketika farmingwar tidak mengganggu yang mengakibatkan tidak sempurnanya serangan itu saja selebihnya sudah bagus",
                  "['gamenya', 'sudah', 'bagus', 'tapi', 'tolong', 'perbaiki', 'masalah', 'sambungan', 'ketika', 'terputus', 'jangan', 'relog', 'tapi', 'tetap', 'didalam', 'gamenya', 'nunggu', 'jaringan', 'stabilterhubung', 'kembali', 'supaya', 'ketika', 'farmingwar', 'tidak', 'mengganggu', 'yang', 'mengakibatkan', 'tidak', 'sempurnanya', 'serangan', 'itu', 'saja', 'selebihnya', 'sudah', 'bagus']",
                  "['gamenya', 'bagus', 'perbaiki', 'masalah', 'sambungan', 'terputus', 'jangan', 'relog', 'tetap', 'didalam', 'gamenya', 'nunggu', 'jaringan', 'stabilterhubung', 'farmingwar', 'mengganggu', 'mengakibatkan', 'sempurnanya', 'serangan', 'selebihnya', 'bagus']",
                  "gamenya bagus baik masalah sambung putus jangan relog tetap dalam gamenya nunggu jaring stabilterhubung farmingwar ganggu akibat sempurna serang lebih bagus"
                ],
                [
                  "35",
                  "kenapa setiap mau menyerang seringnya muncul th yg lebih tinggi dari th milik sendiri, waktu th 11 sering muncul th 12 ketika th 12 sering muncul th 13, kalo kayak gini kan waktunya cuma habis buat pencarian terus menerus bikin lama sedangkan mencari lawan munculnya itu2 aja yg diatas th kita, tolong lah dipermudah!!!",
                  "kenapa setiap mau menyerang seringnya muncul th yg lebih tinggi dari th milik sendiri waktu th  sering muncul th  ketika th  sering muncul th  kalo kayak gini kan waktunya cuma habis buat pencarian terus menerus bikin lama sedangkan mencari lawan munculnya itu aja yg diatas th kita tolong lah dipermudah",
                  "kenapa setiap mau menyerang seringnya muncul th yg lebih tinggi dari th milik sendiri waktu th  sering muncul th  ketika th  sering muncul th  kalo kayak gini kan waktunya cuma habis buat pencarian terus menerus bikin lama sedangkan mencari lawan munculnya itu aja yg diatas th kita tolong lah dipermudah",
                  "kenapa setiap mau menyerang seringnya muncul th yg lebih tinggi dari th milik sendiri waktu th sering muncul th ketika th sering muncul th kalo kayak gini kan waktunya cuma habis buat pencarian terus menerus bikin lama sedangkan mencari lawan munculnya itu aja yg diatas th kita tolong lah dipermudah",
                  "['kenapa', 'setiap', 'mau', 'menyerang', 'seringnya', 'muncul', 'th', 'yg', 'lebih', 'tinggi', 'dari', 'th', 'milik', 'sendiri', 'waktu', 'th', 'sering', 'muncul', 'th', 'ketika', 'th', 'sering', 'muncul', 'th', 'kalo', 'kayak', 'gini', 'kan', 'waktunya', 'cuma', 'habis', 'buat', 'pencarian', 'terus', 'menerus', 'bikin', 'lama', 'sedangkan', 'mencari', 'lawan', 'munculnya', 'itu', 'aja', 'yg', 'diatas', 'th', 'kita', 'tolong', 'lah', 'dipermudah']",
                  "['mau', 'menyerang', 'seringnya', 'muncul', 'th', 'yg', 'lebih', 'tinggi', 'th', 'milik', 'sendiri', 'waktu', 'th', 'sering', 'muncul', 'th', 'th', 'sering', 'muncul', 'th', 'kalo', 'kayak', 'gini', 'kan', 'waktunya', 'cuma', 'habis', 'buat', 'pencarian', 'terus', 'menerus', 'bikin', 'lama', 'mencari', 'lawan', 'munculnya', 'aja', 'yg', 'diatas', 'th', 'lah', 'dipermudah']",
                  "mau serang sering muncul th yg lebih tinggi th milik sendiri waktu th sering muncul th th sering muncul th kalo kayak gin kan waktu cuma habis buat cari terus terus bikin lama cari lawan muncul aja yg atas th lah mudah"
                ],
                [
                  "36",
                  "Dari segi permainan bagus. Tapi dari keseimbangan rank Legend (Multiplayer) kurang. Saya TH 12.. saat gabung di rank Legend, kenapa saya harus dihadapkan dengan TH 14 yang jauh lebih tinggi dan kuat dari saya.? Mohon perbaiki mengenai keseimbangan di rank Legend berdasarkan tinggi TH pemain. Dan sering juga lost connect saat war multiplayer atau versus, mohon keseimbangan dan perbaikan koneksinya.. Saya tunggu perkembanganya. Itu saja, terimakasih..",
                  "Dari segi permainan bagus Tapi dari keseimbangan rank Legend Multiplayer kurang Saya TH  saat gabung di rank Legend kenapa saya harus dihadapkan dengan TH  yang jauh lebih tinggi dan kuat dari saya Mohon perbaiki mengenai keseimbangan di rank Legend berdasarkan tinggi TH pemain Dan sering juga lost connect saat war multiplayer atau versus mohon keseimbangan dan perbaikan koneksinya Saya tunggu perkembanganya Itu saja terimakasih",
                  "dari segi permainan bagus tapi dari keseimbangan rank legend multiplayer kurang saya th  saat gabung di rank legend kenapa saya harus dihadapkan dengan th  yang jauh lebih tinggi dan kuat dari saya mohon perbaiki mengenai keseimbangan di rank legend berdasarkan tinggi th pemain dan sering juga lost connect saat war multiplayer atau versus mohon keseimbangan dan perbaikan koneksinya saya tunggu perkembanganya itu saja terimakasih",
                  "dari segi permainan bagus tapi dari keseimbangan rank legend multiplayer kurang saya th saat gabung di rank legend kenapa saya harus dihadapkan dengan th yang jauh lebih tinggi dan kuat dari saya mohon perbaiki mengenai keseimbangan di rank legend berdasarkan tinggi th pemain dan sering juga lost connect saat war multiplayer atau versus mohon keseimbangan dan perbaikan koneksinya saya tunggu perkembanganya itu saja terimakasih",
                  "['dari', 'segi', 'permainan', 'bagus', 'tapi', 'dari', 'keseimbangan', 'rank', 'legend', 'multiplayer', 'kurang', 'saya', 'th', 'saat', 'gabung', 'di', 'rank', 'legend', 'kenapa', 'saya', 'harus', 'dihadapkan', 'dengan', 'th', 'yang', 'jauh', 'lebih', 'tinggi', 'dan', 'kuat', 'dari', 'saya', 'mohon', 'perbaiki', 'mengenai', 'keseimbangan', 'di', 'rank', 'legend', 'berdasarkan', 'tinggi', 'th', 'pemain', 'dan', 'sering', 'juga', 'lost', 'connect', 'saat', 'war', 'multiplayer', 'atau', 'versus', 'mohon', 'keseimbangan', 'dan', 'perbaikan', 'koneksinya', 'saya', 'tunggu', 'perkembanganya', 'itu', 'saja', 'terimakasih']",
                  "['segi', 'permainan', 'bagus', 'keseimbangan', 'rank', 'legend', 'multiplayer', 'kurang', 'th', 'gabung', 'rank', 'legend', 'dihadapkan', 'th', 'jauh', 'lebih', 'tinggi', 'kuat', 'mohon', 'perbaiki', 'mengenai', 'keseimbangan', 'rank', 'legend', 'berdasarkan', 'tinggi', 'th', 'pemain', 'sering', 'lost', 'connect', 'war', 'multiplayer', 'versus', 'mohon', 'keseimbangan', 'perbaikan', 'koneksinya', 'tunggu', 'perkembanganya', 'terimakasih']",
                  "segi main bagus imbang rank legend multiplayer kurang th gabung rank legend hadap th jauh lebih tinggi kuat mohon baik kena imbang rank legend dasar tinggi th main sering lost connect war multiplayer versus mohon imbang baik koneksi tunggu perkembanganya terimakasih"
                ],
                [
                  "37",
                  "Kok sering banget masalah jaringan sih. Buat main game MPV lain lancar banget internet. Bahkan game PC . Ini kenapa di COC suka putus di tengah pertandingan? Pasukan belum keluar semua malah putus koneksi. edit: akhirnya ada perbaikan. tapi kok gambarnya jadi sering burik ya 😁 tapi gpp. yg penting ga putus lagi",
                  "Kok sering banget masalah jaringan sih Buat main game MPV lain lancar banget internet Bahkan game PC  Ini kenapa di COC suka putus di tengah pertandingan Pasukan belum keluar semua malah putus koneksi edit akhirnya ada perbaikan tapi kok gambarnya jadi sering burik ya  tapi gpp yg penting ga putus lagi",
                  "kok sering banget masalah jaringan sih buat main game mpv lain lancar banget internet bahkan game pc  ini kenapa di coc suka putus di tengah pertandingan pasukan belum keluar semua malah putus koneksi edit akhirnya ada perbaikan tapi kok gambarnya jadi sering burik ya  tapi gpp yg penting ga putus lagi",
                  "kok sering banget masalah jaringan sih buat main game mpv lain lancar banget internet bahkan game pc ini kenapa di coc suka putus di tengah pertandingan pasukan belum keluar semua malah putus koneksi edit akhirnya ada perbaikan tapi kok gambarnya jadi sering burik ya tapi gpp yg penting ga putus lagi",
                  "['kok', 'sering', 'banget', 'masalah', 'jaringan', 'sih', 'buat', 'main', 'game', 'mpv', 'lain', 'lancar', 'banget', 'internet', 'bahkan', 'game', 'pc', 'ini', 'kenapa', 'di', 'coc', 'suka', 'putus', 'di', 'tengah', 'pertandingan', 'pasukan', 'belum', 'keluar', 'semua', 'malah', 'putus', 'koneksi', 'edit', 'akhirnya', 'ada', 'perbaikan', 'tapi', 'kok', 'gambarnya', 'jadi', 'sering', 'burik', 'ya', 'tapi', 'gpp', 'yg', 'penting', 'ga', 'putus', 'lagi']",
                  "['kok', 'sering', 'banget', 'masalah', 'jaringan', 'buat', 'main', 'game', 'mpv', 'lancar', 'banget', 'internet', 'bahkan', 'game', 'pc', 'coc', 'suka', 'putus', 'tengah', 'pertandingan', 'pasukan', 'keluar', 'semua', 'malah', 'putus', 'koneksi', 'edit', 'akhirnya', 'perbaikan', 'kok', 'gambarnya', 'jadi', 'sering', 'burik', 'gpp', 'yg', 'penting', 'putus']",
                  "kok sering banget masalah jaring buat main game mpv lancar banget internet bahkan game pc coc suka putus tengah tanding pasu keluar semua malah putus koneksi edit akhir baik kok gambar jadi sering burik gpp yg penting putus"
                ],
                [
                  "38",
                  "❤❤❤❤❤ mulai suka lagi.... kalo boleh saran : 1. turunkan harga tembok 2. untuk menonton live desa d serang setidak nya beri emot 😁🤣😭😥😳 agar bisa memberi reaksi saat meneonton desa di serang lawan. 3. kalo bisa memilih desa teman atau orang lain untuk di serang... agar bisa berlatih pertahanan. 4. percepat waktu peningkatan. yg aku suka : 1. kek ada elit pas ny gt😁 2. melatih tentara gk butuh wktu lama lebih sering berperng mencari emas dan eleksir🥰",
                  "mulai suka lagi kalo boleh saran   turunkan harga tembok  untuk menonton live desa d serang setidak nya beri emot  agar bisa memberi reaksi saat meneonton desa di serang lawan  kalo bisa memilih desa teman atau orang lain untuk di serang agar bisa berlatih pertahanan  percepat waktu peningkatan yg aku suka   kek ada elit pas ny gt  melatih tentara gk butuh wktu lama lebih sering berperng mencari emas dan eleksir",
                  "mulai suka lagi kalo boleh saran   turunkan harga tembok  untuk menonton live desa d serang setidak nya beri emot  agar bisa memberi reaksi saat meneonton desa di serang lawan  kalo bisa memilih desa teman atau orang lain untuk di serang agar bisa berlatih pertahanan  percepat waktu peningkatan yg aku suka   kek ada elit pas ny gt  melatih tentara gk butuh wktu lama lebih sering berperng mencari emas dan eleksir",
                  "mulai suka lagi kalo boleh saran turunkan harga tembok untuk menonton live desa d serang setidak nya beri emot agar bisa memberi reaksi saat meneonton desa di serang lawan kalo bisa memilih desa teman atau orang lain untuk di serang agar bisa berlatih pertahanan percepat waktu peningkatan yg aku suka kek ada elit pas ny gt melatih tentara gk butuh wktu lama lebih sering berperng mencari emas dan eleksir",
                  "['mulai', 'suka', 'lagi', 'kalo', 'boleh', 'saran', 'turunkan', 'harga', 'tembok', 'untuk', 'menonton', 'live', 'desa', 'd', 'serang', 'setidak', 'nya', 'beri', 'emot', 'agar', 'bisa', 'memberi', 'reaksi', 'saat', 'meneonton', 'desa', 'di', 'serang', 'lawan', 'kalo', 'bisa', 'memilih', 'desa', 'teman', 'atau', 'orang', 'lain', 'untuk', 'di', 'serang', 'agar', 'bisa', 'berlatih', 'pertahanan', 'percepat', 'waktu', 'peningkatan', 'yg', 'aku', 'suka', 'kek', 'ada', 'elit', 'pas', 'ny', 'gt', 'melatih', 'tentara', 'gk', 'butuh', 'wktu', 'lama', 'lebih', 'sering', 'berperng', 'mencari', 'emas', 'dan', 'eleksir']",
                  "['mulai', 'suka', 'kalo', 'saran', 'turunkan', 'harga', 'tembok', 'menonton', 'live', 'desa', 'serang', 'setidak', 'beri', 'emot', 'memberi', 'reaksi', 'meneonton', 'desa', 'serang', 'lawan', 'kalo', 'memilih', 'desa', 'teman', 'orang', 'serang', 'berlatih', 'pertahanan', 'percepat', 'waktu', 'peningkatan', 'yg', 'aku', 'suka', 'kek', 'elit', 'pas', 'ny', 'gt', 'melatih', 'tentara', 'gk', 'butuh', 'wktu', 'lama', 'lebih', 'sering', 'berperng', 'mencari', 'emas', 'eleksir']",
                  "mulai suka kalo saran turun harga tembok tonton live desa serang tidak beri emot beri reaksi meneonton desa serang lawan kalo pilih desa teman orang serang latih tahan cepat waktu tingkat yg aku suka kek elit pas ny gt latih tentara gk butuh wktu lama lebih sering berperng cari emas eleksir"
                ],
                [
                  "39",
                  "Untuk supercell, di update terbaru COC kali ini saya menemukan BUG. Yaitu ketika kondisi spell dan mesin pengepungan masih belum di pakai di CC, dan ketika pemain hanya request troops saja. Tetapi di pihak si pendonasi malah terdeteksi tidak ada spell dan mesin pengepungan sama sekali sehingga harus double mendonasikan spell dan mesin pengepungan yang harusnya masih ada malah hilang. jika ingin terimakasih kirimkan 1500 gems ke akun saya #VU9VCLUJ",
                  "Untuk supercell di update terbaru COC kali ini saya menemukan BUG Yaitu ketika kondisi spell dan mesin pengepungan masih belum di pakai di CC dan ketika pemain hanya request troops saja Tetapi di pihak si pendonasi malah terdeteksi tidak ada spell dan mesin pengepungan sama sekali sehingga harus double mendonasikan spell dan mesin pengepungan yang harusnya masih ada malah hilang jika ingin terimakasih kirimkan  gems ke akun saya",
                  "untuk supercell di update terbaru coc kali ini saya menemukan bug yaitu ketika kondisi spell dan mesin pengepungan masih belum di pakai di cc dan ketika pemain hanya request troops saja tetapi di pihak si pendonasi malah terdeteksi tidak ada spell dan mesin pengepungan sama sekali sehingga harus double mendonasikan spell dan mesin pengepungan yang harusnya masih ada malah hilang jika ingin terimakasih kirimkan  gems ke akun saya",
                  "untuk supercell di update terbaru coc kali ini saya menemukan bug yaitu ketika kondisi spell dan mesin pengepungan masih belum di pakai di cc dan ketika pemain hanya request troops saja tetapi di pihak si pendonasi malah terdeteksi tidak ada spell dan mesin pengepungan sama sekali sehingga harus double mendonasikan spell dan mesin pengepungan yang harusnya masih ada malah hilang jika ingin terimakasih kirimkan gems ke akun saya",
                  "['untuk', 'supercell', 'di', 'update', 'terbaru', 'coc', 'kali', 'ini', 'saya', 'menemukan', 'bug', 'yaitu', 'ketika', 'kondisi', 'spell', 'dan', 'mesin', 'pengepungan', 'masih', 'belum', 'di', 'pakai', 'di', 'cc', 'dan', 'ketika', 'pemain', 'hanya', 'request', 'troops', 'saja', 'tetapi', 'di', 'pihak', 'si', 'pendonasi', 'malah', 'terdeteksi', 'tidak', 'ada', 'spell', 'dan', 'mesin', 'pengepungan', 'sama', 'sekali', 'sehingga', 'harus', 'double', 'mendonasikan', 'spell', 'dan', 'mesin', 'pengepungan', 'yang', 'harusnya', 'masih', 'ada', 'malah', 'hilang', 'jika', 'ingin', 'terimakasih', 'kirimkan', 'gems', 'ke', 'akun', 'saya']",
                  "['supercell', 'update', 'terbaru', 'coc', 'kali', 'menemukan', 'bug', 'kondisi', 'spell', 'mesin', 'pengepungan', 'pakai', 'cc', 'pemain', 'request', 'troops', 'pihak', 'si', 'pendonasi', 'malah', 'terdeteksi', 'spell', 'mesin', 'pengepungan', 'sama', 'sekali', 'double', 'mendonasikan', 'spell', 'mesin', 'pengepungan', 'harusnya', 'malah', 'hilang', 'terimakasih', 'kirimkan', 'gems', 'akun']",
                  "supercell update baru coc kali temu bug kondisi spell mesin kepung pakai cc main request troops pihak si donasi malah deteksi spell mesin kepung sama sekali double donasi spell mesin kepung harus malah hilang terimakasih kirim gems akun"
                ],
                [
                  "40",
                  "Perbaiki Bug sambungan terputus dan juga serverr sedang erorr saya setiap war clan selalu kaya gini jadi udah muak banget lgi enak nge attack musuh malah disconnect,niat nya mau nostalgia malah ga seru klo kaya gini. (Mohon untuk segera di lakukan perbaikan untuk bug ataupun server error')",
                  "Perbaiki Bug sambungan terputus dan juga serverr sedang erorr saya setiap war clan selalu kaya gini jadi udah muak banget lgi enak nge attack musuh malah disconnectniat nya mau nostalgia malah ga seru klo kaya gini Mohon untuk segera di lakukan perbaikan untuk bug ataupun server error",
                  "perbaiki bug sambungan terputus dan juga serverr sedang erorr saya setiap war clan selalu kaya gini jadi udah muak banget lgi enak nge attack musuh malah disconnectniat nya mau nostalgia malah ga seru klo kaya gini mohon untuk segera di lakukan perbaikan untuk bug ataupun server error",
                  "perbaiki bug sambungan terputus dan juga serverr sedang erorr saya setiap war clan selalu kaya gini jadi udah muak banget lgi enak nge attack musuh malah disconnectniat nya mau nostalgia malah ga seru klo kaya gini mohon untuk segera di lakukan perbaikan untuk bug ataupun server error",
                  "['perbaiki', 'bug', 'sambungan', 'terputus', 'dan', 'juga', 'serverr', 'sedang', 'erorr', 'saya', 'setiap', 'war', 'clan', 'selalu', 'kaya', 'gini', 'jadi', 'udah', 'muak', 'banget', 'lgi', 'enak', 'nge', 'attack', 'musuh', 'malah', 'disconnectniat', 'nya', 'mau', 'nostalgia', 'malah', 'ga', 'seru', 'klo', 'kaya', 'gini', 'mohon', 'untuk', 'segera', 'di', 'lakukan', 'perbaikan', 'untuk', 'bug', 'ataupun', 'server', 'error']",
                  "['perbaiki', 'bug', 'sambungan', 'terputus', 'serverr', 'sedang', 'erorr', 'war', 'clan', 'selalu', 'kaya', 'gini', 'jadi', 'udah', 'muak', 'banget', 'lgi', 'enak', 'nge', 'attack', 'musuh', 'malah', 'disconnectniat', 'mau', 'nostalgia', 'malah', 'seru', 'klo', 'kaya', 'gini', 'mohon', 'segera', 'lakukan', 'perbaikan', 'bug', 'ataupun', 'server', 'error']",
                  "baik bug sambung putus serverr sedang erorr war clan selalu kaya gin jadi udah muak banget lgi enak nge attack musuh malah disconnectniat mau nostalgia malah seru klo kaya gin mohon segera laku baik bug atau server error"
                ],
                [
                  "41",
                  "Seperti komenan orang-orang lainnya, semoga dibaca sama Supercell. Jaringan selalu tiba-tiba hilang, kayak pattern, setiap udah nyerang beberapa kali, pasti jaringan tiba2 ilang. Aneh banget. Supercell mikir ga si? Rasanya mikirin strategi lama banget terus pas nyerang tiba-tiba jaringan ilang? Padahal jaringan aman aja lancar banget, tapi selalu lose connection.",
                  "Seperti komenan orangorang lainnya semoga dibaca sama Supercell Jaringan selalu tibatiba hilang kayak pattern setiap udah nyerang beberapa kali pasti jaringan tiba ilang Aneh banget Supercell mikir ga si Rasanya mikirin strategi lama banget terus pas nyerang tibatiba jaringan ilang Padahal jaringan aman aja lancar banget tapi selalu lose connection",
                  "seperti komenan orangorang lainnya semoga dibaca sama supercell jaringan selalu tibatiba hilang kayak pattern setiap udah nyerang beberapa kali pasti jaringan tiba ilang aneh banget supercell mikir ga si rasanya mikirin strategi lama banget terus pas nyerang tibatiba jaringan ilang padahal jaringan aman aja lancar banget tapi selalu lose connection",
                  "seperti komenan orangorang lainnya semoga dibaca sama supercell jaringan selalu tibatiba hilang kayak pattern setiap udah nyerang beberapa kali pasti jaringan tiba ilang aneh banget supercell mikir ga si rasanya mikirin strategi lama banget terus pas nyerang tibatiba jaringan ilang padahal jaringan aman aja lancar banget tapi selalu lose connection",
                  "['seperti', 'komenan', 'orangorang', 'lainnya', 'semoga', 'dibaca', 'sama', 'supercell', 'jaringan', 'selalu', 'tibatiba', 'hilang', 'kayak', 'pattern', 'setiap', 'udah', 'nyerang', 'beberapa', 'kali', 'pasti', 'jaringan', 'tiba', 'ilang', 'aneh', 'banget', 'supercell', 'mikir', 'ga', 'si', 'rasanya', 'mikirin', 'strategi', 'lama', 'banget', 'terus', 'pas', 'nyerang', 'tibatiba', 'jaringan', 'ilang', 'padahal', 'jaringan', 'aman', 'aja', 'lancar', 'banget', 'tapi', 'selalu', 'lose', 'connection']",
                  "['komenan', 'orangorang', 'lainnya', 'semoga', 'dibaca', 'sama', 'supercell', 'jaringan', 'selalu', 'tibatiba', 'hilang', 'kayak', 'pattern', 'udah', 'nyerang', 'beberapa', 'kali', 'jaringan', 'tiba', 'ilang', 'aneh', 'banget', 'supercell', 'mikir', 'si', 'rasanya', 'mikirin', 'strategi', 'lama', 'banget', 'terus', 'pas', 'nyerang', 'tibatiba', 'jaringan', 'ilang', 'padahal', 'jaringan', 'aman', 'aja', 'lancar', 'banget', 'selalu', 'lose', 'connection']",
                  "komenan orangorang lain moga baca sama supercell jaring selalu tibatiba hilang kayak pattern udah nyerang beberapa kali jaring tiba ilang aneh banget supercell mikir si rasa mikirin strategi lama banget terus pas nyerang tibatiba jaring ilang padahal jaring aman aja lancar banget selalu lose connection"
                ],
                [
                  "42",
                  "min Coc saya kenapa nih Setiap Saya perang Ada aja Gangguannya contohnya Gini min ( kesalahan ) klien server tidak sinkron! pembaruan terkini yang mencakup bug dan beberapa perombakan telah tersedia di toko Aplikasi, saya kasih Bintang 3 dulu ya min🙏",
                  "min Coc saya kenapa nih Setiap Saya perang Ada aja Gangguannya contohnya Gini min  kesalahan  klien server tidak sinkron pembaruan terkini yang mencakup bug dan beberapa perombakan telah tersedia di toko Aplikasi saya kasih Bintang  dulu ya min",
                  "min coc saya kenapa nih setiap saya perang ada aja gangguannya contohnya gini min  kesalahan  klien server tidak sinkron pembaruan terkini yang mencakup bug dan beberapa perombakan telah tersedia di toko aplikasi saya kasih bintang  dulu ya min",
                  "min coc saya kenapa nih setiap saya perang ada aja gangguannya contohnya gini min kesalahan klien server tidak sinkron pembaruan terkini yang mencakup bug dan beberapa perombakan telah tersedia di toko aplikasi saya kasih bintang dulu ya min",
                  "['min', 'coc', 'saya', 'kenapa', 'nih', 'setiap', 'saya', 'perang', 'ada', 'aja', 'gangguannya', 'contohnya', 'gini', 'min', 'kesalahan', 'klien', 'server', 'tidak', 'sinkron', 'pembaruan', 'terkini', 'yang', 'mencakup', 'bug', 'dan', 'beberapa', 'perombakan', 'telah', 'tersedia', 'di', 'toko', 'aplikasi', 'saya', 'kasih', 'bintang', 'dulu', 'ya', 'min']",
                  "['min', 'coc', 'nih', 'perang', 'aja', 'gangguannya', 'contohnya', 'gini', 'min', 'kesalahan', 'klien', 'server', 'sinkron', 'pembaruan', 'terkini', 'mencakup', 'bug', 'beberapa', 'perombakan', 'tersedia', 'toko', 'aplikasi', 'kasih', 'bintang', 'dulu', 'min']",
                  "min coc nih perang aja ganggu contoh gin min salah klien server sinkron baru kini cakup bug beberapa ombak sedia toko aplikasi kasih bintang dulu min"
                ],
                [
                  "43",
                  "Sering ada masalah dengan koneksi wifi dan jaringan seluler sama saja .. bug juga ada, saya mengupload tentang bug itu di YouTube dan video di takedown... Satu lagi terkadang saat log in game freez.. saya menggunakan device dengan chipset dimensity 1080, itu bukan chipset kentang...",
                  "Sering ada masalah dengan koneksi wifi dan jaringan seluler sama saja  bug juga ada saya mengupload tentang bug itu di YouTube dan video di takedown Satu lagi terkadang saat log in game freez saya menggunakan device dengan chipset dimensity  itu bukan chipset kentang",
                  "sering ada masalah dengan koneksi wifi dan jaringan seluler sama saja  bug juga ada saya mengupload tentang bug itu di youtube dan video di takedown satu lagi terkadang saat log in game freez saya menggunakan device dengan chipset dimensity  itu bukan chipset kentang",
                  "sering ada masalah dengan koneksi wifi dan jaringan seluler sama saja bug juga ada saya mengupload tentang bug itu di youtube dan video di takedown satu lagi terkadang saat log in game freez saya menggunakan device dengan chipset dimensity itu bukan chipset kentang",
                  "['sering', 'ada', 'masalah', 'dengan', 'koneksi', 'wifi', 'dan', 'jaringan', 'seluler', 'sama', 'saja', 'bug', 'juga', 'ada', 'saya', 'mengupload', 'tentang', 'bug', 'itu', 'di', 'youtube', 'dan', 'video', 'di', 'takedown', 'satu', 'lagi', 'terkadang', 'saat', 'log', 'in', 'game', 'freez', 'saya', 'menggunakan', 'device', 'dengan', 'chipset', 'dimensity', 'itu', 'bukan', 'chipset', 'kentang']",
                  "['sering', 'masalah', 'koneksi', 'wifi', 'jaringan', 'seluler', 'sama', 'bug', 'mengupload', 'bug', 'youtube', 'video', 'takedown', 'satu', 'terkadang', 'log', 'game', 'freez', 'menggunakan', 'device', 'chipset', 'dimensity', 'bukan', 'chipset', 'kentang']",
                  "sering masalah koneksi wifi jaring seluler sama bug mengupload bug youtube video takedown satu terkadang log game freez guna device chipset dimensity bukan chipset kentang"
                ],
                [
                  "44",
                  "Game sering banget relog pas mau nyerang, tiba-tiba muncul pesan ‘Klien dan server tidak sinkron’ terus langsung keluar sendiri. Ini bikin rugi banget, apalagi pas lagi war atau cari loot. Udah coba koneksi stabil dan update terbaru, tapi tetap aja kejadian. Tolong segera diperbaiki biar mainnya nggak terganggu. Terima kasih!",
                  "Game sering banget relog pas mau nyerang tibatiba muncul pesan Klien dan server tidak sinkron terus langsung keluar sendiri Ini bikin rugi banget apalagi pas lagi war atau cari loot Udah coba koneksi stabil dan update terbaru tapi tetap aja kejadian Tolong segera diperbaiki biar mainnya nggak terganggu Terima kasih",
                  "game sering banget relog pas mau nyerang tibatiba muncul pesan klien dan server tidak sinkron terus langsung keluar sendiri ini bikin rugi banget apalagi pas lagi war atau cari loot udah coba koneksi stabil dan update terbaru tapi tetap aja kejadian tolong segera diperbaiki biar mainnya nggak terganggu terima kasih",
                  "game sering banget relog pas mau nyerang tibatiba muncul pesan klien dan server tidak sinkron terus langsung keluar sendiri ini bikin rugi banget apalagi pas lagi war atau cari loot udah coba koneksi stabil dan update terbaru tapi tetap aja kejadian tolong segera diperbaiki biar mainnya nggak terganggu terima kasih",
                  "['game', 'sering', 'banget', 'relog', 'pas', 'mau', 'nyerang', 'tibatiba', 'muncul', 'pesan', 'klien', 'dan', 'server', 'tidak', 'sinkron', 'terus', 'langsung', 'keluar', 'sendiri', 'ini', 'bikin', 'rugi', 'banget', 'apalagi', 'pas', 'lagi', 'war', 'atau', 'cari', 'loot', 'udah', 'coba', 'koneksi', 'stabil', 'dan', 'update', 'terbaru', 'tapi', 'tetap', 'aja', 'kejadian', 'tolong', 'segera', 'diperbaiki', 'biar', 'mainnya', 'nggak', 'terganggu', 'terima', 'kasih']",
                  "['game', 'sering', 'banget', 'relog', 'pas', 'mau', 'nyerang', 'tibatiba', 'muncul', 'pesan', 'klien', 'server', 'sinkron', 'terus', 'langsung', 'keluar', 'sendiri', 'bikin', 'rugi', 'banget', 'pas', 'war', 'cari', 'loot', 'udah', 'coba', 'koneksi', 'stabil', 'update', 'terbaru', 'tetap', 'aja', 'kejadian', 'segera', 'diperbaiki', 'biar', 'mainnya', 'terganggu', 'terima', 'kasih']",
                  "game sering banget relog pas mau nyerang tibatiba muncul pesan klien server sinkron terus langsung keluar sendiri bikin rugi banget pas war cari loot udah coba koneksi stabil update baru tetap aja jadi segera baik biar main ganggu terima kasih"
                ],
                [
                  "45",
                  "padahal dulu game prioritas. tapi sekarang kayaknya enggak. di karenakan tiap bulan pasti update, dan tolong masalah jaringan nya. kalau attc war langsung lost connect. harusnya jangan seperti itu. karena waktu attack war seperti itu otomatis pemain langsung kecewa. . mohon kalau jaringan tidak stabil jangan langsung keluar",
                  "padahal dulu game prioritas tapi sekarang kayaknya enggak di karenakan tiap bulan pasti update dan tolong masalah jaringan nya kalau attc war langsung lost connect harusnya jangan seperti itu karena waktu attack war seperti itu otomatis pemain langsung kecewa  mohon kalau jaringan tidak stabil jangan langsung keluar",
                  "padahal dulu game prioritas tapi sekarang kayaknya enggak di karenakan tiap bulan pasti update dan tolong masalah jaringan nya kalau attc war langsung lost connect harusnya jangan seperti itu karena waktu attack war seperti itu otomatis pemain langsung kecewa  mohon kalau jaringan tidak stabil jangan langsung keluar",
                  "padahal dulu game prioritas tapi sekarang kayaknya enggak di karenakan tiap bulan pasti update dan tolong masalah jaringan nya kalau attc war langsung lost connect harusnya jangan seperti itu karena waktu attack war seperti itu otomatis pemain langsung kecewa mohon kalau jaringan tidak stabil jangan langsung keluar",
                  "['padahal', 'dulu', 'game', 'prioritas', 'tapi', 'sekarang', 'kayaknya', 'enggak', 'di', 'karenakan', 'tiap', 'bulan', 'pasti', 'update', 'dan', 'tolong', 'masalah', 'jaringan', 'nya', 'kalau', 'attc', 'war', 'langsung', 'lost', 'connect', 'harusnya', 'jangan', 'seperti', 'itu', 'karena', 'waktu', 'attack', 'war', 'seperti', 'itu', 'otomatis', 'pemain', 'langsung', 'kecewa', 'mohon', 'kalau', 'jaringan', 'tidak', 'stabil', 'jangan', 'langsung', 'keluar']",
                  "['padahal', 'dulu', 'game', 'prioritas', 'sekarang', 'kayaknya', 'enggak', 'karenakan', 'tiap', 'bulan', 'update', 'masalah', 'jaringan', 'kalau', 'attc', 'war', 'langsung', 'lost', 'connect', 'harusnya', 'jangan', 'waktu', 'attack', 'war', 'otomatis', 'pemain', 'langsung', 'kecewa', 'mohon', 'kalau', 'jaringan', 'stabil', 'jangan', 'langsung', 'keluar']",
                  "padahal dulu game prioritas sekarang kayak enggak karena tiap bulan update masalah jaring kalau attc war langsung lost connect harus jangan waktu attack war otomatis main langsung kecewa mohon kalau jaring stabil jangan langsung keluar"
                ],
                [
                  "46",
                  "Gameplay nya udah bagus,tapi setidaknya untuk search match dan hadiah trofinya dapat diperbaiki.masa iya,kita yang melawan musuh dengan level ibu kota lebih tinggi hanya mendapat 3 trofi.giliran orang lain yang menyerang kita dengan level ibu kota yang lebih tinggi malah diberi trofi yang banyak.",
                  "Gameplay nya udah bagustapi setidaknya untuk search match dan hadiah trofinya dapat diperbaikimasa iyakita yang melawan musuh dengan level ibu kota lebih tinggi hanya mendapat  trofigiliran orang lain yang menyerang kita dengan level ibu kota yang lebih tinggi malah diberi trofi yang banyak",
                  "gameplay nya udah bagustapi setidaknya untuk search match dan hadiah trofinya dapat diperbaikimasa iyakita yang melawan musuh dengan level ibu kota lebih tinggi hanya mendapat  trofigiliran orang lain yang menyerang kita dengan level ibu kota yang lebih tinggi malah diberi trofi yang banyak",
                  "gameplay nya udah bagustapi setidaknya untuk search match dan hadiah trofinya dapat diperbaikimasa iyakita yang melawan musuh dengan level ibu kota lebih tinggi hanya mendapat trofigiliran orang lain yang menyerang kita dengan level ibu kota yang lebih tinggi malah diberi trofi yang banyak",
                  "['gameplay', 'nya', 'udah', 'bagustapi', 'setidaknya', 'untuk', 'search', 'match', 'dan', 'hadiah', 'trofinya', 'dapat', 'diperbaikimasa', 'iyakita', 'yang', 'melawan', 'musuh', 'dengan', 'level', 'ibu', 'kota', 'lebih', 'tinggi', 'hanya', 'mendapat', 'trofigiliran', 'orang', 'lain', 'yang', 'menyerang', 'kita', 'dengan', 'level', 'ibu', 'kota', 'yang', 'lebih', 'tinggi', 'malah', 'diberi', 'trofi', 'yang', 'banyak']",
                  "['gameplay', 'udah', 'bagustapi', 'search', 'match', 'hadiah', 'trofinya', 'diperbaikimasa', 'iyakita', 'melawan', 'musuh', 'level', 'ibu', 'kota', 'lebih', 'tinggi', 'mendapat', 'trofigiliran', 'orang', 'menyerang', 'level', 'ibu', 'kota', 'lebih', 'tinggi', 'malah', 'diberi', 'trofi', 'banyak']",
                  "gameplay udah bagustapi search match hadiah trofi diperbaikimasa iyakita lawan musuh level ibu kota lebih tinggi dapat trofigiliran orang serang level ibu kota lebih tinggi malah beri trofi banyak"
                ],
                [
                  "47",
                  "tolonglah perbaiki tentang masalah supercell id, misalnya kaya bug kode verif ga muncul, trus sy mau masukkan akun sy yg lain, pas masuk ke supercell id tiba\" lag, patah\", padahal di gameplay nya ga lag, tolonglah min, sy main coc udh dari lama, tolong perbaiki.",
                  "tolonglah perbaiki tentang masalah supercell id misalnya kaya bug kode verif ga muncul trus sy mau masukkan akun sy yg lain pas masuk ke supercell id tiba lag patah padahal di gameplay nya ga lag tolonglah min sy main coc udh dari lama tolong perbaiki",
                  "tolonglah perbaiki tentang masalah supercell id misalnya kaya bug kode verif ga muncul trus sy mau masukkan akun sy yg lain pas masuk ke supercell id tiba lag patah padahal di gameplay nya ga lag tolonglah min sy main coc udh dari lama tolong perbaiki",
                  "tolonglah perbaiki tentang masalah supercell id misalnya kaya bug kode verif ga muncul trus sy mau masukkan akun sy yg lain pas masuk ke supercell id tiba lag patah padahal di gameplay nya ga lag tolonglah min sy main coc udh dari lama tolong perbaiki",
                  "['tolonglah', 'perbaiki', 'tentang', 'masalah', 'supercell', 'id', 'misalnya', 'kaya', 'bug', 'kode', 'verif', 'ga', 'muncul', 'trus', 'sy', 'mau', 'masukkan', 'akun', 'sy', 'yg', 'lain', 'pas', 'masuk', 'ke', 'supercell', 'id', 'tiba', 'lag', 'patah', 'padahal', 'di', 'gameplay', 'nya', 'ga', 'lag', 'tolonglah', 'min', 'sy', 'main', 'coc', 'udh', 'dari', 'lama', 'tolong', 'perbaiki']",
                  "['tolonglah', 'perbaiki', 'masalah', 'supercell', 'id', 'misalnya', 'kaya', 'bug', 'kode', 'verif', 'muncul', 'trus', 'sy', 'mau', 'masukkan', 'akun', 'sy', 'yg', 'pas', 'masuk', 'supercell', 'id', 'tiba', 'lag', 'patah', 'padahal', 'gameplay', 'lag', 'tolonglah', 'min', 'sy', 'main', 'coc', 'udh', 'lama', 'perbaiki']",
                  "tolong baik masalah supercell id misal kaya bug kode verif muncul trus sy mau masuk akun sy yg pas masuk supercell id tiba lag patah padahal gameplay lag tolong min sy main coc udh lama baik"
                ],
                [
                  "48",
                  "Kalo boleh, untuk pihak supercell waktu hero di up tetap bisa di gunakan dan dimainkan seperti event kemarin waktu hero tetap bisa di gunakan walau sedang di up bedanya ini permanen jadi gk ada batas waktu dan sistem nya bukan event tapi penyesuaian baru",
                  "Kalo boleh untuk pihak supercell waktu hero di up tetap bisa di gunakan dan dimainkan seperti event kemarin waktu hero tetap bisa di gunakan walau sedang di up bedanya ini permanen jadi gk ada batas waktu dan sistem nya bukan event tapi penyesuaian baru",
                  "kalo boleh untuk pihak supercell waktu hero di up tetap bisa di gunakan dan dimainkan seperti event kemarin waktu hero tetap bisa di gunakan walau sedang di up bedanya ini permanen jadi gk ada batas waktu dan sistem nya bukan event tapi penyesuaian baru",
                  "kalo boleh untuk pihak supercell waktu hero di up tetap bisa di gunakan dan dimainkan seperti event kemarin waktu hero tetap bisa di gunakan walau sedang di up bedanya ini permanen jadi gk ada batas waktu dan sistem nya bukan event tapi penyesuaian baru",
                  "['kalo', 'boleh', 'untuk', 'pihak', 'supercell', 'waktu', 'hero', 'di', 'up', 'tetap', 'bisa', 'di', 'gunakan', 'dan', 'dimainkan', 'seperti', 'event', 'kemarin', 'waktu', 'hero', 'tetap', 'bisa', 'di', 'gunakan', 'walau', 'sedang', 'di', 'up', 'bedanya', 'ini', 'permanen', 'jadi', 'gk', 'ada', 'batas', 'waktu', 'dan', 'sistem', 'nya', 'bukan', 'event', 'tapi', 'penyesuaian', 'baru']",
                  "['kalo', 'pihak', 'supercell', 'waktu', 'hero', 'tetap', 'gunakan', 'dimainkan', 'event', 'kemarin', 'waktu', 'hero', 'tetap', 'gunakan', 'sedang', 'bedanya', 'permanen', 'jadi', 'gk', 'batas', 'waktu', 'sistem', 'bukan', 'event', 'penyesuaian', 'baru']",
                  "kalo pihak supercell waktu hero tetap guna main event kemarin waktu hero tetap guna sedang beda permanen jadi gk batas waktu sistem bukan event sesuai baru"
                ],
                [
                  "49",
                  "Kekuranganya dari game ini Waktu upgrade nya agak lama okelah saya masih bisa. Dan kekurangan ke 2 ketika waktu nyerang entah itu bug atau apa. Bisa kaya bingungan. Awal nyerang target A bisa berubah haluan jadi B yang di serang. Hadeh. itu aja komplain dari saya terima kasih. semoga bisa di terima dan dapat perbaikan.",
                  "Kekuranganya dari game ini Waktu upgrade nya agak lama okelah saya masih bisa Dan kekurangan ke  ketika waktu nyerang entah itu bug atau apa Bisa kaya bingungan Awal nyerang target A bisa berubah haluan jadi B yang di serang Hadeh itu aja komplain dari saya terima kasih semoga bisa di terima dan dapat perbaikan",
                  "kekuranganya dari game ini waktu upgrade nya agak lama okelah saya masih bisa dan kekurangan ke  ketika waktu nyerang entah itu bug atau apa bisa kaya bingungan awal nyerang target a bisa berubah haluan jadi b yang di serang hadeh itu aja komplain dari saya terima kasih semoga bisa di terima dan dapat perbaikan",
                  "kekuranganya dari game ini waktu upgrade nya agak lama okelah saya masih bisa dan kekurangan ke ketika waktu nyerang entah itu bug atau apa bisa kaya bingungan awal nyerang target a bisa berubah haluan jadi b yang di serang hadeh itu aja komplain dari saya terima kasih semoga bisa di terima dan dapat perbaikan",
                  "['kekuranganya', 'dari', 'game', 'ini', 'waktu', 'upgrade', 'nya', 'agak', 'lama', 'okelah', 'saya', 'masih', 'bisa', 'dan', 'kekurangan', 'ke', 'ketika', 'waktu', 'nyerang', 'entah', 'itu', 'bug', 'atau', 'apa', 'bisa', 'kaya', 'bingungan', 'awal', 'nyerang', 'target', 'a', 'bisa', 'berubah', 'haluan', 'jadi', 'b', 'yang', 'di', 'serang', 'hadeh', 'itu', 'aja', 'komplain', 'dari', 'saya', 'terima', 'kasih', 'semoga', 'bisa', 'di', 'terima', 'dan', 'dapat', 'perbaikan']",
                  "['kekuranganya', 'game', 'waktu', 'upgrade', 'lama', 'okelah', 'kekurangan', 'waktu', 'nyerang', 'entah', 'bug', 'apa', 'kaya', 'bingungan', 'awal', 'nyerang', 'target', 'berubah', 'haluan', 'jadi', 'b', 'serang', 'hadeh', 'aja', 'komplain', 'terima', 'kasih', 'semoga', 'terima', 'perbaikan']",
                  "kekuranganya game waktu upgrade lama oke kurang waktu nyerang entah bug apa kaya bingung awal nyerang target ubah haluan jadi b serang hadeh aja komplain terima kasih moga terima baik"
                ]
              ],
              "shape": {
                "columns": 7,
                "rows": 12000
              }
            },
            "text/html": [
              "<div>\n",
              "<style scoped>\n",
              "    .dataframe tbody tr th:only-of-type {\n",
              "        vertical-align: middle;\n",
              "    }\n",
              "\n",
              "    .dataframe tbody tr th {\n",
              "        vertical-align: top;\n",
              "    }\n",
              "\n",
              "    .dataframe thead th {\n",
              "        text-align: right;\n",
              "    }\n",
              "</style>\n",
              "<table border=\"1\" class=\"dataframe\">\n",
              "  <thead>\n",
              "    <tr style=\"text-align: right;\">\n",
              "      <th></th>\n",
              "      <th>review</th>\n",
              "      <th>text_clean</th>\n",
              "      <th>text_casefoldingText</th>\n",
              "      <th>text_slangwords</th>\n",
              "      <th>text_tokenizingText</th>\n",
              "      <th>text_stopword</th>\n",
              "      <th>text_stemming</th>\n",
              "    </tr>\n",
              "  </thead>\n",
              "  <tbody>\n",
              "    <tr>\n",
              "      <th>0</th>\n",
              "      <td>Clash of clans sekarang sering gangguan atau l...</td>\n",
              "      <td>Clash of clans sekarang sering gangguan atau l...</td>\n",
              "      <td>clash of clans sekarang sering gangguan atau l...</td>\n",
              "      <td>clash of clans sekarang sering gangguan atau l...</td>\n",
              "      <td>[clash, of, clans, sekarang, sering, gangguan,...</td>\n",
              "      <td>[clash, clans, sekarang, sering, gangguan, los...</td>\n",
              "      <td>clash clans sekarang sering ganggu lose connec...</td>\n",
              "    </tr>\n",
              "    <tr>\n",
              "      <th>1</th>\n",
              "      <td>Update bug update terbaru : 1.utk pelatihan pa...</td>\n",
              "      <td>Update bug update terbaru  utk pelatihan pasuk...</td>\n",
              "      <td>update bug update terbaru  utk pelatihan pasuk...</td>\n",
              "      <td>update bug update terbaru utk pelatihan pasuka...</td>\n",
              "      <td>[update, bug, update, terbaru, utk, pelatihan,...</td>\n",
              "      <td>[update, bug, update, terbaru, utk, pelatihan,...</td>\n",
              "      <td>update bug update baru utk latih pasu pakai wa...</td>\n",
              "    </tr>\n",
              "    <tr>\n",
              "      <th>2</th>\n",
              "      <td>Yth SuperCell, Coba buat suatu gebrakan yang b...</td>\n",
              "      <td>Yth SuperCell Coba buat suatu gebrakan yang be...</td>\n",
              "      <td>yth supercell coba buat suatu gebrakan yang be...</td>\n",
              "      <td>yth supercell coba buat suatu gebrakan yang be...</td>\n",
              "      <td>[yth, supercell, coba, buat, suatu, gebrakan, ...</td>\n",
              "      <td>[yth, supercell, coba, buat, suatu, gebrakan, ...</td>\n",
              "      <td>yth supercell coba buat suatu gebrak beda sara...</td>\n",
              "    </tr>\n",
              "    <tr>\n",
              "      <th>3</th>\n",
              "      <td>aku kurangin bintang nya satu jadi bintang emp...</td>\n",
              "      <td>aku kurangin bintang nya satu jadi bintang emp...</td>\n",
              "      <td>aku kurangin bintang nya satu jadi bintang emp...</td>\n",
              "      <td>aku kurangin bintang nya satu jadi bintang emp...</td>\n",
              "      <td>[aku, kurangin, bintang, nya, satu, jadi, bint...</td>\n",
              "      <td>[aku, kurangin, bintang, satu, jadi, bintang, ...</td>\n",
              "      <td>aku rangin bintang satu jadi bintang empat kel...</td>\n",
              "    </tr>\n",
              "    <tr>\n",
              "      <th>4</th>\n",
              "      <td>Game nya makin lama makin aneh karena: 1. Trof...</td>\n",
              "      <td>Game nya makin lama makin aneh karena  Trofiny...</td>\n",
              "      <td>game nya makin lama makin aneh karena  trofiny...</td>\n",
              "      <td>game nya makin lama makin aneh karena trofinya...</td>\n",
              "      <td>[game, nya, makin, lama, makin, aneh, karena, ...</td>\n",
              "      <td>[game, makin, lama, makin, aneh, trofinya, sed...</td>\n",
              "      <td>game makin lama makin aneh trofi sedikit kali ...</td>\n",
              "    </tr>\n",
              "    <tr>\n",
              "      <th>...</th>\n",
              "      <td>...</td>\n",
              "      <td>...</td>\n",
              "      <td>...</td>\n",
              "      <td>...</td>\n",
              "      <td>...</td>\n",
              "      <td>...</td>\n",
              "      <td>...</td>\n",
              "    </tr>\n",
              "    <tr>\n",
              "      <th>11995</th>\n",
              "      <td>Maaf supercell pembaruannya kurang bagus.. Apa...</td>\n",
              "      <td>Maaf supercell pembaruannya kurang bagus Apala...</td>\n",
              "      <td>maaf supercell pembaruannya kurang bagus apala...</td>\n",
              "      <td>maaf supercell pembaruannya kurang bagus apala...</td>\n",
              "      <td>[maaf, supercell, pembaruannya, kurang, bagus,...</td>\n",
              "      <td>[maaf, supercell, pembaruannya, kurang, bagus,...</td>\n",
              "      <td>maaf supercell baru kurang bagus trophy legend...</td>\n",
              "    </tr>\n",
              "    <tr>\n",
              "      <th>11996</th>\n",
              "      <td>update gamenya terlalu sering, Yang bagus cuma...</td>\n",
              "      <td>update gamenya terlalu sering Yang bagus cuma ...</td>\n",
              "      <td>update gamenya terlalu sering yang bagus cuma ...</td>\n",
              "      <td>update gamenya terlalu sering yang bagus cuma ...</td>\n",
              "      <td>[update, gamenya, terlalu, sering, yang, bagus...</td>\n",
              "      <td>[update, gamenya, terlalu, sering, bagus, cuma...</td>\n",
              "      <td>update gamenya terlalu sering bagus cuma grafi...</td>\n",
              "    </tr>\n",
              "    <tr>\n",
              "      <th>11997</th>\n",
              "      <td>Please Kembalikan barak !, Karena itu adalah s...</td>\n",
              "      <td>Please Kembalikan barak  Karena itu adalah seb...</td>\n",
              "      <td>please kembalikan barak  karena itu adalah seb...</td>\n",
              "      <td>please kembalikan barak karena itu adalah sebu...</td>\n",
              "      <td>[please, kembalikan, barak, karena, itu, adala...</td>\n",
              "      <td>[please, kembalikan, barak, sebuah, bangunan, ...</td>\n",
              "      <td>please kembali barak buah bangun sangat pentin...</td>\n",
              "    </tr>\n",
              "    <tr>\n",
              "      <th>11998</th>\n",
              "      <td>Untuk game COC ini seru, menantang, dan bertah...</td>\n",
              "      <td>Untuk game COC ini seru menantang dan bertahan...</td>\n",
              "      <td>untuk game coc ini seru menantang dan bertahan...</td>\n",
              "      <td>untuk game coc ini seru menantang dan bertahan...</td>\n",
              "      <td>[untuk, game, coc, ini, seru, menantang, dan, ...</td>\n",
              "      <td>[game, coc, seru, menantang, bertahan, musuh, ...</td>\n",
              "      <td>game coc seru tantang tahan musuh sya tingkat ...</td>\n",
              "    </tr>\n",
              "    <tr>\n",
              "      <th>11999</th>\n",
              "      <td>saya mau protes atas pembaruan kali ini.udah d...</td>\n",
              "      <td>saya mau protes atas pembaruan kali iniudah di...</td>\n",
              "      <td>saya mau protes atas pembaruan kali iniudah di...</td>\n",
              "      <td>saya mau protes atas pembaruan kali iniudah di...</td>\n",
              "      <td>[saya, mau, protes, atas, pembaruan, kali, ini...</td>\n",
              "      <td>[mau, protes, atas, pembaruan, kali, iniudah, ...</td>\n",
              "      <td>mau protes atas baru kali iniudah baru kok mal...</td>\n",
              "    </tr>\n",
              "  </tbody>\n",
              "</table>\n",
              "<p>12000 rows × 7 columns</p>\n",
              "</div>"
            ],
            "text/plain": [
              "                                                  review  \\\n",
              "0      Clash of clans sekarang sering gangguan atau l...   \n",
              "1      Update bug update terbaru : 1.utk pelatihan pa...   \n",
              "2      Yth SuperCell, Coba buat suatu gebrakan yang b...   \n",
              "3      aku kurangin bintang nya satu jadi bintang emp...   \n",
              "4      Game nya makin lama makin aneh karena: 1. Trof...   \n",
              "...                                                  ...   \n",
              "11995  Maaf supercell pembaruannya kurang bagus.. Apa...   \n",
              "11996  update gamenya terlalu sering, Yang bagus cuma...   \n",
              "11997  Please Kembalikan barak !, Karena itu adalah s...   \n",
              "11998  Untuk game COC ini seru, menantang, dan bertah...   \n",
              "11999  saya mau protes atas pembaruan kali ini.udah d...   \n",
              "\n",
              "                                              text_clean  \\\n",
              "0      Clash of clans sekarang sering gangguan atau l...   \n",
              "1      Update bug update terbaru  utk pelatihan pasuk...   \n",
              "2      Yth SuperCell Coba buat suatu gebrakan yang be...   \n",
              "3      aku kurangin bintang nya satu jadi bintang emp...   \n",
              "4      Game nya makin lama makin aneh karena  Trofiny...   \n",
              "...                                                  ...   \n",
              "11995  Maaf supercell pembaruannya kurang bagus Apala...   \n",
              "11996  update gamenya terlalu sering Yang bagus cuma ...   \n",
              "11997  Please Kembalikan barak  Karena itu adalah seb...   \n",
              "11998  Untuk game COC ini seru menantang dan bertahan...   \n",
              "11999  saya mau protes atas pembaruan kali iniudah di...   \n",
              "\n",
              "                                    text_casefoldingText  \\\n",
              "0      clash of clans sekarang sering gangguan atau l...   \n",
              "1      update bug update terbaru  utk pelatihan pasuk...   \n",
              "2      yth supercell coba buat suatu gebrakan yang be...   \n",
              "3      aku kurangin bintang nya satu jadi bintang emp...   \n",
              "4      game nya makin lama makin aneh karena  trofiny...   \n",
              "...                                                  ...   \n",
              "11995  maaf supercell pembaruannya kurang bagus apala...   \n",
              "11996  update gamenya terlalu sering yang bagus cuma ...   \n",
              "11997  please kembalikan barak  karena itu adalah seb...   \n",
              "11998  untuk game coc ini seru menantang dan bertahan...   \n",
              "11999  saya mau protes atas pembaruan kali iniudah di...   \n",
              "\n",
              "                                         text_slangwords  \\\n",
              "0      clash of clans sekarang sering gangguan atau l...   \n",
              "1      update bug update terbaru utk pelatihan pasuka...   \n",
              "2      yth supercell coba buat suatu gebrakan yang be...   \n",
              "3      aku kurangin bintang nya satu jadi bintang emp...   \n",
              "4      game nya makin lama makin aneh karena trofinya...   \n",
              "...                                                  ...   \n",
              "11995  maaf supercell pembaruannya kurang bagus apala...   \n",
              "11996  update gamenya terlalu sering yang bagus cuma ...   \n",
              "11997  please kembalikan barak karena itu adalah sebu...   \n",
              "11998  untuk game coc ini seru menantang dan bertahan...   \n",
              "11999  saya mau protes atas pembaruan kali iniudah di...   \n",
              "\n",
              "                                     text_tokenizingText  \\\n",
              "0      [clash, of, clans, sekarang, sering, gangguan,...   \n",
              "1      [update, bug, update, terbaru, utk, pelatihan,...   \n",
              "2      [yth, supercell, coba, buat, suatu, gebrakan, ...   \n",
              "3      [aku, kurangin, bintang, nya, satu, jadi, bint...   \n",
              "4      [game, nya, makin, lama, makin, aneh, karena, ...   \n",
              "...                                                  ...   \n",
              "11995  [maaf, supercell, pembaruannya, kurang, bagus,...   \n",
              "11996  [update, gamenya, terlalu, sering, yang, bagus...   \n",
              "11997  [please, kembalikan, barak, karena, itu, adala...   \n",
              "11998  [untuk, game, coc, ini, seru, menantang, dan, ...   \n",
              "11999  [saya, mau, protes, atas, pembaruan, kali, ini...   \n",
              "\n",
              "                                           text_stopword  \\\n",
              "0      [clash, clans, sekarang, sering, gangguan, los...   \n",
              "1      [update, bug, update, terbaru, utk, pelatihan,...   \n",
              "2      [yth, supercell, coba, buat, suatu, gebrakan, ...   \n",
              "3      [aku, kurangin, bintang, satu, jadi, bintang, ...   \n",
              "4      [game, makin, lama, makin, aneh, trofinya, sed...   \n",
              "...                                                  ...   \n",
              "11995  [maaf, supercell, pembaruannya, kurang, bagus,...   \n",
              "11996  [update, gamenya, terlalu, sering, bagus, cuma...   \n",
              "11997  [please, kembalikan, barak, sebuah, bangunan, ...   \n",
              "11998  [game, coc, seru, menantang, bertahan, musuh, ...   \n",
              "11999  [mau, protes, atas, pembaruan, kali, iniudah, ...   \n",
              "\n",
              "                                           text_stemming  \n",
              "0      clash clans sekarang sering ganggu lose connec...  \n",
              "1      update bug update baru utk latih pasu pakai wa...  \n",
              "2      yth supercell coba buat suatu gebrak beda sara...  \n",
              "3      aku rangin bintang satu jadi bintang empat kel...  \n",
              "4      game makin lama makin aneh trofi sedikit kali ...  \n",
              "...                                                  ...  \n",
              "11995  maaf supercell baru kurang bagus trophy legend...  \n",
              "11996  update gamenya terlalu sering bagus cuma grafi...  \n",
              "11997  please kembali barak buah bangun sangat pentin...  \n",
              "11998  game coc seru tantang tahan musuh sya tingkat ...  \n",
              "11999  mau protes atas baru kali iniudah baru kok mal...  \n",
              "\n",
              "[12000 rows x 7 columns]"
            ]
          },
          "execution_count": 53,
          "metadata": {},
          "output_type": "execute_result"
        }
      ],
      "source": [
        "clean_df"
      ]
    },
    {
      "cell_type": "markdown",
      "metadata": {
        "id": "okilzOeOzBVa"
      },
      "source": [
        "## Labeling Data"
      ]
    },
    {
      "cell_type": "code",
      "execution_count": 54,
      "metadata": {
        "id": "Q1g46Gd-zAyq"
      },
      "outputs": [
        {
          "name": "stdout",
          "output_type": "stream",
          "text": [
            "Jumlah Ulasan 12000\n"
          ]
        }
      ],
      "source": [
        "clean_df = clean_df.dropna()\n",
        "print(\"Jumlah Ulasan\", clean_df.shape[0])"
      ]
    },
    {
      "cell_type": "code",
      "execution_count": 55,
      "metadata": {
        "id": "4NXxk99DzFDq"
      },
      "outputs": [],
      "source": [
        "lexicon_positive = dict()\n",
        "\n",
        "response = requests.get('https://raw.githubusercontent.com/angelmetanosaa/dataset/main/lexicon_positive.csv')\n",
        "\n",
        "if response.status_code == 200:\n",
        "    reader = csv.reader(StringIO(response.text), delimiter=',')\n",
        "    for row in reader:\n",
        "        lexicon_positive[row[0]] = int(row[1])\n",
        "else:\n",
        "    print(\"Failed to fetch positive lexicon data\")\n",
        "\n",
        "lexicon_negative = dict()\n",
        "\n",
        "response = requests.get('https://raw.githubusercontent.com/angelmetanosaa/dataset/main/lexicon_negative.csv')\n",
        "\n",
        "if response.status_code == 200:\n",
        "    reader = csv.reader(StringIO(response.text), delimiter=',')\n",
        "    for row in reader:\n",
        "        lexicon_negative[row[0]] = int(row[1])\n",
        "else:\n",
        "    print(\"Failed to fetch negative lexicon data\")"
      ]
    },
    {
      "cell_type": "code",
      "execution_count": 56,
      "metadata": {
        "id": "LbkMWwaKzHAZ"
      },
      "outputs": [],
      "source": [
        "def sentiment_analysis_lexicon_indonesia(text):\n",
        "    score = 0\n",
        "    for word in text.split():\n",
        "        if (word in lexicon_positive):\n",
        "            score = score + lexicon_positive[word]\n",
        "\n",
        "    for word in text.split():\n",
        "        if (word in lexicon_negative):\n",
        "            score = score + lexicon_negative[word]\n",
        "\n",
        "    polarity=''\n",
        "\n",
        "    if (score > 0):\n",
        "        polarity = 'positive'\n",
        "    elif (score < 0):\n",
        "        polarity = 'negative'\n",
        "    else:\n",
        "        polarity = 'neutral'\n",
        "\n",
        "    return score, polarity"
      ]
    },
    {
      "cell_type": "code",
      "execution_count": 57,
      "metadata": {
        "id": "vEUMWwxXzIXY"
      },
      "outputs": [
        {
          "name": "stdout",
          "output_type": "stream",
          "text": [
            "sentimen\n",
            "negative    7616\n",
            "positive    3758\n",
            "neutral      626\n",
            "Name: count, dtype: int64\n"
          ]
        }
      ],
      "source": [
        "results = clean_df['text_stemming'].apply(sentiment_analysis_lexicon_indonesia)\n",
        "results = list(zip(*results))\n",
        "clean_df['sentimen_score'] = results[0]\n",
        "clean_df['sentimen'] = results[1]\n",
        "print(clean_df['sentimen'].value_counts())"
      ]
    },
    {
      "cell_type": "code",
      "execution_count": 58,
      "metadata": {
        "id": "yylPPOXezKKu"
      },
      "outputs": [],
      "source": [
        "clean_df.to_csv('labeling_data.csv', index=False)"
      ]
    }
  ],
  "metadata": {
    "accelerator": "GPU",
    "colab": {
      "gpuType": "T4",
      "provenance": []
    },
    "kernelspec": {
      "display_name": ".venv",
      "language": "python",
      "name": "python3"
    },
    "language_info": {
      "codemirror_mode": {
        "name": "ipython",
        "version": 3
      },
      "file_extension": ".py",
      "mimetype": "text/x-python",
      "name": "python",
      "nbconvert_exporter": "python",
      "pygments_lexer": "ipython3",
      "version": "3.12.9"
    }
  },
  "nbformat": 4,
  "nbformat_minor": 0
}
